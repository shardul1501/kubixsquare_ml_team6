{
 "cells": [
  {
   "cell_type": "code",
   "execution_count": 1,
   "id": "6d1a1b6e",
   "metadata": {
    "_cell_guid": "b1076dfc-b9ad-4769-8c92-a6c4dae69d19",
    "_uuid": "8f2839f25d086af736a60e9eeb907d3b93b6e0e5",
    "execution": {
     "iopub.execute_input": "2021-08-08T05:46:35.054033Z",
     "iopub.status.busy": "2021-08-08T05:46:35.053447Z",
     "iopub.status.idle": "2021-08-08T05:46:35.066354Z",
     "shell.execute_reply": "2021-08-08T05:46:35.066971Z",
     "shell.execute_reply.started": "2021-08-08T04:05:42.637995Z"
    },
    "papermill": {
     "duration": 0.052196,
     "end_time": "2021-08-08T05:46:35.067284",
     "exception": false,
     "start_time": "2021-08-08T05:46:35.015088",
     "status": "completed"
    },
    "tags": []
   },
   "outputs": [
    {
     "name": "stdout",
     "output_type": "stream",
     "text": [
      "/kaggle/input/top-play-store-games/android-games.csv\n"
     ]
    }
   ],
   "source": [
    "# This Python 3 environment comes with many helpful analytics libraries installed\n",
    "# It is defined by the kaggle/python Docker image: https://github.com/kaggle/docker-python\n",
    "# For example, here's several helpful packages to load\n",
    "\n",
    "import numpy as np # linear algebra\n",
    "import pandas as pd # data processing, CSV file I/O (e.g. pd.read_csv)\n",
    "\n",
    "# Input data files are available in the read-only \"../input/\" directory\n",
    "# For example, running this (by clicking run or pressing Shift+Enter) will list all files under the input directory\n",
    "\n",
    "import os\n",
    "for dirname, _, filenames in os.walk('/kaggle/input'):\n",
    "    for filename in filenames:\n",
    "        print(os.path.join(dirname, filename))\n",
    "\n",
    "# You can write up to 20GB to the current directory (/kaggle/working/) that gets preserved as output when you create a version using \"Save & Run All\" \n",
    "# You can also write temporary files to /kaggle/temp/, but they won't be saved outside of the current session"
   ]
  },
  {
   "cell_type": "markdown",
   "id": "b1296308",
   "metadata": {
    "papermill": {
     "duration": 0.027345,
     "end_time": "2021-08-08T05:46:35.123189",
     "exception": false,
     "start_time": "2021-08-08T05:46:35.095844",
     "status": "completed"
    },
    "tags": []
   },
   "source": [
    "**1. Import the Required Libraries**"
   ]
  },
  {
   "cell_type": "code",
   "execution_count": 2,
   "id": "fb40b204",
   "metadata": {
    "execution": {
     "iopub.execute_input": "2021-08-08T05:46:35.183254Z",
     "iopub.status.busy": "2021-08-08T05:46:35.182608Z",
     "iopub.status.idle": "2021-08-08T05:46:37.534505Z",
     "shell.execute_reply": "2021-08-08T05:46:37.532998Z",
     "shell.execute_reply.started": "2021-08-08T04:31:12.379167Z"
    },
    "papermill": {
     "duration": 2.384168,
     "end_time": "2021-08-08T05:46:37.534753",
     "exception": false,
     "start_time": "2021-08-08T05:46:35.150585",
     "status": "completed"
    },
    "tags": []
   },
   "outputs": [],
   "source": [
    "import pandas as pd\n",
    "import numpy as np\n",
    "import seaborn as sns\n",
    "import matplotlib.pyplot as plt\n",
    "import plotly.express as px"
   ]
  },
  {
   "cell_type": "markdown",
   "id": "9011c822",
   "metadata": {
    "papermill": {
     "duration": 0.028814,
     "end_time": "2021-08-08T05:46:37.604040",
     "exception": false,
     "start_time": "2021-08-08T05:46:37.575226",
     "status": "completed"
    },
    "tags": []
   },
   "source": [
    "**2. Look for the basic information about the dataset**"
   ]
  },
  {
   "cell_type": "code",
   "execution_count": 3,
   "id": "df68a4f1",
   "metadata": {
    "execution": {
     "iopub.execute_input": "2021-08-08T05:46:37.662041Z",
     "iopub.status.busy": "2021-08-08T05:46:37.661296Z",
     "iopub.status.idle": "2021-08-08T05:46:37.715084Z",
     "shell.execute_reply": "2021-08-08T05:46:37.715552Z",
     "shell.execute_reply.started": "2021-08-08T04:09:57.263939Z"
    },
    "papermill": {
     "duration": 0.084971,
     "end_time": "2021-08-08T05:46:37.715724",
     "exception": false,
     "start_time": "2021-08-08T05:46:37.630753",
     "status": "completed"
    },
    "tags": []
   },
   "outputs": [
    {
     "data": {
      "text/html": [
       "<div>\n",
       "<style scoped>\n",
       "    .dataframe tbody tr th:only-of-type {\n",
       "        vertical-align: middle;\n",
       "    }\n",
       "\n",
       "    .dataframe tbody tr th {\n",
       "        vertical-align: top;\n",
       "    }\n",
       "\n",
       "    .dataframe thead th {\n",
       "        text-align: right;\n",
       "    }\n",
       "</style>\n",
       "<table border=\"1\" class=\"dataframe\">\n",
       "  <thead>\n",
       "    <tr style=\"text-align: right;\">\n",
       "      <th></th>\n",
       "      <th>rank</th>\n",
       "      <th>title</th>\n",
       "      <th>total ratings</th>\n",
       "      <th>installs</th>\n",
       "      <th>average rating</th>\n",
       "      <th>growth (30 days)</th>\n",
       "      <th>growth (60 days)</th>\n",
       "      <th>price</th>\n",
       "      <th>category</th>\n",
       "      <th>5 star ratings</th>\n",
       "      <th>4 star ratings</th>\n",
       "      <th>3 star ratings</th>\n",
       "      <th>2 star ratings</th>\n",
       "      <th>1 star ratings</th>\n",
       "      <th>paid</th>\n",
       "    </tr>\n",
       "  </thead>\n",
       "  <tbody>\n",
       "    <tr>\n",
       "      <th>0</th>\n",
       "      <td>1</td>\n",
       "      <td>Garena Free Fire- World Series</td>\n",
       "      <td>86273129</td>\n",
       "      <td>500.0 M</td>\n",
       "      <td>4</td>\n",
       "      <td>2.1</td>\n",
       "      <td>6.9</td>\n",
       "      <td>0.0</td>\n",
       "      <td>GAME ACTION</td>\n",
       "      <td>63546766</td>\n",
       "      <td>4949507</td>\n",
       "      <td>3158756</td>\n",
       "      <td>2122183</td>\n",
       "      <td>12495915</td>\n",
       "      <td>False</td>\n",
       "    </tr>\n",
       "    <tr>\n",
       "      <th>1</th>\n",
       "      <td>2</td>\n",
       "      <td>PUBG MOBILE - Traverse</td>\n",
       "      <td>37276732</td>\n",
       "      <td>500.0 M</td>\n",
       "      <td>4</td>\n",
       "      <td>1.8</td>\n",
       "      <td>3.6</td>\n",
       "      <td>0.0</td>\n",
       "      <td>GAME ACTION</td>\n",
       "      <td>28339753</td>\n",
       "      <td>2164478</td>\n",
       "      <td>1253185</td>\n",
       "      <td>809821</td>\n",
       "      <td>4709492</td>\n",
       "      <td>False</td>\n",
       "    </tr>\n",
       "    <tr>\n",
       "      <th>2</th>\n",
       "      <td>3</td>\n",
       "      <td>Mobile Legends: Bang Bang</td>\n",
       "      <td>26663595</td>\n",
       "      <td>100.0 M</td>\n",
       "      <td>4</td>\n",
       "      <td>1.5</td>\n",
       "      <td>3.2</td>\n",
       "      <td>0.0</td>\n",
       "      <td>GAME ACTION</td>\n",
       "      <td>18777988</td>\n",
       "      <td>1812094</td>\n",
       "      <td>1050600</td>\n",
       "      <td>713912</td>\n",
       "      <td>4308998</td>\n",
       "      <td>False</td>\n",
       "    </tr>\n",
       "    <tr>\n",
       "      <th>3</th>\n",
       "      <td>4</td>\n",
       "      <td>Brawl Stars</td>\n",
       "      <td>17971552</td>\n",
       "      <td>100.0 M</td>\n",
       "      <td>4</td>\n",
       "      <td>1.4</td>\n",
       "      <td>4.4</td>\n",
       "      <td>0.0</td>\n",
       "      <td>GAME ACTION</td>\n",
       "      <td>13018610</td>\n",
       "      <td>1552950</td>\n",
       "      <td>774012</td>\n",
       "      <td>406184</td>\n",
       "      <td>2219794</td>\n",
       "      <td>False</td>\n",
       "    </tr>\n",
       "    <tr>\n",
       "      <th>4</th>\n",
       "      <td>5</td>\n",
       "      <td>Sniper 3D: Fun Free Online FPS Shooting Game</td>\n",
       "      <td>14464235</td>\n",
       "      <td>500.0 M</td>\n",
       "      <td>4</td>\n",
       "      <td>0.8</td>\n",
       "      <td>1.5</td>\n",
       "      <td>0.0</td>\n",
       "      <td>GAME ACTION</td>\n",
       "      <td>9827328</td>\n",
       "      <td>2124154</td>\n",
       "      <td>1047741</td>\n",
       "      <td>380670</td>\n",
       "      <td>1084340</td>\n",
       "      <td>False</td>\n",
       "    </tr>\n",
       "  </tbody>\n",
       "</table>\n",
       "</div>"
      ],
      "text/plain": [
       "   rank                                         title  total ratings installs  \\\n",
       "0     1                Garena Free Fire- World Series       86273129  500.0 M   \n",
       "1     2                        PUBG MOBILE - Traverse       37276732  500.0 M   \n",
       "2     3                     Mobile Legends: Bang Bang       26663595  100.0 M   \n",
       "3     4                                   Brawl Stars       17971552  100.0 M   \n",
       "4     5  Sniper 3D: Fun Free Online FPS Shooting Game       14464235  500.0 M   \n",
       "\n",
       "   average rating  growth (30 days)  growth (60 days)  price     category  \\\n",
       "0               4               2.1               6.9    0.0  GAME ACTION   \n",
       "1               4               1.8               3.6    0.0  GAME ACTION   \n",
       "2               4               1.5               3.2    0.0  GAME ACTION   \n",
       "3               4               1.4               4.4    0.0  GAME ACTION   \n",
       "4               4               0.8               1.5    0.0  GAME ACTION   \n",
       "\n",
       "   5 star ratings  4 star ratings  3 star ratings  2 star ratings  \\\n",
       "0        63546766         4949507         3158756         2122183   \n",
       "1        28339753         2164478         1253185          809821   \n",
       "2        18777988         1812094         1050600          713912   \n",
       "3        13018610         1552950          774012          406184   \n",
       "4         9827328         2124154         1047741          380670   \n",
       "\n",
       "   1 star ratings   paid  \n",
       "0        12495915  False  \n",
       "1         4709492  False  \n",
       "2         4308998  False  \n",
       "3         2219794  False  \n",
       "4         1084340  False  "
      ]
     },
     "execution_count": 3,
     "metadata": {},
     "output_type": "execute_result"
    }
   ],
   "source": [
    "data = pd.read_csv(\"../input/top-play-store-games/android-games.csv\")\n",
    "data.head()"
   ]
  },
  {
   "cell_type": "markdown",
   "id": "94c8c75f",
   "metadata": {
    "papermill": {
     "duration": 0.027779,
     "end_time": "2021-08-08T05:46:37.770620",
     "exception": false,
     "start_time": "2021-08-08T05:46:37.742841",
     "status": "completed"
    },
    "tags": []
   },
   "source": [
    "**3. Knowing about the columns in the dataset**"
   ]
  },
  {
   "cell_type": "code",
   "execution_count": 4,
   "id": "3588ba9f",
   "metadata": {
    "execution": {
     "iopub.execute_input": "2021-08-08T05:46:37.836031Z",
     "iopub.status.busy": "2021-08-08T05:46:37.835081Z",
     "iopub.status.idle": "2021-08-08T05:46:37.839382Z",
     "shell.execute_reply": "2021-08-08T05:46:37.838807Z",
     "shell.execute_reply.started": "2021-08-08T04:10:46.063181Z"
    },
    "papermill": {
     "duration": 0.03991,
     "end_time": "2021-08-08T05:46:37.839512",
     "exception": false,
     "start_time": "2021-08-08T05:46:37.799602",
     "status": "completed"
    },
    "tags": []
   },
   "outputs": [
    {
     "data": {
      "text/html": [
       "<div>\n",
       "<style scoped>\n",
       "    .dataframe tbody tr th:only-of-type {\n",
       "        vertical-align: middle;\n",
       "    }\n",
       "\n",
       "    .dataframe tbody tr th {\n",
       "        vertical-align: top;\n",
       "    }\n",
       "\n",
       "    .dataframe thead th {\n",
       "        text-align: right;\n",
       "    }\n",
       "</style>\n",
       "<table border=\"1\" class=\"dataframe\">\n",
       "  <thead>\n",
       "    <tr style=\"text-align: right;\">\n",
       "      <th></th>\n",
       "      <th>Columns</th>\n",
       "    </tr>\n",
       "  </thead>\n",
       "  <tbody>\n",
       "    <tr>\n",
       "      <th>0</th>\n",
       "      <td>rank</td>\n",
       "    </tr>\n",
       "    <tr>\n",
       "      <th>1</th>\n",
       "      <td>title</td>\n",
       "    </tr>\n",
       "    <tr>\n",
       "      <th>2</th>\n",
       "      <td>total ratings</td>\n",
       "    </tr>\n",
       "    <tr>\n",
       "      <th>3</th>\n",
       "      <td>installs</td>\n",
       "    </tr>\n",
       "    <tr>\n",
       "      <th>4</th>\n",
       "      <td>average rating</td>\n",
       "    </tr>\n",
       "    <tr>\n",
       "      <th>5</th>\n",
       "      <td>growth (30 days)</td>\n",
       "    </tr>\n",
       "    <tr>\n",
       "      <th>6</th>\n",
       "      <td>growth (60 days)</td>\n",
       "    </tr>\n",
       "    <tr>\n",
       "      <th>7</th>\n",
       "      <td>price</td>\n",
       "    </tr>\n",
       "    <tr>\n",
       "      <th>8</th>\n",
       "      <td>category</td>\n",
       "    </tr>\n",
       "    <tr>\n",
       "      <th>9</th>\n",
       "      <td>5 star ratings</td>\n",
       "    </tr>\n",
       "    <tr>\n",
       "      <th>10</th>\n",
       "      <td>4 star ratings</td>\n",
       "    </tr>\n",
       "    <tr>\n",
       "      <th>11</th>\n",
       "      <td>3 star ratings</td>\n",
       "    </tr>\n",
       "    <tr>\n",
       "      <th>12</th>\n",
       "      <td>2 star ratings</td>\n",
       "    </tr>\n",
       "    <tr>\n",
       "      <th>13</th>\n",
       "      <td>1 star ratings</td>\n",
       "    </tr>\n",
       "    <tr>\n",
       "      <th>14</th>\n",
       "      <td>paid</td>\n",
       "    </tr>\n",
       "  </tbody>\n",
       "</table>\n",
       "</div>"
      ],
      "text/plain": [
       "             Columns\n",
       "0               rank\n",
       "1              title\n",
       "2      total ratings\n",
       "3           installs\n",
       "4     average rating\n",
       "5   growth (30 days)\n",
       "6   growth (60 days)\n",
       "7              price\n",
       "8           category\n",
       "9     5 star ratings\n",
       "10    4 star ratings\n",
       "11    3 star ratings\n",
       "12    2 star ratings\n",
       "13    1 star ratings\n",
       "14              paid"
      ]
     },
     "execution_count": 4,
     "metadata": {},
     "output_type": "execute_result"
    }
   ],
   "source": [
    "pd.DataFrame({\"Columns\": data.columns})"
   ]
  },
  {
   "cell_type": "code",
   "execution_count": 5,
   "id": "dafee5eb",
   "metadata": {
    "execution": {
     "iopub.execute_input": "2021-08-08T05:46:37.899901Z",
     "iopub.status.busy": "2021-08-08T05:46:37.899223Z",
     "iopub.status.idle": "2021-08-08T05:46:37.903394Z",
     "shell.execute_reply": "2021-08-08T05:46:37.902568Z",
     "shell.execute_reply.started": "2021-08-08T04:11:36.368868Z"
    },
    "papermill": {
     "duration": 0.036264,
     "end_time": "2021-08-08T05:46:37.903576",
     "exception": false,
     "start_time": "2021-08-08T05:46:37.867312",
     "status": "completed"
    },
    "tags": []
   },
   "outputs": [
    {
     "name": "stdout",
     "output_type": "stream",
     "text": [
      "Data shape:  (1730, 15)\n"
     ]
    }
   ],
   "source": [
    "print(\"Data shape: \", data.shape)"
   ]
  },
  {
   "cell_type": "markdown",
   "id": "53e2445d",
   "metadata": {
    "papermill": {
     "duration": 0.029039,
     "end_time": "2021-08-08T05:46:37.962568",
     "exception": false,
     "start_time": "2021-08-08T05:46:37.933529",
     "status": "completed"
    },
    "tags": []
   },
   "source": [
    "**4. Dataset Info**"
   ]
  },
  {
   "cell_type": "code",
   "execution_count": 6,
   "id": "f4b975b8",
   "metadata": {
    "execution": {
     "iopub.execute_input": "2021-08-08T05:46:38.040364Z",
     "iopub.status.busy": "2021-08-08T05:46:38.039666Z",
     "iopub.status.idle": "2021-08-08T05:46:38.043977Z",
     "shell.execute_reply": "2021-08-08T05:46:38.043411Z",
     "shell.execute_reply.started": "2021-08-08T04:14:03.143742Z"
    },
    "papermill": {
     "duration": 0.052858,
     "end_time": "2021-08-08T05:46:38.044124",
     "exception": false,
     "start_time": "2021-08-08T05:46:37.991266",
     "status": "completed"
    },
    "tags": []
   },
   "outputs": [
    {
     "name": "stdout",
     "output_type": "stream",
     "text": [
      "<class 'pandas.core.frame.DataFrame'>\n",
      "RangeIndex: 1730 entries, 0 to 1729\n",
      "Data columns (total 15 columns):\n",
      " #   Column            Non-Null Count  Dtype  \n",
      "---  ------            --------------  -----  \n",
      " 0   rank              1730 non-null   int64  \n",
      " 1   title             1730 non-null   object \n",
      " 2   total ratings     1730 non-null   int64  \n",
      " 3   installs          1730 non-null   object \n",
      " 4   average rating    1730 non-null   int64  \n",
      " 5   growth (30 days)  1730 non-null   float64\n",
      " 6   growth (60 days)  1730 non-null   float64\n",
      " 7   price             1730 non-null   float64\n",
      " 8   category          1730 non-null   object \n",
      " 9   5 star ratings    1730 non-null   int64  \n",
      " 10  4 star ratings    1730 non-null   int64  \n",
      " 11  3 star ratings    1730 non-null   int64  \n",
      " 12  2 star ratings    1730 non-null   int64  \n",
      " 13  1 star ratings    1730 non-null   int64  \n",
      " 14  paid              1730 non-null   bool   \n",
      "dtypes: bool(1), float64(3), int64(8), object(3)\n",
      "memory usage: 191.0+ KB\n"
     ]
    }
   ],
   "source": [
    "data.info()"
   ]
  },
  {
   "cell_type": "code",
   "execution_count": 7,
   "id": "2499c819",
   "metadata": {
    "execution": {
     "iopub.execute_input": "2021-08-08T05:46:38.111043Z",
     "iopub.status.busy": "2021-08-08T05:46:38.110481Z",
     "iopub.status.idle": "2021-08-08T05:46:38.150954Z",
     "shell.execute_reply": "2021-08-08T05:46:38.150496Z",
     "shell.execute_reply.started": "2021-08-08T04:14:43.247865Z"
    },
    "papermill": {
     "duration": 0.077083,
     "end_time": "2021-08-08T05:46:38.151089",
     "exception": false,
     "start_time": "2021-08-08T05:46:38.074006",
     "status": "completed"
    },
    "tags": []
   },
   "outputs": [
    {
     "data": {
      "text/html": [
       "<div>\n",
       "<style scoped>\n",
       "    .dataframe tbody tr th:only-of-type {\n",
       "        vertical-align: middle;\n",
       "    }\n",
       "\n",
       "    .dataframe tbody tr th {\n",
       "        vertical-align: top;\n",
       "    }\n",
       "\n",
       "    .dataframe thead th {\n",
       "        text-align: right;\n",
       "    }\n",
       "</style>\n",
       "<table border=\"1\" class=\"dataframe\">\n",
       "  <thead>\n",
       "    <tr style=\"text-align: right;\">\n",
       "      <th></th>\n",
       "      <th>rank</th>\n",
       "      <th>total ratings</th>\n",
       "      <th>average rating</th>\n",
       "      <th>growth (30 days)</th>\n",
       "      <th>growth (60 days)</th>\n",
       "      <th>price</th>\n",
       "      <th>5 star ratings</th>\n",
       "      <th>4 star ratings</th>\n",
       "      <th>3 star ratings</th>\n",
       "      <th>2 star ratings</th>\n",
       "      <th>1 star ratings</th>\n",
       "    </tr>\n",
       "  </thead>\n",
       "  <tbody>\n",
       "    <tr>\n",
       "      <th>count</th>\n",
       "      <td>1730.000000</td>\n",
       "      <td>1.730000e+03</td>\n",
       "      <td>1730.000000</td>\n",
       "      <td>1730.000000</td>\n",
       "      <td>1730.000000</td>\n",
       "      <td>1730.000000</td>\n",
       "      <td>1.730000e+03</td>\n",
       "      <td>1.730000e+03</td>\n",
       "      <td>1.730000e+03</td>\n",
       "      <td>1.730000e+03</td>\n",
       "      <td>1.730000e+03</td>\n",
       "    </tr>\n",
       "    <tr>\n",
       "      <th>mean</th>\n",
       "      <td>50.386705</td>\n",
       "      <td>1.064332e+06</td>\n",
       "      <td>3.908092</td>\n",
       "      <td>321.735896</td>\n",
       "      <td>122.554971</td>\n",
       "      <td>0.010942</td>\n",
       "      <td>7.622315e+05</td>\n",
       "      <td>1.164366e+05</td>\n",
       "      <td>5.706307e+04</td>\n",
       "      <td>2.710336e+04</td>\n",
       "      <td>1.014950e+05</td>\n",
       "    </tr>\n",
       "    <tr>\n",
       "      <th>std</th>\n",
       "      <td>28.936742</td>\n",
       "      <td>3.429250e+06</td>\n",
       "      <td>0.290973</td>\n",
       "      <td>6018.914507</td>\n",
       "      <td>2253.891703</td>\n",
       "      <td>0.214987</td>\n",
       "      <td>2.538658e+06</td>\n",
       "      <td>3.021631e+05</td>\n",
       "      <td>1.495314e+05</td>\n",
       "      <td>8.154542e+04</td>\n",
       "      <td>4.083745e+05</td>\n",
       "    </tr>\n",
       "    <tr>\n",
       "      <th>min</th>\n",
       "      <td>1.000000</td>\n",
       "      <td>3.299300e+04</td>\n",
       "      <td>2.000000</td>\n",
       "      <td>0.000000</td>\n",
       "      <td>0.000000</td>\n",
       "      <td>0.000000</td>\n",
       "      <td>1.397500e+04</td>\n",
       "      <td>2.451000e+03</td>\n",
       "      <td>7.180000e+02</td>\n",
       "      <td>2.660000e+02</td>\n",
       "      <td>5.450000e+02</td>\n",
       "    </tr>\n",
       "    <tr>\n",
       "      <th>25%</th>\n",
       "      <td>25.000000</td>\n",
       "      <td>1.759992e+05</td>\n",
       "      <td>4.000000</td>\n",
       "      <td>0.100000</td>\n",
       "      <td>0.200000</td>\n",
       "      <td>0.000000</td>\n",
       "      <td>1.277300e+05</td>\n",
       "      <td>2.064300e+04</td>\n",
       "      <td>9.652500e+03</td>\n",
       "      <td>4.262250e+03</td>\n",
       "      <td>1.281200e+04</td>\n",
       "    </tr>\n",
       "    <tr>\n",
       "      <th>50%</th>\n",
       "      <td>50.000000</td>\n",
       "      <td>4.286065e+05</td>\n",
       "      <td>4.000000</td>\n",
       "      <td>0.500000</td>\n",
       "      <td>1.000000</td>\n",
       "      <td>0.000000</td>\n",
       "      <td>2.964340e+05</td>\n",
       "      <td>5.098050e+04</td>\n",
       "      <td>2.507800e+04</td>\n",
       "      <td>1.067550e+04</td>\n",
       "      <td>3.368600e+04</td>\n",
       "    </tr>\n",
       "    <tr>\n",
       "      <th>75%</th>\n",
       "      <td>75.000000</td>\n",
       "      <td>8.837970e+05</td>\n",
       "      <td>4.000000</td>\n",
       "      <td>1.700000</td>\n",
       "      <td>3.300000</td>\n",
       "      <td>0.000000</td>\n",
       "      <td>6.198358e+05</td>\n",
       "      <td>1.018140e+05</td>\n",
       "      <td>5.229500e+04</td>\n",
       "      <td>2.322875e+04</td>\n",
       "      <td>8.015725e+04</td>\n",
       "    </tr>\n",
       "    <tr>\n",
       "      <th>max</th>\n",
       "      <td>100.000000</td>\n",
       "      <td>8.627313e+07</td>\n",
       "      <td>4.000000</td>\n",
       "      <td>227105.700000</td>\n",
       "      <td>69441.400000</td>\n",
       "      <td>7.490000</td>\n",
       "      <td>6.354677e+07</td>\n",
       "      <td>5.404966e+06</td>\n",
       "      <td>3.158756e+06</td>\n",
       "      <td>2.122183e+06</td>\n",
       "      <td>1.249592e+07</td>\n",
       "    </tr>\n",
       "  </tbody>\n",
       "</table>\n",
       "</div>"
      ],
      "text/plain": [
       "              rank  total ratings  average rating  growth (30 days)  \\\n",
       "count  1730.000000   1.730000e+03     1730.000000       1730.000000   \n",
       "mean     50.386705   1.064332e+06        3.908092        321.735896   \n",
       "std      28.936742   3.429250e+06        0.290973       6018.914507   \n",
       "min       1.000000   3.299300e+04        2.000000          0.000000   \n",
       "25%      25.000000   1.759992e+05        4.000000          0.100000   \n",
       "50%      50.000000   4.286065e+05        4.000000          0.500000   \n",
       "75%      75.000000   8.837970e+05        4.000000          1.700000   \n",
       "max     100.000000   8.627313e+07        4.000000     227105.700000   \n",
       "\n",
       "       growth (60 days)        price  5 star ratings  4 star ratings  \\\n",
       "count       1730.000000  1730.000000    1.730000e+03    1.730000e+03   \n",
       "mean         122.554971     0.010942    7.622315e+05    1.164366e+05   \n",
       "std         2253.891703     0.214987    2.538658e+06    3.021631e+05   \n",
       "min            0.000000     0.000000    1.397500e+04    2.451000e+03   \n",
       "25%            0.200000     0.000000    1.277300e+05    2.064300e+04   \n",
       "50%            1.000000     0.000000    2.964340e+05    5.098050e+04   \n",
       "75%            3.300000     0.000000    6.198358e+05    1.018140e+05   \n",
       "max        69441.400000     7.490000    6.354677e+07    5.404966e+06   \n",
       "\n",
       "       3 star ratings  2 star ratings  1 star ratings  \n",
       "count    1.730000e+03    1.730000e+03    1.730000e+03  \n",
       "mean     5.706307e+04    2.710336e+04    1.014950e+05  \n",
       "std      1.495314e+05    8.154542e+04    4.083745e+05  \n",
       "min      7.180000e+02    2.660000e+02    5.450000e+02  \n",
       "25%      9.652500e+03    4.262250e+03    1.281200e+04  \n",
       "50%      2.507800e+04    1.067550e+04    3.368600e+04  \n",
       "75%      5.229500e+04    2.322875e+04    8.015725e+04  \n",
       "max      3.158756e+06    2.122183e+06    1.249592e+07  "
      ]
     },
     "execution_count": 7,
     "metadata": {},
     "output_type": "execute_result"
    }
   ],
   "source": [
    "data.describe()"
   ]
  },
  {
   "cell_type": "markdown",
   "id": "427701a6",
   "metadata": {
    "papermill": {
     "duration": 0.028823,
     "end_time": "2021-08-08T05:46:38.208430",
     "exception": false,
     "start_time": "2021-08-08T05:46:38.179607",
     "status": "completed"
    },
    "tags": []
   },
   "source": [
    "**5. Checking of the dataset, whether it is clean or not**"
   ]
  },
  {
   "cell_type": "code",
   "execution_count": 8,
   "id": "3c0c87be",
   "metadata": {
    "execution": {
     "iopub.execute_input": "2021-08-08T05:46:38.274743Z",
     "iopub.status.busy": "2021-08-08T05:46:38.273927Z",
     "iopub.status.idle": "2021-08-08T05:46:38.277928Z",
     "shell.execute_reply": "2021-08-08T05:46:38.277466Z",
     "shell.execute_reply.started": "2021-08-08T04:19:38.539545Z"
    },
    "papermill": {
     "duration": 0.040239,
     "end_time": "2021-08-08T05:46:38.278058",
     "exception": false,
     "start_time": "2021-08-08T05:46:38.237819",
     "status": "completed"
    },
    "tags": []
   },
   "outputs": [
    {
     "data": {
      "text/plain": [
       "rank                0\n",
       "title               0\n",
       "total ratings       0\n",
       "installs            0\n",
       "average rating      0\n",
       "growth (30 days)    0\n",
       "growth (60 days)    0\n",
       "price               0\n",
       "category            0\n",
       "5 star ratings      0\n",
       "4 star ratings      0\n",
       "3 star ratings      0\n",
       "2 star ratings      0\n",
       "1 star ratings      0\n",
       "paid                0\n",
       "dtype: int64"
      ]
     },
     "execution_count": 8,
     "metadata": {},
     "output_type": "execute_result"
    }
   ],
   "source": [
    "data.isnull().sum()"
   ]
  },
  {
   "cell_type": "code",
   "execution_count": 9,
   "id": "3c5af8ae",
   "metadata": {
    "execution": {
     "iopub.execute_input": "2021-08-08T05:46:38.343156Z",
     "iopub.status.busy": "2021-08-08T05:46:38.342263Z",
     "iopub.status.idle": "2021-08-08T05:46:38.347066Z",
     "shell.execute_reply": "2021-08-08T05:46:38.346468Z",
     "shell.execute_reply.started": "2021-08-08T04:20:49.483803Z"
    },
    "papermill": {
     "duration": 0.040136,
     "end_time": "2021-08-08T05:46:38.347219",
     "exception": false,
     "start_time": "2021-08-08T05:46:38.307083",
     "status": "completed"
    },
    "tags": []
   },
   "outputs": [
    {
     "data": {
      "text/plain": [
       "10.0 M      805\n",
       "50.0 M      252\n",
       "5.0 M       245\n",
       "100.0 M     204\n",
       "1.0 M       192\n",
       "500.0 k      15\n",
       "500.0 M      12\n",
       "100.0 k       3\n",
       "1000.0 M      2\n",
       "Name: installs, dtype: int64"
      ]
     },
     "execution_count": 9,
     "metadata": {},
     "output_type": "execute_result"
    }
   ],
   "source": [
    "data['installs'].value_counts()"
   ]
  },
  {
   "cell_type": "markdown",
   "id": "4429a5e4",
   "metadata": {
    "papermill": {
     "duration": 0.028556,
     "end_time": "2021-08-08T05:46:38.404711",
     "exception": false,
     "start_time": "2021-08-08T05:46:38.376155",
     "status": "completed"
    },
    "tags": []
   },
   "source": [
    "**6. Checking whether there is any relationship between paid and price**"
   ]
  },
  {
   "cell_type": "code",
   "execution_count": 10,
   "id": "94eff9fb",
   "metadata": {
    "execution": {
     "iopub.execute_input": "2021-08-08T05:46:38.470886Z",
     "iopub.status.busy": "2021-08-08T05:46:38.470071Z",
     "iopub.status.idle": "2021-08-08T05:46:38.473789Z",
     "shell.execute_reply": "2021-08-08T05:46:38.473220Z",
     "shell.execute_reply.started": "2021-08-08T04:22:01.788894Z"
    },
    "papermill": {
     "duration": 0.03988,
     "end_time": "2021-08-08T05:46:38.473922",
     "exception": false,
     "start_time": "2021-08-08T05:46:38.434042",
     "status": "completed"
    },
    "tags": []
   },
   "outputs": [
    {
     "data": {
      "text/plain": [
       "0.00    1723\n",
       "1.99       3\n",
       "1.49       1\n",
       "0.99       1\n",
       "2.99       1\n",
       "7.49       1\n",
       "Name: price, dtype: int64"
      ]
     },
     "execution_count": 10,
     "metadata": {},
     "output_type": "execute_result"
    }
   ],
   "source": [
    "data['price'].value_counts()"
   ]
  },
  {
   "cell_type": "code",
   "execution_count": 11,
   "id": "85a77306",
   "metadata": {
    "execution": {
     "iopub.execute_input": "2021-08-08T05:46:38.540050Z",
     "iopub.status.busy": "2021-08-08T05:46:38.539448Z",
     "iopub.status.idle": "2021-08-08T05:46:38.543348Z",
     "shell.execute_reply": "2021-08-08T05:46:38.542812Z",
     "shell.execute_reply.started": "2021-08-08T04:22:39.658594Z"
    },
    "papermill": {
     "duration": 0.039822,
     "end_time": "2021-08-08T05:46:38.543482",
     "exception": false,
     "start_time": "2021-08-08T05:46:38.503660",
     "status": "completed"
    },
    "tags": []
   },
   "outputs": [
    {
     "data": {
      "text/plain": [
       "False    1723\n",
       "True        7\n",
       "Name: paid, dtype: int64"
      ]
     },
     "execution_count": 11,
     "metadata": {},
     "output_type": "execute_result"
    }
   ],
   "source": [
    "data['paid'].value_counts()"
   ]
  },
  {
   "cell_type": "markdown",
   "id": "2da3a21c",
   "metadata": {
    "papermill": {
     "duration": 0.030384,
     "end_time": "2021-08-08T05:46:38.604356",
     "exception": false,
     "start_time": "2021-08-08T05:46:38.573972",
     "status": "completed"
    },
    "tags": []
   },
   "source": [
    "**7. Dropping prices as most of the games are free**"
   ]
  },
  {
   "cell_type": "code",
   "execution_count": 12,
   "id": "f867d81b",
   "metadata": {
    "execution": {
     "iopub.execute_input": "2021-08-08T05:46:38.670994Z",
     "iopub.status.busy": "2021-08-08T05:46:38.670407Z",
     "iopub.status.idle": "2021-08-08T05:46:38.672978Z",
     "shell.execute_reply": "2021-08-08T05:46:38.673394Z",
     "shell.execute_reply.started": "2021-08-08T04:23:45.873074Z"
    },
    "papermill": {
     "duration": 0.039956,
     "end_time": "2021-08-08T05:46:38.673561",
     "exception": false,
     "start_time": "2021-08-08T05:46:38.633605",
     "status": "completed"
    },
    "tags": []
   },
   "outputs": [],
   "source": [
    "data.drop('price', axis=1, inplace=True)"
   ]
  },
  {
   "cell_type": "code",
   "execution_count": 13,
   "id": "b0dd2276",
   "metadata": {
    "execution": {
     "iopub.execute_input": "2021-08-08T05:46:38.748180Z",
     "iopub.status.busy": "2021-08-08T05:46:38.747171Z",
     "iopub.status.idle": "2021-08-08T05:46:38.752746Z",
     "shell.execute_reply": "2021-08-08T05:46:38.752139Z",
     "shell.execute_reply.started": "2021-08-08T04:24:07.018264Z"
    },
    "papermill": {
     "duration": 0.04822,
     "end_time": "2021-08-08T05:46:38.752879",
     "exception": false,
     "start_time": "2021-08-08T05:46:38.704659",
     "status": "completed"
    },
    "tags": []
   },
   "outputs": [
    {
     "name": "stdout",
     "output_type": "stream",
     "text": [
      "<class 'pandas.core.frame.DataFrame'>\n",
      "RangeIndex: 1730 entries, 0 to 1729\n",
      "Data columns (total 14 columns):\n",
      " #   Column            Non-Null Count  Dtype  \n",
      "---  ------            --------------  -----  \n",
      " 0   rank              1730 non-null   int64  \n",
      " 1   title             1730 non-null   object \n",
      " 2   total ratings     1730 non-null   int64  \n",
      " 3   installs          1730 non-null   object \n",
      " 4   average rating    1730 non-null   int64  \n",
      " 5   growth (30 days)  1730 non-null   float64\n",
      " 6   growth (60 days)  1730 non-null   float64\n",
      " 7   category          1730 non-null   object \n",
      " 8   5 star ratings    1730 non-null   int64  \n",
      " 9   4 star ratings    1730 non-null   int64  \n",
      " 10  3 star ratings    1730 non-null   int64  \n",
      " 11  2 star ratings    1730 non-null   int64  \n",
      " 12  1 star ratings    1730 non-null   int64  \n",
      " 13  paid              1730 non-null   bool   \n",
      "dtypes: bool(1), float64(2), int64(8), object(3)\n",
      "memory usage: 177.5+ KB\n"
     ]
    }
   ],
   "source": [
    "data.info()"
   ]
  },
  {
   "cell_type": "markdown",
   "id": "960a27f7",
   "metadata": {
    "papermill": {
     "duration": 0.030586,
     "end_time": "2021-08-08T05:46:38.813312",
     "exception": false,
     "start_time": "2021-08-08T05:46:38.782726",
     "status": "completed"
    },
    "tags": []
   },
   "source": [
    "**8. Game Categories**"
   ]
  },
  {
   "cell_type": "code",
   "execution_count": 14,
   "id": "c88ec323",
   "metadata": {
    "execution": {
     "iopub.execute_input": "2021-08-08T05:46:38.878699Z",
     "iopub.status.busy": "2021-08-08T05:46:38.878039Z",
     "iopub.status.idle": "2021-08-08T05:46:38.901460Z",
     "shell.execute_reply": "2021-08-08T05:46:38.900892Z",
     "shell.execute_reply.started": "2021-08-08T04:24:45.373695Z"
    },
    "papermill": {
     "duration": 0.058743,
     "end_time": "2021-08-08T05:46:38.901596",
     "exception": false,
     "start_time": "2021-08-08T05:46:38.842853",
     "status": "completed"
    },
    "tags": []
   },
   "outputs": [
    {
     "data": {
      "text/plain": [
       "GAME CARD            0.072832\n",
       "GAME WORD            0.060116\n",
       "GAME RACING          0.057803\n",
       "GAME CASINO          0.057803\n",
       "GAME SPORTS          0.057803\n",
       "GAME BOARD           0.057803\n",
       "GAME ROLE PLAYING    0.057803\n",
       "GAME PUZZLE          0.057803\n",
       "GAME SIMULATION      0.057803\n",
       "GAME ARCADE          0.057803\n",
       "GAME ADVENTURE       0.057803\n",
       "GAME TRIVIA          0.057803\n",
       "GAME CASUAL          0.057803\n",
       "GAME EDUCATIONAL     0.057803\n",
       "GAME ACTION          0.057803\n",
       "GAME MUSIC           0.057803\n",
       "GAME STRATEGY        0.057803\n",
       "Name: category, dtype: float64"
      ]
     },
     "execution_count": 14,
     "metadata": {},
     "output_type": "execute_result"
    }
   ],
   "source": [
    "data['category'].value_counts(normalize=True)"
   ]
  },
  {
   "cell_type": "code",
   "execution_count": 15,
   "id": "6bd04ba7",
   "metadata": {
    "execution": {
     "iopub.execute_input": "2021-08-08T05:46:38.970509Z",
     "iopub.status.busy": "2021-08-08T05:46:38.969589Z",
     "iopub.status.idle": "2021-08-08T05:46:39.284590Z",
     "shell.execute_reply": "2021-08-08T05:46:39.283988Z",
     "shell.execute_reply.started": "2021-08-08T04:40:04.988697Z"
    },
    "papermill": {
     "duration": 0.352785,
     "end_time": "2021-08-08T05:46:39.284735",
     "exception": false,
     "start_time": "2021-08-08T05:46:38.931950",
     "status": "completed"
    },
    "tags": []
   },
   "outputs": [
    {
     "name": "stderr",
     "output_type": "stream",
     "text": [
      "/opt/conda/lib/python3.7/site-packages/seaborn/_decorators.py:43: FutureWarning: Pass the following variable as a keyword arg: x. From version 0.12, the only valid positional argument will be `data`, and passing other arguments without an explicit keyword will result in an error or misinterpretation.\n",
      "  FutureWarning\n"
     ]
    },
    {
     "data": {
      "text/plain": [
       "Text(0.5, 1.0, 'Number of Games by category')"
      ]
     },
     "execution_count": 15,
     "metadata": {},
     "output_type": "execute_result"
    },
    {
     "data": {
      "image/png": "[encoded data removed]",
      "text/plain": [
       "<Figure size 2160x360 with 1 Axes>"
      ]
     },
     "metadata": {
      "needs_background": "light"
     },
     "output_type": "display_data"
    }
   ],
   "source": [
    "plt.figure(figsize = (30, 5))\n",
    "sns.countplot(data.category)\n",
    "plt.title(\"Number of Games by category\")"
   ]
  },
  {
   "cell_type": "markdown",
   "id": "0f8edebc",
   "metadata": {
    "papermill": {
     "duration": 0.031901,
     "end_time": "2021-08-08T05:46:39.348952",
     "exception": false,
     "start_time": "2021-08-08T05:46:39.317051",
     "status": "completed"
    },
    "tags": []
   },
   "source": [
    "**9. Total Ratings**"
   ]
  },
  {
   "cell_type": "code",
   "execution_count": 16,
   "id": "caab7e9e",
   "metadata": {
    "execution": {
     "iopub.execute_input": "2021-08-08T05:46:39.420835Z",
     "iopub.status.busy": "2021-08-08T05:46:39.417252Z",
     "iopub.status.idle": "2021-08-08T05:46:39.424740Z",
     "shell.execute_reply": "2021-08-08T05:46:39.425153Z",
     "shell.execute_reply.started": "2021-08-08T04:35:33.762888Z"
    },
    "papermill": {
     "duration": 0.045288,
     "end_time": "2021-08-08T05:46:39.425325",
     "exception": false,
     "start_time": "2021-08-08T05:46:39.380037",
     "status": "completed"
    },
    "tags": []
   },
   "outputs": [
    {
     "data": {
      "text/plain": [
       "count    1.730000e+03\n",
       "mean     1.064332e+06\n",
       "std      3.429250e+06\n",
       "min      3.299300e+04\n",
       "25%      1.759992e+05\n",
       "50%      4.286065e+05\n",
       "75%      8.837970e+05\n",
       "max      8.627313e+07\n",
       "Name: total ratings, dtype: float64"
      ]
     },
     "execution_count": 16,
     "metadata": {},
     "output_type": "execute_result"
    }
   ],
   "source": [
    "data['total ratings'].describe()"
   ]
  },
  {
   "cell_type": "code",
   "execution_count": 17,
   "id": "56586711",
   "metadata": {
    "execution": {
     "iopub.execute_input": "2021-08-08T05:46:39.500219Z",
     "iopub.status.busy": "2021-08-08T05:46:39.499568Z",
     "iopub.status.idle": "2021-08-08T05:46:39.502348Z",
     "shell.execute_reply": "2021-08-08T05:46:39.502733Z",
     "shell.execute_reply.started": "2021-08-08T04:37:47.850324Z"
    },
    "papermill": {
     "duration": 0.043949,
     "end_time": "2021-08-08T05:46:39.502946",
     "exception": false,
     "start_time": "2021-08-08T05:46:39.458997",
     "status": "completed"
    },
    "tags": []
   },
   "outputs": [],
   "source": [
    "data = data.rename(columns={'total ratings':'Total_ratings'})"
   ]
  },
  {
   "cell_type": "code",
   "execution_count": 18,
   "id": "b61052dd",
   "metadata": {
    "execution": {
     "iopub.execute_input": "2021-08-08T05:46:39.595474Z",
     "iopub.status.busy": "2021-08-08T05:46:39.578465Z",
     "iopub.status.idle": "2021-08-08T05:46:41.357081Z",
     "shell.execute_reply": "2021-08-08T05:46:41.356585Z",
     "shell.execute_reply.started": "2021-08-08T04:42:33.799082Z"
    },
    "papermill": {
     "duration": 1.821423,
     "end_time": "2021-08-08T05:46:41.357247",
     "exception": false,
     "start_time": "2021-08-08T05:46:39.535824",
     "status": "completed"
    },
    "tags": []
   },
   "outputs": [
    {
     "data": {
      "text/plain": [
       "Text(0.5, 1.0, 'Total Ratings of the Games')"
      ]
     },
     "execution_count": 18,
     "metadata": {},
     "output_type": "execute_result"
    },
    {
     "data": {
      "text/plain": [
       "<Figure size 1440x144 with 0 Axes>"
      ]
     },
     "metadata": {},
     "output_type": "display_data"
    },
    {
     "data": {
      "image/png": "[encoded data removed]",
      "text/plain": [
       "<Figure size 360x360 with 1 Axes>"
      ]
     },
     "metadata": {
      "needs_background": "light"
     },
     "output_type": "display_data"
    }
   ],
   "source": [
    "plt.figure(figsize = (20, 2))\n",
    "sns.displot(data.Total_ratings)\n",
    "plt.title(\"Total Ratings of the Games\")"
   ]
  },
  {
   "cell_type": "markdown",
   "id": "4a7e85c8",
   "metadata": {
    "papermill": {
     "duration": 0.034046,
     "end_time": "2021-08-08T05:46:41.425267",
     "exception": false,
     "start_time": "2021-08-08T05:46:41.391221",
     "status": "completed"
    },
    "tags": []
   },
   "source": [
    "**10. Making installs into numerical values**"
   ]
  },
  {
   "cell_type": "code",
   "execution_count": 19,
   "id": "d84c1766",
   "metadata": {
    "execution": {
     "iopub.execute_input": "2021-08-08T05:46:41.508235Z",
     "iopub.status.busy": "2021-08-08T05:46:41.505369Z",
     "iopub.status.idle": "2021-08-08T05:46:41.515425Z",
     "shell.execute_reply": "2021-08-08T05:46:41.514840Z",
     "shell.execute_reply.started": "2021-08-08T04:44:55.909995Z"
    },
    "papermill": {
     "duration": 0.052906,
     "end_time": "2021-08-08T05:46:41.515557",
     "exception": false,
     "start_time": "2021-08-08T05:46:41.462651",
     "status": "completed"
    },
    "tags": []
   },
   "outputs": [
    {
     "data": {
      "text/plain": [
       "10.0      805\n",
       "50.0      252\n",
       "5.0       245\n",
       "100.0     204\n",
       "1.0       192\n",
       "0.5        15\n",
       "500.0      12\n",
       "0.1         3\n",
       "1000.0      2\n",
       "Name: installs_in_million, dtype: int64"
      ]
     },
     "execution_count": 19,
     "metadata": {},
     "output_type": "execute_result"
    }
   ],
   "source": [
    "def in_thousand (inst):\n",
    "    if inst == '500.0 k':\n",
    "        return '0.5 M' \n",
    "    elif inst == '100.0 k':\n",
    "        return '0.1 M'\n",
    "    else:\n",
    "        return inst\n",
    "data['installs']= data['installs'].apply(in_thousand)\n",
    "\n",
    "data['installs']= data['installs'].str.replace( 'M', '').str.strip().astype('float')\n",
    "\n",
    "data= data.rename(columns={'installs': 'installs_in_million'})\n",
    "data['installs_in_million'].value_counts()"
   ]
  },
  {
   "cell_type": "code",
   "execution_count": 20,
   "id": "2f713a6d",
   "metadata": {
    "execution": {
     "iopub.execute_input": "2021-08-08T05:46:41.586320Z",
     "iopub.status.busy": "2021-08-08T05:46:41.585723Z",
     "iopub.status.idle": "2021-08-08T05:46:41.593353Z",
     "shell.execute_reply": "2021-08-08T05:46:41.592765Z",
     "shell.execute_reply.started": "2021-08-08T05:02:39.913640Z"
    },
    "papermill": {
     "duration": 0.04401,
     "end_time": "2021-08-08T05:46:41.593489",
     "exception": false,
     "start_time": "2021-08-08T05:46:41.549479",
     "status": "completed"
    },
    "tags": []
   },
   "outputs": [
    {
     "data": {
      "text/plain": [
       "<bound method NDFrame.describe of 0       500.0\n",
       "1       500.0\n",
       "2       100.0\n",
       "3       100.0\n",
       "4       500.0\n",
       "        ...  \n",
       "1725      1.0\n",
       "1726      1.0\n",
       "1727     10.0\n",
       "1728      5.0\n",
       "1729     10.0\n",
       "Name: installs_in_million, Length: 1730, dtype: float64>"
      ]
     },
     "execution_count": 20,
     "metadata": {},
     "output_type": "execute_result"
    }
   ],
   "source": [
    "data['installs_in_million'].describe"
   ]
  },
  {
   "cell_type": "code",
   "execution_count": 21,
   "id": "0e2c0d1b",
   "metadata": {
    "execution": {
     "iopub.execute_input": "2021-08-08T05:46:41.663681Z",
     "iopub.status.busy": "2021-08-08T05:46:41.663080Z",
     "iopub.status.idle": "2021-08-08T05:46:42.347477Z",
     "shell.execute_reply": "2021-08-08T05:46:42.346856Z",
     "shell.execute_reply.started": "2021-08-08T05:05:32.507352Z"
    },
    "papermill": {
     "duration": 0.720671,
     "end_time": "2021-08-08T05:46:42.347609",
     "exception": false,
     "start_time": "2021-08-08T05:46:41.626938",
     "status": "completed"
    },
    "tags": []
   },
   "outputs": [
    {
     "data": {
      "text/plain": [
       "Text(0.5, 1.0, 'Number of Game Install in Millions')"
      ]
     },
     "execution_count": 21,
     "metadata": {},
     "output_type": "execute_result"
    },
    {
     "data": {
      "text/plain": [
       "<Figure size 720x360 with 0 Axes>"
      ]
     },
     "metadata": {},
     "output_type": "display_data"
    },
    {
     "data": {
      "image/png": "[encoded data removed]",
      "text/plain": [
       "<Figure size 360x360 with 1 Axes>"
      ]
     },
     "metadata": {
      "needs_background": "light"
     },
     "output_type": "display_data"
    }
   ],
   "source": [
    "plt.figure(figsize = (10, 5))\n",
    "sns.displot(data.installs_in_million)\n",
    "plt.title(\"Number of Game Install in Millions\")"
   ]
  },
  {
   "cell_type": "markdown",
   "id": "a77392c3",
   "metadata": {
    "papermill": {
     "duration": 0.035714,
     "end_time": "2021-08-08T05:46:42.419399",
     "exception": false,
     "start_time": "2021-08-08T05:46:42.383685",
     "status": "completed"
    },
    "tags": []
   },
   "source": [
    "**11. Paid and free games**"
   ]
  },
  {
   "cell_type": "code",
   "execution_count": 22,
   "id": "f564fe51",
   "metadata": {
    "execution": {
     "iopub.execute_input": "2021-08-08T05:46:42.500743Z",
     "iopub.status.busy": "2021-08-08T05:46:42.497121Z",
     "iopub.status.idle": "2021-08-08T05:46:42.505633Z",
     "shell.execute_reply": "2021-08-08T05:46:42.506042Z",
     "shell.execute_reply.started": "2021-08-08T05:06:11.203919Z"
    },
    "papermill": {
     "duration": 0.05131,
     "end_time": "2021-08-08T05:46:42.506249",
     "exception": false,
     "start_time": "2021-08-08T05:46:42.454939",
     "status": "completed"
    },
    "tags": []
   },
   "outputs": [
    {
     "data": {
      "text/plain": [
       "False    0.995954\n",
       "True     0.004046\n",
       "Name: paid, dtype: float64"
      ]
     },
     "execution_count": 22,
     "metadata": {},
     "output_type": "execute_result"
    }
   ],
   "source": [
    "data['paid'].value_counts(normalize=True)"
   ]
  },
  {
   "cell_type": "code",
   "execution_count": 23,
   "id": "3b0ac66a",
   "metadata": {
    "execution": {
     "iopub.execute_input": "2021-08-08T05:46:42.589653Z",
     "iopub.status.busy": "2021-08-08T05:46:42.589021Z",
     "iopub.status.idle": "2021-08-08T05:46:43.715229Z",
     "shell.execute_reply": "2021-08-08T05:46:43.715690Z",
     "shell.execute_reply.started": "2021-08-08T05:06:50.905606Z"
    },
    "papermill": {
     "duration": 1.169636,
     "end_time": "2021-08-08T05:46:43.715858",
     "exception": false,
     "start_time": "2021-08-08T05:46:42.546222",
     "status": "completed"
    },
    "tags": []
   },
   "outputs": [
    {
     "data": {
      "text/html": [
       "        <script type=\"text/javascript\">\n",
       "        window.PlotlyConfig = {MathJaxConfig: 'local'};\n",
       "        if (window.MathJax) {MathJax.Hub.Config({SVG: {font: \"STIX-Web\"}});}\n",
       "        if (typeof require !== 'undefined') {\n",
       "        require.undef(\"plotly\");\n",
       "        requirejs.config({\n",
       "            paths: {\n",
       "                'plotly': ['https://cdn.plot.ly/plotly-2.2.0.min']\n",
       "            }\n",
       "        });\n",
       "        require(['plotly'], function(Plotly) {\n",
       "            window._Plotly = Plotly;\n",
       "        });\n",
       "        }\n",
       "        </script>\n",
       "        "
      ]
     },
     "metadata": {},
     "output_type": "display_data"
    },
    {
     "data": {
      "text/html": [
       "<div>                            <div id=\"e79130d7-e89d-4ab2-b911-1972e7930b66\" class=\"plotly-graph-div\" style=\"height:525px; width:100%;\"></div>            <script type=\"text/javascript\">                require([\"plotly\"], function(Plotly) {                    window.PLOTLYENV=window.PLOTLYENV || {};                                    if (document.getElementById(\"e79130d7-e89d-4ab2-b911-1972e7930b66\")) {                    Plotly.newPlot(                        \"e79130d7-e89d-4ab2-b911-1972e7930b66\",                        [{\"domain\":{\"x\":[0.0,1.0],\"y\":[0.0,1.0]},\"hovertemplate\":\"label=%{label}<br>value=%{value}<extra></extra>\",\"labels\":[\"Free\",\"Paid\"],\"legendgroup\":\"\",\"name\":\"\",\"showlegend\":true,\"textinfo\":\"percent+label\",\"textposition\":\"inside\",\"type\":\"pie\",\"values\":[1723,7]}],                        {\"legend\":{\"tracegroupgap\":0},\"template\":{\"data\":{\"bar\":[{\"error_x\":{\"color\":\"#2a3f5f\"},\"error_y\":{\"color\":\"#2a3f5f\"},\"marker\":{\"line\":{\"color\":\"#E5ECF6\",\"width\":0.5},\"pattern\":{\"fillmode\":\"overlay\",\"size\":10,\"solidity\":0.2}},\"type\":\"bar\"}],\"barpolar\":[{\"marker\":{\"line\":{\"color\":\"#E5ECF6\",\"width\":0.5},\"pattern\":{\"fillmode\":\"overlay\",\"size\":10,\"solidity\":0.2}},\"type\":\"barpolar\"}],\"carpet\":[{\"aaxis\":{\"endlinecolor\":\"#2a3f5f\",\"gridcolor\":\"white\",\"linecolor\":\"white\",\"minorgridcolor\":\"white\",\"startlinecolor\":\"#2a3f5f\"},\"baxis\":{\"endlinecolor\":\"#2a3f5f\",\"gridcolor\":\"white\",\"linecolor\":\"white\",\"minorgridcolor\":\"white\",\"startlinecolor\":\"#2a3f5f\"},\"type\":\"carpet\"}],\"choropleth\":[{\"colorbar\":{\"outlinewidth\":0,\"ticks\":\"\"},\"type\":\"choropleth\"}],\"contour\":[{\"colorbar\":{\"outlinewidth\":0,\"ticks\":\"\"},\"colorscale\":[[0.0,\"#0d0887\"],[0.1111111111111111,\"#46039f\"],[0.2222222222222222,\"#7201a8\"],[0.3333333333333333,\"#9c179e\"],[0.4444444444444444,\"#bd3786\"],[0.5555555555555556,\"#d8576b\"],[0.6666666666666666,\"#ed7953\"],[0.7777777777777778,\"#fb9f3a\"],[0.8888888888888888,\"#fdca26\"],[1.0,\"#f0f921\"]],\"type\":\"contour\"}],\"contourcarpet\":[{\"colorbar\":{\"outlinewidth\":0,\"ticks\":\"\"},\"type\":\"contourcarpet\"}],\"heatmap\":[{\"colorbar\":{\"outlinewidth\":0,\"ticks\":\"\"},\"colorscale\":[[0.0,\"#0d0887\"],[0.1111111111111111,\"#46039f\"],[0.2222222222222222,\"#7201a8\"],[0.3333333333333333,\"#9c179e\"],[0.4444444444444444,\"#bd3786\"],[0.5555555555555556,\"#d8576b\"],[0.6666666666666666,\"#ed7953\"],[0.7777777777777778,\"#fb9f3a\"],[0.8888888888888888,\"#fdca26\"],[1.0,\"#f0f921\"]],\"type\":\"heatmap\"}],\"heatmapgl\":[{\"colorbar\":{\"outlinewidth\":0,\"ticks\":\"\"},\"colorscale\":[[0.0,\"#0d0887\"],[0.1111111111111111,\"#46039f\"],[0.2222222222222222,\"#7201a8\"],[0.3333333333333333,\"#9c179e\"],[0.4444444444444444,\"#bd3786\"],[0.5555555555555556,\"#d8576b\"],[0.6666666666666666,\"#ed7953\"],[0.7777777777777778,\"#fb9f3a\"],[0.8888888888888888,\"#fdca26\"],[1.0,\"#f0f921\"]],\"type\":\"heatmapgl\"}],\"histogram\":[{\"marker\":{\"pattern\":{\"fillmode\":\"overlay\",\"size\":10,\"solidity\":0.2}},\"type\":\"histogram\"}],\"histogram2d\":[{\"colorbar\":{\"outlinewidth\":0,\"ticks\":\"\"},\"colorscale\":[[0.0,\"#0d0887\"],[0.1111111111111111,\"#46039f\"],[0.2222222222222222,\"#7201a8\"],[0.3333333333333333,\"#9c179e\"],[0.4444444444444444,\"#bd3786\"],[0.5555555555555556,\"#d8576b\"],[0.6666666666666666,\"#ed7953\"],[0.7777777777777778,\"#fb9f3a\"],[0.8888888888888888,\"#fdca26\"],[1.0,\"#f0f921\"]],\"type\":\"histogram2d\"}],\"histogram2dcontour\":[{\"colorbar\":{\"outlinewidth\":0,\"ticks\":\"\"},\"colorscale\":[[0.0,\"#0d0887\"],[0.1111111111111111,\"#46039f\"],[0.2222222222222222,\"#7201a8\"],[0.3333333333333333,\"#9c179e\"],[0.4444444444444444,\"#bd3786\"],[0.5555555555555556,\"#d8576b\"],[0.6666666666666666,\"#ed7953\"],[0.7777777777777778,\"#fb9f3a\"],[0.8888888888888888,\"#fdca26\"],[1.0,\"#f0f921\"]],\"type\":\"histogram2dcontour\"}],\"mesh3d\":[{\"colorbar\":{\"outlinewidth\":0,\"ticks\":\"\"},\"type\":\"mesh3d\"}],\"parcoords\":[{\"line\":{\"colorbar\":{\"outlinewidth\":0,\"ticks\":\"\"}},\"type\":\"parcoords\"}],\"pie\":[{\"automargin\":true,\"type\":\"pie\"}],\"scatter\":[{\"marker\":{\"colorbar\":{\"outlinewidth\":0,\"ticks\":\"\"}},\"type\":\"scatter\"}],\"scatter3d\":[{\"line\":{\"colorbar\":{\"outlinewidth\":0,\"ticks\":\"\"}},\"marker\":{\"colorbar\":{\"outlinewidth\":0,\"ticks\":\"\"}},\"type\":\"scatter3d\"}],\"scattercarpet\":[{\"marker\":{\"colorbar\":{\"outlinewidth\":0,\"ticks\":\"\"}},\"type\":\"scattercarpet\"}],\"scattergeo\":[{\"marker\":{\"colorbar\":{\"outlinewidth\":0,\"ticks\":\"\"}},\"type\":\"scattergeo\"}],\"scattergl\":[{\"marker\":{\"colorbar\":{\"outlinewidth\":0,\"ticks\":\"\"}},\"type\":\"scattergl\"}],\"scattermapbox\":[{\"marker\":{\"colorbar\":{\"outlinewidth\":0,\"ticks\":\"\"}},\"type\":\"scattermapbox\"}],\"scatterpolar\":[{\"marker\":{\"colorbar\":{\"outlinewidth\":0,\"ticks\":\"\"}},\"type\":\"scatterpolar\"}],\"scatterpolargl\":[{\"marker\":{\"colorbar\":{\"outlinewidth\":0,\"ticks\":\"\"}},\"type\":\"scatterpolargl\"}],\"scatterternary\":[{\"marker\":{\"colorbar\":{\"outlinewidth\":0,\"ticks\":\"\"}},\"type\":\"scatterternary\"}],\"surface\":[{\"colorbar\":{\"outlinewidth\":0,\"ticks\":\"\"},\"colorscale\":[[0.0,\"#0d0887\"],[0.1111111111111111,\"#46039f\"],[0.2222222222222222,\"#7201a8\"],[0.3333333333333333,\"#9c179e\"],[0.4444444444444444,\"#bd3786\"],[0.5555555555555556,\"#d8576b\"],[0.6666666666666666,\"#ed7953\"],[0.7777777777777778,\"#fb9f3a\"],[0.8888888888888888,\"#fdca26\"],[1.0,\"#f0f921\"]],\"type\":\"surface\"}],\"table\":[{\"cells\":{\"fill\":{\"color\":\"#EBF0F8\"},\"line\":{\"color\":\"white\"}},\"header\":{\"fill\":{\"color\":\"#C8D4E3\"},\"line\":{\"color\":\"white\"}},\"type\":\"table\"}]},\"layout\":{\"annotationdefaults\":{\"arrowcolor\":\"#2a3f5f\",\"arrowhead\":0,\"arrowwidth\":1},\"autotypenumbers\":\"strict\",\"coloraxis\":{\"colorbar\":{\"outlinewidth\":0,\"ticks\":\"\"}},\"colorscale\":{\"diverging\":[[0,\"#8e0152\"],[0.1,\"#c51b7d\"],[0.2,\"#de77ae\"],[0.3,\"#f1b6da\"],[0.4,\"#fde0ef\"],[0.5,\"#f7f7f7\"],[0.6,\"#e6f5d0\"],[0.7,\"#b8e186\"],[0.8,\"#7fbc41\"],[0.9,\"#4d9221\"],[1,\"#276419\"]],\"sequential\":[[0.0,\"#0d0887\"],[0.1111111111111111,\"#46039f\"],[0.2222222222222222,\"#7201a8\"],[0.3333333333333333,\"#9c179e\"],[0.4444444444444444,\"#bd3786\"],[0.5555555555555556,\"#d8576b\"],[0.6666666666666666,\"#ed7953\"],[0.7777777777777778,\"#fb9f3a\"],[0.8888888888888888,\"#fdca26\"],[1.0,\"#f0f921\"]],\"sequentialminus\":[[0.0,\"#0d0887\"],[0.1111111111111111,\"#46039f\"],[0.2222222222222222,\"#7201a8\"],[0.3333333333333333,\"#9c179e\"],[0.4444444444444444,\"#bd3786\"],[0.5555555555555556,\"#d8576b\"],[0.6666666666666666,\"#ed7953\"],[0.7777777777777778,\"#fb9f3a\"],[0.8888888888888888,\"#fdca26\"],[1.0,\"#f0f921\"]]},\"colorway\":[\"#636efa\",\"#EF553B\",\"#00cc96\",\"#ab63fa\",\"#FFA15A\",\"#19d3f3\",\"#FF6692\",\"#B6E880\",\"#FF97FF\",\"#FECB52\"],\"font\":{\"color\":\"#2a3f5f\"},\"geo\":{\"bgcolor\":\"white\",\"lakecolor\":\"white\",\"landcolor\":\"#E5ECF6\",\"showlakes\":true,\"showland\":true,\"subunitcolor\":\"white\"},\"hoverlabel\":{\"align\":\"left\"},\"hovermode\":\"closest\",\"mapbox\":{\"style\":\"light\"},\"paper_bgcolor\":\"white\",\"plot_bgcolor\":\"#E5ECF6\",\"polar\":{\"angularaxis\":{\"gridcolor\":\"white\",\"linecolor\":\"white\",\"ticks\":\"\"},\"bgcolor\":\"#E5ECF6\",\"radialaxis\":{\"gridcolor\":\"white\",\"linecolor\":\"white\",\"ticks\":\"\"}},\"scene\":{\"xaxis\":{\"backgroundcolor\":\"#E5ECF6\",\"gridcolor\":\"white\",\"gridwidth\":2,\"linecolor\":\"white\",\"showbackground\":true,\"ticks\":\"\",\"zerolinecolor\":\"white\"},\"yaxis\":{\"backgroundcolor\":\"#E5ECF6\",\"gridcolor\":\"white\",\"gridwidth\":2,\"linecolor\":\"white\",\"showbackground\":true,\"ticks\":\"\",\"zerolinecolor\":\"white\"},\"zaxis\":{\"backgroundcolor\":\"#E5ECF6\",\"gridcolor\":\"white\",\"gridwidth\":2,\"linecolor\":\"white\",\"showbackground\":true,\"ticks\":\"\",\"zerolinecolor\":\"white\"}},\"shapedefaults\":{\"line\":{\"color\":\"#2a3f5f\"}},\"ternary\":{\"aaxis\":{\"gridcolor\":\"white\",\"linecolor\":\"white\",\"ticks\":\"\"},\"baxis\":{\"gridcolor\":\"white\",\"linecolor\":\"white\",\"ticks\":\"\"},\"bgcolor\":\"#E5ECF6\",\"caxis\":{\"gridcolor\":\"white\",\"linecolor\":\"white\",\"ticks\":\"\"}},\"title\":{\"x\":0.05},\"xaxis\":{\"automargin\":true,\"gridcolor\":\"white\",\"linecolor\":\"white\",\"ticks\":\"\",\"title\":{\"standoff\":15},\"zerolinecolor\":\"white\",\"zerolinewidth\":2},\"yaxis\":{\"automargin\":true,\"gridcolor\":\"white\",\"linecolor\":\"white\",\"ticks\":\"\",\"title\":{\"standoff\":15},\"zerolinecolor\":\"white\",\"zerolinewidth\":2}}},\"title\":{\"text\":\"Paid & Free Games\"}},                        {\"responsive\": true}                    ).then(function(){\n",
       "                            \n",
       "var gd = document.getElementById('e79130d7-e89d-4ab2-b911-1972e7930b66');\n",
       "var x = new MutationObserver(function (mutations, observer) {{\n",
       "        var display = window.getComputedStyle(gd).display;\n",
       "        if (!display || display === 'none') {{\n",
       "            console.log([gd, 'removed!']);\n",
       "            Plotly.purge(gd);\n",
       "            observer.disconnect();\n",
       "        }}\n",
       "}});\n",
       "\n",
       "// Listen for the removal of the full notebook cells\n",
       "var notebookContainer = gd.closest('#notebook-container');\n",
       "if (notebookContainer) {{\n",
       "    x.observe(notebookContainer, {childList: true});\n",
       "}}\n",
       "\n",
       "// Listen for the clearing of the current output cell\n",
       "var outputEl = gd.closest('.output');\n",
       "if (outputEl) {{\n",
       "    x.observe(outputEl, {childList: true});\n",
       "}}\n",
       "\n",
       "                        })                };                });            </script>        </div>"
      ]
     },
     "metadata": {},
     "output_type": "display_data"
    }
   ],
   "source": [
    "paid_free= data['paid'].value_counts()\n",
    "label =['Free','Paid']\n",
    "fig = px.pie(paid_free, values=data['paid'].value_counts().values, names=label,\n",
    "             title='Paid & Free Games')\n",
    "fig.update_traces(textposition='inside', textinfo='percent+label')\n",
    "fig.show()"
   ]
  },
  {
   "cell_type": "markdown",
   "id": "e52497af",
   "metadata": {
    "papermill": {
     "duration": 0.037345,
     "end_time": "2021-08-08T05:46:43.788968",
     "exception": false,
     "start_time": "2021-08-08T05:46:43.751623",
     "status": "completed"
    },
    "tags": []
   },
   "source": [
    "**12.Total Ratings by Category**"
   ]
  },
  {
   "cell_type": "code",
   "execution_count": 24,
   "id": "f04eff91",
   "metadata": {
    "execution": {
     "iopub.execute_input": "2021-08-08T05:46:43.865578Z",
     "iopub.status.busy": "2021-08-08T05:46:43.864960Z",
     "iopub.status.idle": "2021-08-08T05:46:43.872972Z",
     "shell.execute_reply": "2021-08-08T05:46:43.873472Z",
     "shell.execute_reply.started": "2021-08-08T05:08:13.464382Z"
    },
    "papermill": {
     "duration": 0.047367,
     "end_time": "2021-08-08T05:46:43.873635",
     "exception": false,
     "start_time": "2021-08-08T05:46:43.826268",
     "status": "completed"
    },
    "tags": []
   },
   "outputs": [
    {
     "data": {
      "text/plain": [
       "category\n",
       "GAME ACTION          4.011344e+06\n",
       "GAME ADVENTURE       8.935617e+05\n",
       "GAME ARCADE          1.793780e+06\n",
       "GAME BOARD           4.457431e+05\n",
       "GAME CARD            3.326041e+05\n",
       "GAME CASINO          3.619031e+05\n",
       "GAME CASUAL          2.470866e+06\n",
       "GAME EDUCATIONAL     1.529804e+05\n",
       "GAME MUSIC           2.163020e+05\n",
       "GAME PUZZLE          9.466929e+05\n",
       "GAME RACING          1.139027e+06\n",
       "GAME ROLE PLAYING    7.087648e+05\n",
       "GAME SIMULATION      9.341417e+05\n",
       "GAME SPORTS          1.353829e+06\n",
       "GAME STRATEGY        1.856570e+06\n",
       "GAME TRIVIA          2.982217e+05\n",
       "GAME WORD            3.943603e+05\n",
       "Name: Total_ratings, dtype: float64"
      ]
     },
     "execution_count": 24,
     "metadata": {},
     "output_type": "execute_result"
    }
   ],
   "source": [
    "total_ratings_by_category = data.groupby('category')['Total_ratings'].mean()\n",
    "total_ratings_by_category"
   ]
  },
  {
   "cell_type": "code",
   "execution_count": 25,
   "id": "3881c840",
   "metadata": {
    "execution": {
     "iopub.execute_input": "2021-08-08T05:46:43.952149Z",
     "iopub.status.busy": "2021-08-08T05:46:43.951525Z",
     "iopub.status.idle": "2021-08-08T05:46:44.036173Z",
     "shell.execute_reply": "2021-08-08T05:46:44.036700Z",
     "shell.execute_reply.started": "2021-08-08T05:10:10.585352Z"
    },
    "papermill": {
     "duration": 0.124467,
     "end_time": "2021-08-08T05:46:44.036869",
     "exception": false,
     "start_time": "2021-08-08T05:46:43.912402",
     "status": "completed"
    },
    "tags": []
   },
   "outputs": [
    {
     "data": {
      "text/html": [
       "<div>                            <div id=\"ebb9c605-d85e-447e-98f8-cd1a8f07c8f8\" class=\"plotly-graph-div\" style=\"height:525px; width:100%;\"></div>            <script type=\"text/javascript\">                require([\"plotly\"], function(Plotly) {                    window.PLOTLYENV=window.PLOTLYENV || {};                                    if (document.getElementById(\"ebb9c605-d85e-447e-98f8-cd1a8f07c8f8\")) {                    Plotly.newPlot(                        \"ebb9c605-d85e-447e-98f8-cd1a8f07c8f8\",                        [{\"alignmentgroup\":\"True\",\"hovertemplate\":\"category=%{x}<br>Total_Ratings=%{y}<extra></extra>\",\"legendgroup\":\"\",\"marker\":{\"color\":\"#636efa\",\"pattern\":{\"shape\":\"\"}},\"name\":\"\",\"offsetgroup\":\"\",\"orientation\":\"v\",\"showlegend\":false,\"textposition\":\"auto\",\"type\":\"bar\",\"x\":[\"GAME ACTION\",\"GAME ADVENTURE\",\"GAME ARCADE\",\"GAME BOARD\",\"GAME CARD\",\"GAME CASINO\",\"GAME CASUAL\",\"GAME EDUCATIONAL\",\"GAME MUSIC\",\"GAME PUZZLE\",\"GAME RACING\",\"GAME ROLE PLAYING\",\"GAME SIMULATION\",\"GAME SPORTS\",\"GAME STRATEGY\",\"GAME TRIVIA\",\"GAME WORD\"],\"xaxis\":\"x\",\"y\":[4011343.6,893561.74,1793779.91,445743.07,332604.09523809527,361903.09,2470866.04,152980.35,216302.02,946692.92,1139026.8,708764.83,934141.65,1353828.82,1856569.75,298221.72,394360.32692307694],\"yaxis\":\"y\"}],                        {\"barmode\":\"relative\",\"legend\":{\"tracegroupgap\":0},\"margin\":{\"t\":60},\"template\":{\"data\":{\"bar\":[{\"error_x\":{\"color\":\"#2a3f5f\"},\"error_y\":{\"color\":\"#2a3f5f\"},\"marker\":{\"line\":{\"color\":\"#E5ECF6\",\"width\":0.5},\"pattern\":{\"fillmode\":\"overlay\",\"size\":10,\"solidity\":0.2}},\"type\":\"bar\"}],\"barpolar\":[{\"marker\":{\"line\":{\"color\":\"#E5ECF6\",\"width\":0.5},\"pattern\":{\"fillmode\":\"overlay\",\"size\":10,\"solidity\":0.2}},\"type\":\"barpolar\"}],\"carpet\":[{\"aaxis\":{\"endlinecolor\":\"#2a3f5f\",\"gridcolor\":\"white\",\"linecolor\":\"white\",\"minorgridcolor\":\"white\",\"startlinecolor\":\"#2a3f5f\"},\"baxis\":{\"endlinecolor\":\"#2a3f5f\",\"gridcolor\":\"white\",\"linecolor\":\"white\",\"minorgridcolor\":\"white\",\"startlinecolor\":\"#2a3f5f\"},\"type\":\"carpet\"}],\"choropleth\":[{\"colorbar\":{\"outlinewidth\":0,\"ticks\":\"\"},\"type\":\"choropleth\"}],\"contour\":[{\"colorbar\":{\"outlinewidth\":0,\"ticks\":\"\"},\"colorscale\":[[0.0,\"#0d0887\"],[0.1111111111111111,\"#46039f\"],[0.2222222222222222,\"#7201a8\"],[0.3333333333333333,\"#9c179e\"],[0.4444444444444444,\"#bd3786\"],[0.5555555555555556,\"#d8576b\"],[0.6666666666666666,\"#ed7953\"],[0.7777777777777778,\"#fb9f3a\"],[0.8888888888888888,\"#fdca26\"],[1.0,\"#f0f921\"]],\"type\":\"contour\"}],\"contourcarpet\":[{\"colorbar\":{\"outlinewidth\":0,\"ticks\":\"\"},\"type\":\"contourcarpet\"}],\"heatmap\":[{\"colorbar\":{\"outlinewidth\":0,\"ticks\":\"\"},\"colorscale\":[[0.0,\"#0d0887\"],[0.1111111111111111,\"#46039f\"],[0.2222222222222222,\"#7201a8\"],[0.3333333333333333,\"#9c179e\"],[0.4444444444444444,\"#bd3786\"],[0.5555555555555556,\"#d8576b\"],[0.6666666666666666,\"#ed7953\"],[0.7777777777777778,\"#fb9f3a\"],[0.8888888888888888,\"#fdca26\"],[1.0,\"#f0f921\"]],\"type\":\"heatmap\"}],\"heatmapgl\":[{\"colorbar\":{\"outlinewidth\":0,\"ticks\":\"\"},\"colorscale\":[[0.0,\"#0d0887\"],[0.1111111111111111,\"#46039f\"],[0.2222222222222222,\"#7201a8\"],[0.3333333333333333,\"#9c179e\"],[0.4444444444444444,\"#bd3786\"],[0.5555555555555556,\"#d8576b\"],[0.6666666666666666,\"#ed7953\"],[0.7777777777777778,\"#fb9f3a\"],[0.8888888888888888,\"#fdca26\"],[1.0,\"#f0f921\"]],\"type\":\"heatmapgl\"}],\"histogram\":[{\"marker\":{\"pattern\":{\"fillmode\":\"overlay\",\"size\":10,\"solidity\":0.2}},\"type\":\"histogram\"}],\"histogram2d\":[{\"colorbar\":{\"outlinewidth\":0,\"ticks\":\"\"},\"colorscale\":[[0.0,\"#0d0887\"],[0.1111111111111111,\"#46039f\"],[0.2222222222222222,\"#7201a8\"],[0.3333333333333333,\"#9c179e\"],[0.4444444444444444,\"#bd3786\"],[0.5555555555555556,\"#d8576b\"],[0.6666666666666666,\"#ed7953\"],[0.7777777777777778,\"#fb9f3a\"],[0.8888888888888888,\"#fdca26\"],[1.0,\"#f0f921\"]],\"type\":\"histogram2d\"}],\"histogram2dcontour\":[{\"colorbar\":{\"outlinewidth\":0,\"ticks\":\"\"},\"colorscale\":[[0.0,\"#0d0887\"],[0.1111111111111111,\"#46039f\"],[0.2222222222222222,\"#7201a8\"],[0.3333333333333333,\"#9c179e\"],[0.4444444444444444,\"#bd3786\"],[0.5555555555555556,\"#d8576b\"],[0.6666666666666666,\"#ed7953\"],[0.7777777777777778,\"#fb9f3a\"],[0.8888888888888888,\"#fdca26\"],[1.0,\"#f0f921\"]],\"type\":\"histogram2dcontour\"}],\"mesh3d\":[{\"colorbar\":{\"outlinewidth\":0,\"ticks\":\"\"},\"type\":\"mesh3d\"}],\"parcoords\":[{\"line\":{\"colorbar\":{\"outlinewidth\":0,\"ticks\":\"\"}},\"type\":\"parcoords\"}],\"pie\":[{\"automargin\":true,\"type\":\"pie\"}],\"scatter\":[{\"marker\":{\"colorbar\":{\"outlinewidth\":0,\"ticks\":\"\"}},\"type\":\"scatter\"}],\"scatter3d\":[{\"line\":{\"colorbar\":{\"outlinewidth\":0,\"ticks\":\"\"}},\"marker\":{\"colorbar\":{\"outlinewidth\":0,\"ticks\":\"\"}},\"type\":\"scatter3d\"}],\"scattercarpet\":[{\"marker\":{\"colorbar\":{\"outlinewidth\":0,\"ticks\":\"\"}},\"type\":\"scattercarpet\"}],\"scattergeo\":[{\"marker\":{\"colorbar\":{\"outlinewidth\":0,\"ticks\":\"\"}},\"type\":\"scattergeo\"}],\"scattergl\":[{\"marker\":{\"colorbar\":{\"outlinewidth\":0,\"ticks\":\"\"}},\"type\":\"scattergl\"}],\"scattermapbox\":[{\"marker\":{\"colorbar\":{\"outlinewidth\":0,\"ticks\":\"\"}},\"type\":\"scattermapbox\"}],\"scatterpolar\":[{\"marker\":{\"colorbar\":{\"outlinewidth\":0,\"ticks\":\"\"}},\"type\":\"scatterpolar\"}],\"scatterpolargl\":[{\"marker\":{\"colorbar\":{\"outlinewidth\":0,\"ticks\":\"\"}},\"type\":\"scatterpolargl\"}],\"scatterternary\":[{\"marker\":{\"colorbar\":{\"outlinewidth\":0,\"ticks\":\"\"}},\"type\":\"scatterternary\"}],\"surface\":[{\"colorbar\":{\"outlinewidth\":0,\"ticks\":\"\"},\"colorscale\":[[0.0,\"#0d0887\"],[0.1111111111111111,\"#46039f\"],[0.2222222222222222,\"#7201a8\"],[0.3333333333333333,\"#9c179e\"],[0.4444444444444444,\"#bd3786\"],[0.5555555555555556,\"#d8576b\"],[0.6666666666666666,\"#ed7953\"],[0.7777777777777778,\"#fb9f3a\"],[0.8888888888888888,\"#fdca26\"],[1.0,\"#f0f921\"]],\"type\":\"surface\"}],\"table\":[{\"cells\":{\"fill\":{\"color\":\"#EBF0F8\"},\"line\":{\"color\":\"white\"}},\"header\":{\"fill\":{\"color\":\"#C8D4E3\"},\"line\":{\"color\":\"white\"}},\"type\":\"table\"}]},\"layout\":{\"annotationdefaults\":{\"arrowcolor\":\"#2a3f5f\",\"arrowhead\":0,\"arrowwidth\":1},\"autotypenumbers\":\"strict\",\"coloraxis\":{\"colorbar\":{\"outlinewidth\":0,\"ticks\":\"\"}},\"colorscale\":{\"diverging\":[[0,\"#8e0152\"],[0.1,\"#c51b7d\"],[0.2,\"#de77ae\"],[0.3,\"#f1b6da\"],[0.4,\"#fde0ef\"],[0.5,\"#f7f7f7\"],[0.6,\"#e6f5d0\"],[0.7,\"#b8e186\"],[0.8,\"#7fbc41\"],[0.9,\"#4d9221\"],[1,\"#276419\"]],\"sequential\":[[0.0,\"#0d0887\"],[0.1111111111111111,\"#46039f\"],[0.2222222222222222,\"#7201a8\"],[0.3333333333333333,\"#9c179e\"],[0.4444444444444444,\"#bd3786\"],[0.5555555555555556,\"#d8576b\"],[0.6666666666666666,\"#ed7953\"],[0.7777777777777778,\"#fb9f3a\"],[0.8888888888888888,\"#fdca26\"],[1.0,\"#f0f921\"]],\"sequentialminus\":[[0.0,\"#0d0887\"],[0.1111111111111111,\"#46039f\"],[0.2222222222222222,\"#7201a8\"],[0.3333333333333333,\"#9c179e\"],[0.4444444444444444,\"#bd3786\"],[0.5555555555555556,\"#d8576b\"],[0.6666666666666666,\"#ed7953\"],[0.7777777777777778,\"#fb9f3a\"],[0.8888888888888888,\"#fdca26\"],[1.0,\"#f0f921\"]]},\"colorway\":[\"#636efa\",\"#EF553B\",\"#00cc96\",\"#ab63fa\",\"#FFA15A\",\"#19d3f3\",\"#FF6692\",\"#B6E880\",\"#FF97FF\",\"#FECB52\"],\"font\":{\"color\":\"#2a3f5f\"},\"geo\":{\"bgcolor\":\"white\",\"lakecolor\":\"white\",\"landcolor\":\"#E5ECF6\",\"showlakes\":true,\"showland\":true,\"subunitcolor\":\"white\"},\"hoverlabel\":{\"align\":\"left\"},\"hovermode\":\"closest\",\"mapbox\":{\"style\":\"light\"},\"paper_bgcolor\":\"white\",\"plot_bgcolor\":\"#E5ECF6\",\"polar\":{\"angularaxis\":{\"gridcolor\":\"white\",\"linecolor\":\"white\",\"ticks\":\"\"},\"bgcolor\":\"#E5ECF6\",\"radialaxis\":{\"gridcolor\":\"white\",\"linecolor\":\"white\",\"ticks\":\"\"}},\"scene\":{\"xaxis\":{\"backgroundcolor\":\"#E5ECF6\",\"gridcolor\":\"white\",\"gridwidth\":2,\"linecolor\":\"white\",\"showbackground\":true,\"ticks\":\"\",\"zerolinecolor\":\"white\"},\"yaxis\":{\"backgroundcolor\":\"#E5ECF6\",\"gridcolor\":\"white\",\"gridwidth\":2,\"linecolor\":\"white\",\"showbackground\":true,\"ticks\":\"\",\"zerolinecolor\":\"white\"},\"zaxis\":{\"backgroundcolor\":\"#E5ECF6\",\"gridcolor\":\"white\",\"gridwidth\":2,\"linecolor\":\"white\",\"showbackground\":true,\"ticks\":\"\",\"zerolinecolor\":\"white\"}},\"shapedefaults\":{\"line\":{\"color\":\"#2a3f5f\"}},\"ternary\":{\"aaxis\":{\"gridcolor\":\"white\",\"linecolor\":\"white\",\"ticks\":\"\"},\"baxis\":{\"gridcolor\":\"white\",\"linecolor\":\"white\",\"ticks\":\"\"},\"bgcolor\":\"#E5ECF6\",\"caxis\":{\"gridcolor\":\"white\",\"linecolor\":\"white\",\"ticks\":\"\"}},\"title\":{\"x\":0.05},\"xaxis\":{\"automargin\":true,\"gridcolor\":\"white\",\"linecolor\":\"white\",\"ticks\":\"\",\"title\":{\"standoff\":15},\"zerolinecolor\":\"white\",\"zerolinewidth\":2},\"yaxis\":{\"automargin\":true,\"gridcolor\":\"white\",\"linecolor\":\"white\",\"ticks\":\"\",\"title\":{\"standoff\":15},\"zerolinecolor\":\"white\",\"zerolinewidth\":2}}},\"xaxis\":{\"anchor\":\"y\",\"categoryorder\":\"total descending\",\"domain\":[0.0,1.0],\"title\":{\"text\":\"category\"}},\"yaxis\":{\"anchor\":\"x\",\"domain\":[0.0,1.0],\"title\":{\"text\":\"Total_Ratings\"}}},                        {\"responsive\": true}                    ).then(function(){\n",
       "                            \n",
       "var gd = document.getElementById('ebb9c605-d85e-447e-98f8-cd1a8f07c8f8');\n",
       "var x = new MutationObserver(function (mutations, observer) {{\n",
       "        var display = window.getComputedStyle(gd).display;\n",
       "        if (!display || display === 'none') {{\n",
       "            console.log([gd, 'removed!']);\n",
       "            Plotly.purge(gd);\n",
       "            observer.disconnect();\n",
       "        }}\n",
       "}});\n",
       "\n",
       "// Listen for the removal of the full notebook cells\n",
       "var notebookContainer = gd.closest('#notebook-container');\n",
       "if (notebookContainer) {{\n",
       "    x.observe(notebookContainer, {childList: true});\n",
       "}}\n",
       "\n",
       "// Listen for the clearing of the current output cell\n",
       "var outputEl = gd.closest('.output');\n",
       "if (outputEl) {{\n",
       "    x.observe(outputEl, {childList: true});\n",
       "}}\n",
       "\n",
       "                        })                };                });            </script>        </div>"
      ]
     },
     "metadata": {},
     "output_type": "display_data"
    }
   ],
   "source": [
    "fig = px.bar(total_ratings_by_category, x= total_ratings_by_category.index, y=total_ratings_by_category.values, labels={'y':'Total_Ratings'})\n",
    "fig.update_layout(xaxis={'categoryorder':'total descending'})\n",
    "fig.show()"
   ]
  },
  {
   "cell_type": "markdown",
   "id": "8a20d4fd",
   "metadata": {
    "papermill": {
     "duration": 0.039308,
     "end_time": "2021-08-08T05:46:44.114478",
     "exception": false,
     "start_time": "2021-08-08T05:46:44.075170",
     "status": "completed"
    },
    "tags": []
   },
   "source": [
    "**13.Number of Game Installations by Game Category**"
   ]
  },
  {
   "cell_type": "code",
   "execution_count": 26,
   "id": "56436504",
   "metadata": {
    "execution": {
     "iopub.execute_input": "2021-08-08T05:46:44.202594Z",
     "iopub.status.busy": "2021-08-08T05:46:44.201976Z",
     "iopub.status.idle": "2021-08-08T05:46:44.212639Z",
     "shell.execute_reply": "2021-08-08T05:46:44.213288Z",
     "shell.execute_reply.started": "2021-08-08T05:10:45.165057Z"
    },
    "papermill": {
     "duration": 0.060947,
     "end_time": "2021-08-08T05:46:44.213463",
     "exception": false,
     "start_time": "2021-08-08T05:46:44.152516",
     "status": "completed"
    },
    "tags": []
   },
   "outputs": [
    {
     "data": {
      "text/plain": [
       "category\n",
       "GAME ACTION          74.100000\n",
       "GAME ADVENTURE       18.030000\n",
       "GAME ARCADE          71.610000\n",
       "GAME BOARD           21.230000\n",
       "GAME CARD            12.484127\n",
       "GAME CASINO           7.715000\n",
       "GAME CASUAL          63.970000\n",
       "GAME EDUCATIONAL     17.895000\n",
       "GAME MUSIC           12.487000\n",
       "GAME PUZZLE          36.210000\n",
       "GAME RACING          46.750000\n",
       "GAME ROLE PLAYING    14.080000\n",
       "GAME SIMULATION      27.710000\n",
       "GAME SPORTS          33.610000\n",
       "GAME STRATEGY        23.910000\n",
       "GAME TRIVIA           6.901000\n",
       "GAME WORD            12.317308\n",
       "Name: installs_in_million, dtype: float64"
      ]
     },
     "execution_count": 26,
     "metadata": {},
     "output_type": "execute_result"
    }
   ],
   "source": [
    "install_by_category = data.groupby('category')['installs_in_million'].mean()\n",
    "install_by_category"
   ]
  },
  {
   "cell_type": "code",
   "execution_count": 27,
   "id": "6d9053f1",
   "metadata": {
    "execution": {
     "iopub.execute_input": "2021-08-08T05:46:44.309360Z",
     "iopub.status.busy": "2021-08-08T05:46:44.308462Z",
     "iopub.status.idle": "2021-08-08T05:46:44.372599Z",
     "shell.execute_reply": "2021-08-08T05:46:44.373392Z",
     "shell.execute_reply.started": "2021-08-08T05:11:43.706281Z"
    },
    "papermill": {
     "duration": 0.110287,
     "end_time": "2021-08-08T05:46:44.373629",
     "exception": false,
     "start_time": "2021-08-08T05:46:44.263342",
     "status": "completed"
    },
    "tags": []
   },
   "outputs": [
    {
     "data": {
      "text/html": [
       "<div>                            <div id=\"059b63a5-0551-4c39-9968-56066844b5af\" class=\"plotly-graph-div\" style=\"height:525px; width:100%;\"></div>            <script type=\"text/javascript\">                require([\"plotly\"], function(Plotly) {                    window.PLOTLYENV=window.PLOTLYENV || {};                                    if (document.getElementById(\"059b63a5-0551-4c39-9968-56066844b5af\")) {                    Plotly.newPlot(                        \"059b63a5-0551-4c39-9968-56066844b5af\",                        [{\"alignmentgroup\":\"True\",\"hovertemplate\":\"category=%{x}<br>Install in Millions=%{y}<extra></extra>\",\"legendgroup\":\"\",\"marker\":{\"color\":\"#636efa\",\"pattern\":{\"shape\":\"\"}},\"name\":\"\",\"offsetgroup\":\"\",\"orientation\":\"v\",\"showlegend\":false,\"textposition\":\"auto\",\"type\":\"bar\",\"x\":[\"GAME ACTION\",\"GAME ADVENTURE\",\"GAME ARCADE\",\"GAME BOARD\",\"GAME CARD\",\"GAME CASINO\",\"GAME CASUAL\",\"GAME EDUCATIONAL\",\"GAME MUSIC\",\"GAME PUZZLE\",\"GAME RACING\",\"GAME ROLE PLAYING\",\"GAME SIMULATION\",\"GAME SPORTS\",\"GAME STRATEGY\",\"GAME TRIVIA\",\"GAME WORD\"],\"xaxis\":\"x\",\"y\":[74.1,18.03,71.61,21.23,12.484126984126984,7.715,63.97,17.895,12.486999999999998,36.21,46.75,14.08,27.71,33.61,23.91,6.901,12.317307692307692],\"yaxis\":\"y\"}],                        {\"barmode\":\"relative\",\"legend\":{\"tracegroupgap\":0},\"margin\":{\"t\":60},\"template\":{\"data\":{\"bar\":[{\"error_x\":{\"color\":\"#2a3f5f\"},\"error_y\":{\"color\":\"#2a3f5f\"},\"marker\":{\"line\":{\"color\":\"#E5ECF6\",\"width\":0.5},\"pattern\":{\"fillmode\":\"overlay\",\"size\":10,\"solidity\":0.2}},\"type\":\"bar\"}],\"barpolar\":[{\"marker\":{\"line\":{\"color\":\"#E5ECF6\",\"width\":0.5},\"pattern\":{\"fillmode\":\"overlay\",\"size\":10,\"solidity\":0.2}},\"type\":\"barpolar\"}],\"carpet\":[{\"aaxis\":{\"endlinecolor\":\"#2a3f5f\",\"gridcolor\":\"white\",\"linecolor\":\"white\",\"minorgridcolor\":\"white\",\"startlinecolor\":\"#2a3f5f\"},\"baxis\":{\"endlinecolor\":\"#2a3f5f\",\"gridcolor\":\"white\",\"linecolor\":\"white\",\"minorgridcolor\":\"white\",\"startlinecolor\":\"#2a3f5f\"},\"type\":\"carpet\"}],\"choropleth\":[{\"colorbar\":{\"outlinewidth\":0,\"ticks\":\"\"},\"type\":\"choropleth\"}],\"contour\":[{\"colorbar\":{\"outlinewidth\":0,\"ticks\":\"\"},\"colorscale\":[[0.0,\"#0d0887\"],[0.1111111111111111,\"#46039f\"],[0.2222222222222222,\"#7201a8\"],[0.3333333333333333,\"#9c179e\"],[0.4444444444444444,\"#bd3786\"],[0.5555555555555556,\"#d8576b\"],[0.6666666666666666,\"#ed7953\"],[0.7777777777777778,\"#fb9f3a\"],[0.8888888888888888,\"#fdca26\"],[1.0,\"#f0f921\"]],\"type\":\"contour\"}],\"contourcarpet\":[{\"colorbar\":{\"outlinewidth\":0,\"ticks\":\"\"},\"type\":\"contourcarpet\"}],\"heatmap\":[{\"colorbar\":{\"outlinewidth\":0,\"ticks\":\"\"},\"colorscale\":[[0.0,\"#0d0887\"],[0.1111111111111111,\"#46039f\"],[0.2222222222222222,\"#7201a8\"],[0.3333333333333333,\"#9c179e\"],[0.4444444444444444,\"#bd3786\"],[0.5555555555555556,\"#d8576b\"],[0.6666666666666666,\"#ed7953\"],[0.7777777777777778,\"#fb9f3a\"],[0.8888888888888888,\"#fdca26\"],[1.0,\"#f0f921\"]],\"type\":\"heatmap\"}],\"heatmapgl\":[{\"colorbar\":{\"outlinewidth\":0,\"ticks\":\"\"},\"colorscale\":[[0.0,\"#0d0887\"],[0.1111111111111111,\"#46039f\"],[0.2222222222222222,\"#7201a8\"],[0.3333333333333333,\"#9c179e\"],[0.4444444444444444,\"#bd3786\"],[0.5555555555555556,\"#d8576b\"],[0.6666666666666666,\"#ed7953\"],[0.7777777777777778,\"#fb9f3a\"],[0.8888888888888888,\"#fdca26\"],[1.0,\"#f0f921\"]],\"type\":\"heatmapgl\"}],\"histogram\":[{\"marker\":{\"pattern\":{\"fillmode\":\"overlay\",\"size\":10,\"solidity\":0.2}},\"type\":\"histogram\"}],\"histogram2d\":[{\"colorbar\":{\"outlinewidth\":0,\"ticks\":\"\"},\"colorscale\":[[0.0,\"#0d0887\"],[0.1111111111111111,\"#46039f\"],[0.2222222222222222,\"#7201a8\"],[0.3333333333333333,\"#9c179e\"],[0.4444444444444444,\"#bd3786\"],[0.5555555555555556,\"#d8576b\"],[0.6666666666666666,\"#ed7953\"],[0.7777777777777778,\"#fb9f3a\"],[0.8888888888888888,\"#fdca26\"],[1.0,\"#f0f921\"]],\"type\":\"histogram2d\"}],\"histogram2dcontour\":[{\"colorbar\":{\"outlinewidth\":0,\"ticks\":\"\"},\"colorscale\":[[0.0,\"#0d0887\"],[0.1111111111111111,\"#46039f\"],[0.2222222222222222,\"#7201a8\"],[0.3333333333333333,\"#9c179e\"],[0.4444444444444444,\"#bd3786\"],[0.5555555555555556,\"#d8576b\"],[0.6666666666666666,\"#ed7953\"],[0.7777777777777778,\"#fb9f3a\"],[0.8888888888888888,\"#fdca26\"],[1.0,\"#f0f921\"]],\"type\":\"histogram2dcontour\"}],\"mesh3d\":[{\"colorbar\":{\"outlinewidth\":0,\"ticks\":\"\"},\"type\":\"mesh3d\"}],\"parcoords\":[{\"line\":{\"colorbar\":{\"outlinewidth\":0,\"ticks\":\"\"}},\"type\":\"parcoords\"}],\"pie\":[{\"automargin\":true,\"type\":\"pie\"}],\"scatter\":[{\"marker\":{\"colorbar\":{\"outlinewidth\":0,\"ticks\":\"\"}},\"type\":\"scatter\"}],\"scatter3d\":[{\"line\":{\"colorbar\":{\"outlinewidth\":0,\"ticks\":\"\"}},\"marker\":{\"colorbar\":{\"outlinewidth\":0,\"ticks\":\"\"}},\"type\":\"scatter3d\"}],\"scattercarpet\":[{\"marker\":{\"colorbar\":{\"outlinewidth\":0,\"ticks\":\"\"}},\"type\":\"scattercarpet\"}],\"scattergeo\":[{\"marker\":{\"colorbar\":{\"outlinewidth\":0,\"ticks\":\"\"}},\"type\":\"scattergeo\"}],\"scattergl\":[{\"marker\":{\"colorbar\":{\"outlinewidth\":0,\"ticks\":\"\"}},\"type\":\"scattergl\"}],\"scattermapbox\":[{\"marker\":{\"colorbar\":{\"outlinewidth\":0,\"ticks\":\"\"}},\"type\":\"scattermapbox\"}],\"scatterpolar\":[{\"marker\":{\"colorbar\":{\"outlinewidth\":0,\"ticks\":\"\"}},\"type\":\"scatterpolar\"}],\"scatterpolargl\":[{\"marker\":{\"colorbar\":{\"outlinewidth\":0,\"ticks\":\"\"}},\"type\":\"scatterpolargl\"}],\"scatterternary\":[{\"marker\":{\"colorbar\":{\"outlinewidth\":0,\"ticks\":\"\"}},\"type\":\"scatterternary\"}],\"surface\":[{\"colorbar\":{\"outlinewidth\":0,\"ticks\":\"\"},\"colorscale\":[[0.0,\"#0d0887\"],[0.1111111111111111,\"#46039f\"],[0.2222222222222222,\"#7201a8\"],[0.3333333333333333,\"#9c179e\"],[0.4444444444444444,\"#bd3786\"],[0.5555555555555556,\"#d8576b\"],[0.6666666666666666,\"#ed7953\"],[0.7777777777777778,\"#fb9f3a\"],[0.8888888888888888,\"#fdca26\"],[1.0,\"#f0f921\"]],\"type\":\"surface\"}],\"table\":[{\"cells\":{\"fill\":{\"color\":\"#EBF0F8\"},\"line\":{\"color\":\"white\"}},\"header\":{\"fill\":{\"color\":\"#C8D4E3\"},\"line\":{\"color\":\"white\"}},\"type\":\"table\"}]},\"layout\":{\"annotationdefaults\":{\"arrowcolor\":\"#2a3f5f\",\"arrowhead\":0,\"arrowwidth\":1},\"autotypenumbers\":\"strict\",\"coloraxis\":{\"colorbar\":{\"outlinewidth\":0,\"ticks\":\"\"}},\"colorscale\":{\"diverging\":[[0,\"#8e0152\"],[0.1,\"#c51b7d\"],[0.2,\"#de77ae\"],[0.3,\"#f1b6da\"],[0.4,\"#fde0ef\"],[0.5,\"#f7f7f7\"],[0.6,\"#e6f5d0\"],[0.7,\"#b8e186\"],[0.8,\"#7fbc41\"],[0.9,\"#4d9221\"],[1,\"#276419\"]],\"sequential\":[[0.0,\"#0d0887\"],[0.1111111111111111,\"#46039f\"],[0.2222222222222222,\"#7201a8\"],[0.3333333333333333,\"#9c179e\"],[0.4444444444444444,\"#bd3786\"],[0.5555555555555556,\"#d8576b\"],[0.6666666666666666,\"#ed7953\"],[0.7777777777777778,\"#fb9f3a\"],[0.8888888888888888,\"#fdca26\"],[1.0,\"#f0f921\"]],\"sequentialminus\":[[0.0,\"#0d0887\"],[0.1111111111111111,\"#46039f\"],[0.2222222222222222,\"#7201a8\"],[0.3333333333333333,\"#9c179e\"],[0.4444444444444444,\"#bd3786\"],[0.5555555555555556,\"#d8576b\"],[0.6666666666666666,\"#ed7953\"],[0.7777777777777778,\"#fb9f3a\"],[0.8888888888888888,\"#fdca26\"],[1.0,\"#f0f921\"]]},\"colorway\":[\"#636efa\",\"#EF553B\",\"#00cc96\",\"#ab63fa\",\"#FFA15A\",\"#19d3f3\",\"#FF6692\",\"#B6E880\",\"#FF97FF\",\"#FECB52\"],\"font\":{\"color\":\"#2a3f5f\"},\"geo\":{\"bgcolor\":\"white\",\"lakecolor\":\"white\",\"landcolor\":\"#E5ECF6\",\"showlakes\":true,\"showland\":true,\"subunitcolor\":\"white\"},\"hoverlabel\":{\"align\":\"left\"},\"hovermode\":\"closest\",\"mapbox\":{\"style\":\"light\"},\"paper_bgcolor\":\"white\",\"plot_bgcolor\":\"#E5ECF6\",\"polar\":{\"angularaxis\":{\"gridcolor\":\"white\",\"linecolor\":\"white\",\"ticks\":\"\"},\"bgcolor\":\"#E5ECF6\",\"radialaxis\":{\"gridcolor\":\"white\",\"linecolor\":\"white\",\"ticks\":\"\"}},\"scene\":{\"xaxis\":{\"backgroundcolor\":\"#E5ECF6\",\"gridcolor\":\"white\",\"gridwidth\":2,\"linecolor\":\"white\",\"showbackground\":true,\"ticks\":\"\",\"zerolinecolor\":\"white\"},\"yaxis\":{\"backgroundcolor\":\"#E5ECF6\",\"gridcolor\":\"white\",\"gridwidth\":2,\"linecolor\":\"white\",\"showbackground\":true,\"ticks\":\"\",\"zerolinecolor\":\"white\"},\"zaxis\":{\"backgroundcolor\":\"#E5ECF6\",\"gridcolor\":\"white\",\"gridwidth\":2,\"linecolor\":\"white\",\"showbackground\":true,\"ticks\":\"\",\"zerolinecolor\":\"white\"}},\"shapedefaults\":{\"line\":{\"color\":\"#2a3f5f\"}},\"ternary\":{\"aaxis\":{\"gridcolor\":\"white\",\"linecolor\":\"white\",\"ticks\":\"\"},\"baxis\":{\"gridcolor\":\"white\",\"linecolor\":\"white\",\"ticks\":\"\"},\"bgcolor\":\"#E5ECF6\",\"caxis\":{\"gridcolor\":\"white\",\"linecolor\":\"white\",\"ticks\":\"\"}},\"title\":{\"x\":0.05},\"xaxis\":{\"automargin\":true,\"gridcolor\":\"white\",\"linecolor\":\"white\",\"ticks\":\"\",\"title\":{\"standoff\":15},\"zerolinecolor\":\"white\",\"zerolinewidth\":2},\"yaxis\":{\"automargin\":true,\"gridcolor\":\"white\",\"linecolor\":\"white\",\"ticks\":\"\",\"title\":{\"standoff\":15},\"zerolinecolor\":\"white\",\"zerolinewidth\":2}}},\"xaxis\":{\"anchor\":\"y\",\"categoryorder\":\"total descending\",\"domain\":[0.0,1.0],\"title\":{\"text\":\"category\"}},\"yaxis\":{\"anchor\":\"x\",\"domain\":[0.0,1.0],\"title\":{\"text\":\"Install in Millions\"}}},                        {\"responsive\": true}                    ).then(function(){\n",
       "                            \n",
       "var gd = document.getElementById('059b63a5-0551-4c39-9968-56066844b5af');\n",
       "var x = new MutationObserver(function (mutations, observer) {{\n",
       "        var display = window.getComputedStyle(gd).display;\n",
       "        if (!display || display === 'none') {{\n",
       "            console.log([gd, 'removed!']);\n",
       "            Plotly.purge(gd);\n",
       "            observer.disconnect();\n",
       "        }}\n",
       "}});\n",
       "\n",
       "// Listen for the removal of the full notebook cells\n",
       "var notebookContainer = gd.closest('#notebook-container');\n",
       "if (notebookContainer) {{\n",
       "    x.observe(notebookContainer, {childList: true});\n",
       "}}\n",
       "\n",
       "// Listen for the clearing of the current output cell\n",
       "var outputEl = gd.closest('.output');\n",
       "if (outputEl) {{\n",
       "    x.observe(outputEl, {childList: true});\n",
       "}}\n",
       "\n",
       "                        })                };                });            </script>        </div>"
      ]
     },
     "metadata": {},
     "output_type": "display_data"
    }
   ],
   "source": [
    "fig = px.bar(install_by_category, x= install_by_category.index, y=install_by_category.values, labels={'y':'Install in Millions'})\n",
    "fig.update_layout(xaxis={'categoryorder':'total descending'})\n",
    "fig.show()"
   ]
  },
  {
   "cell_type": "code",
   "execution_count": 28,
   "id": "2da734ba",
   "metadata": {
    "execution": {
     "iopub.execute_input": "2021-08-08T05:46:44.461543Z",
     "iopub.status.busy": "2021-08-08T05:46:44.460603Z",
     "iopub.status.idle": "2021-08-08T05:46:44.473133Z",
     "shell.execute_reply": "2021-08-08T05:46:44.472477Z",
     "shell.execute_reply.started": "2021-08-08T05:12:36.480369Z"
    },
    "papermill": {
     "duration": 0.057879,
     "end_time": "2021-08-08T05:46:44.473281",
     "exception": false,
     "start_time": "2021-08-08T05:46:44.415402",
     "status": "completed"
    },
    "tags": []
   },
   "outputs": [
    {
     "data": {
      "text/plain": [
       "category\n",
       "GAME ACTION            18.808000\n",
       "GAME ADVENTURE        259.101000\n",
       "GAME ARCADE            58.924000\n",
       "GAME BOARD             34.445000\n",
       "GAME CARD             746.598413\n",
       "GAME CASINO          2335.253000\n",
       "GAME CASUAL            36.020000\n",
       "GAME EDUCATIONAL      102.455000\n",
       "GAME MUSIC             24.626000\n",
       "GAME PUZZLE            44.362000\n",
       "GAME RACING           207.103000\n",
       "GAME ROLE PLAYING     209.979000\n",
       "GAME SIMULATION        13.406000\n",
       "GAME SPORTS           159.543000\n",
       "GAME STRATEGY          18.281000\n",
       "GAME TRIVIA          1079.680000\n",
       "GAME WORD              22.433654\n",
       "Name: growth (30 days), dtype: float64"
      ]
     },
     "execution_count": 28,
     "metadata": {},
     "output_type": "execute_result"
    }
   ],
   "source": [
    "growth_by_category_30 = data.groupby('category')['growth (30 days)'].mean()\n",
    "growth_by_category_30"
   ]
  },
  {
   "cell_type": "code",
   "execution_count": 29,
   "id": "0115dfd4",
   "metadata": {
    "execution": {
     "iopub.execute_input": "2021-08-08T05:46:44.602629Z",
     "iopub.status.busy": "2021-08-08T05:46:44.567468Z",
     "iopub.status.idle": "2021-08-08T05:46:44.617984Z",
     "shell.execute_reply": "2021-08-08T05:46:44.617475Z",
     "shell.execute_reply.started": "2021-08-08T05:12:56.657522Z"
    },
    "papermill": {
     "duration": 0.102069,
     "end_time": "2021-08-08T05:46:44.618130",
     "exception": false,
     "start_time": "2021-08-08T05:46:44.516061",
     "status": "completed"
    },
    "tags": []
   },
   "outputs": [
    {
     "data": {
      "text/html": [
       "<div>                            <div id=\"ba763f79-ed99-4327-a699-790a28a54b7e\" class=\"plotly-graph-div\" style=\"height:525px; width:100%;\"></div>            <script type=\"text/javascript\">                require([\"plotly\"], function(Plotly) {                    window.PLOTLYENV=window.PLOTLYENV || {};                                    if (document.getElementById(\"ba763f79-ed99-4327-a699-790a28a54b7e\")) {                    Plotly.newPlot(                        \"ba763f79-ed99-4327-a699-790a28a54b7e\",                        [{\"alignmentgroup\":\"True\",\"hovertemplate\":\"category=%{x}<br>Growth in 30 days=%{y}<extra></extra>\",\"legendgroup\":\"\",\"marker\":{\"color\":\"#636efa\",\"pattern\":{\"shape\":\"\"}},\"name\":\"\",\"offsetgroup\":\"\",\"orientation\":\"v\",\"showlegend\":false,\"textposition\":\"auto\",\"type\":\"bar\",\"x\":[\"GAME ACTION\",\"GAME ADVENTURE\",\"GAME ARCADE\",\"GAME BOARD\",\"GAME CARD\",\"GAME CASINO\",\"GAME CASUAL\",\"GAME EDUCATIONAL\",\"GAME MUSIC\",\"GAME PUZZLE\",\"GAME RACING\",\"GAME ROLE PLAYING\",\"GAME SIMULATION\",\"GAME SPORTS\",\"GAME STRATEGY\",\"GAME TRIVIA\",\"GAME WORD\"],\"xaxis\":\"x\",\"y\":[18.807999999999996,259.1009999999999,58.924000000000035,34.44499999999998,746.5984126984129,2335.253000000002,36.019999999999996,102.45499999999998,24.626000000000005,44.36199999999999,207.1029999999999,209.97899999999984,13.405999999999999,159.54300000000006,18.281,1079.6800000000003,22.43365384615384],\"yaxis\":\"y\"}],                        {\"barmode\":\"relative\",\"legend\":{\"tracegroupgap\":0},\"margin\":{\"t\":60},\"template\":{\"data\":{\"bar\":[{\"error_x\":{\"color\":\"#2a3f5f\"},\"error_y\":{\"color\":\"#2a3f5f\"},\"marker\":{\"line\":{\"color\":\"#E5ECF6\",\"width\":0.5},\"pattern\":{\"fillmode\":\"overlay\",\"size\":10,\"solidity\":0.2}},\"type\":\"bar\"}],\"barpolar\":[{\"marker\":{\"line\":{\"color\":\"#E5ECF6\",\"width\":0.5},\"pattern\":{\"fillmode\":\"overlay\",\"size\":10,\"solidity\":0.2}},\"type\":\"barpolar\"}],\"carpet\":[{\"aaxis\":{\"endlinecolor\":\"#2a3f5f\",\"gridcolor\":\"white\",\"linecolor\":\"white\",\"minorgridcolor\":\"white\",\"startlinecolor\":\"#2a3f5f\"},\"baxis\":{\"endlinecolor\":\"#2a3f5f\",\"gridcolor\":\"white\",\"linecolor\":\"white\",\"minorgridcolor\":\"white\",\"startlinecolor\":\"#2a3f5f\"},\"type\":\"carpet\"}],\"choropleth\":[{\"colorbar\":{\"outlinewidth\":0,\"ticks\":\"\"},\"type\":\"choropleth\"}],\"contour\":[{\"colorbar\":{\"outlinewidth\":0,\"ticks\":\"\"},\"colorscale\":[[0.0,\"#0d0887\"],[0.1111111111111111,\"#46039f\"],[0.2222222222222222,\"#7201a8\"],[0.3333333333333333,\"#9c179e\"],[0.4444444444444444,\"#bd3786\"],[0.5555555555555556,\"#d8576b\"],[0.6666666666666666,\"#ed7953\"],[0.7777777777777778,\"#fb9f3a\"],[0.8888888888888888,\"#fdca26\"],[1.0,\"#f0f921\"]],\"type\":\"contour\"}],\"contourcarpet\":[{\"colorbar\":{\"outlinewidth\":0,\"ticks\":\"\"},\"type\":\"contourcarpet\"}],\"heatmap\":[{\"colorbar\":{\"outlinewidth\":0,\"ticks\":\"\"},\"colorscale\":[[0.0,\"#0d0887\"],[0.1111111111111111,\"#46039f\"],[0.2222222222222222,\"#7201a8\"],[0.3333333333333333,\"#9c179e\"],[0.4444444444444444,\"#bd3786\"],[0.5555555555555556,\"#d8576b\"],[0.6666666666666666,\"#ed7953\"],[0.7777777777777778,\"#fb9f3a\"],[0.8888888888888888,\"#fdca26\"],[1.0,\"#f0f921\"]],\"type\":\"heatmap\"}],\"heatmapgl\":[{\"colorbar\":{\"outlinewidth\":0,\"ticks\":\"\"},\"colorscale\":[[0.0,\"#0d0887\"],[0.1111111111111111,\"#46039f\"],[0.2222222222222222,\"#7201a8\"],[0.3333333333333333,\"#9c179e\"],[0.4444444444444444,\"#bd3786\"],[0.5555555555555556,\"#d8576b\"],[0.6666666666666666,\"#ed7953\"],[0.7777777777777778,\"#fb9f3a\"],[0.8888888888888888,\"#fdca26\"],[1.0,\"#f0f921\"]],\"type\":\"heatmapgl\"}],\"histogram\":[{\"marker\":{\"pattern\":{\"fillmode\":\"overlay\",\"size\":10,\"solidity\":0.2}},\"type\":\"histogram\"}],\"histogram2d\":[{\"colorbar\":{\"outlinewidth\":0,\"ticks\":\"\"},\"colorscale\":[[0.0,\"#0d0887\"],[0.1111111111111111,\"#46039f\"],[0.2222222222222222,\"#7201a8\"],[0.3333333333333333,\"#9c179e\"],[0.4444444444444444,\"#bd3786\"],[0.5555555555555556,\"#d8576b\"],[0.6666666666666666,\"#ed7953\"],[0.7777777777777778,\"#fb9f3a\"],[0.8888888888888888,\"#fdca26\"],[1.0,\"#f0f921\"]],\"type\":\"histogram2d\"}],\"histogram2dcontour\":[{\"colorbar\":{\"outlinewidth\":0,\"ticks\":\"\"},\"colorscale\":[[0.0,\"#0d0887\"],[0.1111111111111111,\"#46039f\"],[0.2222222222222222,\"#7201a8\"],[0.3333333333333333,\"#9c179e\"],[0.4444444444444444,\"#bd3786\"],[0.5555555555555556,\"#d8576b\"],[0.6666666666666666,\"#ed7953\"],[0.7777777777777778,\"#fb9f3a\"],[0.8888888888888888,\"#fdca26\"],[1.0,\"#f0f921\"]],\"type\":\"histogram2dcontour\"}],\"mesh3d\":[{\"colorbar\":{\"outlinewidth\":0,\"ticks\":\"\"},\"type\":\"mesh3d\"}],\"parcoords\":[{\"line\":{\"colorbar\":{\"outlinewidth\":0,\"ticks\":\"\"}},\"type\":\"parcoords\"}],\"pie\":[{\"automargin\":true,\"type\":\"pie\"}],\"scatter\":[{\"marker\":{\"colorbar\":{\"outlinewidth\":0,\"ticks\":\"\"}},\"type\":\"scatter\"}],\"scatter3d\":[{\"line\":{\"colorbar\":{\"outlinewidth\":0,\"ticks\":\"\"}},\"marker\":{\"colorbar\":{\"outlinewidth\":0,\"ticks\":\"\"}},\"type\":\"scatter3d\"}],\"scattercarpet\":[{\"marker\":{\"colorbar\":{\"outlinewidth\":0,\"ticks\":\"\"}},\"type\":\"scattercarpet\"}],\"scattergeo\":[{\"marker\":{\"colorbar\":{\"outlinewidth\":0,\"ticks\":\"\"}},\"type\":\"scattergeo\"}],\"scattergl\":[{\"marker\":{\"colorbar\":{\"outlinewidth\":0,\"ticks\":\"\"}},\"type\":\"scattergl\"}],\"scattermapbox\":[{\"marker\":{\"colorbar\":{\"outlinewidth\":0,\"ticks\":\"\"}},\"type\":\"scattermapbox\"}],\"scatterpolar\":[{\"marker\":{\"colorbar\":{\"outlinewidth\":0,\"ticks\":\"\"}},\"type\":\"scatterpolar\"}],\"scatterpolargl\":[{\"marker\":{\"colorbar\":{\"outlinewidth\":0,\"ticks\":\"\"}},\"type\":\"scatterpolargl\"}],\"scatterternary\":[{\"marker\":{\"colorbar\":{\"outlinewidth\":0,\"ticks\":\"\"}},\"type\":\"scatterternary\"}],\"surface\":[{\"colorbar\":{\"outlinewidth\":0,\"ticks\":\"\"},\"colorscale\":[[0.0,\"#0d0887\"],[0.1111111111111111,\"#46039f\"],[0.2222222222222222,\"#7201a8\"],[0.3333333333333333,\"#9c179e\"],[0.4444444444444444,\"#bd3786\"],[0.5555555555555556,\"#d8576b\"],[0.6666666666666666,\"#ed7953\"],[0.7777777777777778,\"#fb9f3a\"],[0.8888888888888888,\"#fdca26\"],[1.0,\"#f0f921\"]],\"type\":\"surface\"}],\"table\":[{\"cells\":{\"fill\":{\"color\":\"#EBF0F8\"},\"line\":{\"color\":\"white\"}},\"header\":{\"fill\":{\"color\":\"#C8D4E3\"},\"line\":{\"color\":\"white\"}},\"type\":\"table\"}]},\"layout\":{\"annotationdefaults\":{\"arrowcolor\":\"#2a3f5f\",\"arrowhead\":0,\"arrowwidth\":1},\"autotypenumbers\":\"strict\",\"coloraxis\":{\"colorbar\":{\"outlinewidth\":0,\"ticks\":\"\"}},\"colorscale\":{\"diverging\":[[0,\"#8e0152\"],[0.1,\"#c51b7d\"],[0.2,\"#de77ae\"],[0.3,\"#f1b6da\"],[0.4,\"#fde0ef\"],[0.5,\"#f7f7f7\"],[0.6,\"#e6f5d0\"],[0.7,\"#b8e186\"],[0.8,\"#7fbc41\"],[0.9,\"#4d9221\"],[1,\"#276419\"]],\"sequential\":[[0.0,\"#0d0887\"],[0.1111111111111111,\"#46039f\"],[0.2222222222222222,\"#7201a8\"],[0.3333333333333333,\"#9c179e\"],[0.4444444444444444,\"#bd3786\"],[0.5555555555555556,\"#d8576b\"],[0.6666666666666666,\"#ed7953\"],[0.7777777777777778,\"#fb9f3a\"],[0.8888888888888888,\"#fdca26\"],[1.0,\"#f0f921\"]],\"sequentialminus\":[[0.0,\"#0d0887\"],[0.1111111111111111,\"#46039f\"],[0.2222222222222222,\"#7201a8\"],[0.3333333333333333,\"#9c179e\"],[0.4444444444444444,\"#bd3786\"],[0.5555555555555556,\"#d8576b\"],[0.6666666666666666,\"#ed7953\"],[0.7777777777777778,\"#fb9f3a\"],[0.8888888888888888,\"#fdca26\"],[1.0,\"#f0f921\"]]},\"colorway\":[\"#636efa\",\"#EF553B\",\"#00cc96\",\"#ab63fa\",\"#FFA15A\",\"#19d3f3\",\"#FF6692\",\"#B6E880\",\"#FF97FF\",\"#FECB52\"],\"font\":{\"color\":\"#2a3f5f\"},\"geo\":{\"bgcolor\":\"white\",\"lakecolor\":\"white\",\"landcolor\":\"#E5ECF6\",\"showlakes\":true,\"showland\":true,\"subunitcolor\":\"white\"},\"hoverlabel\":{\"align\":\"left\"},\"hovermode\":\"closest\",\"mapbox\":{\"style\":\"light\"},\"paper_bgcolor\":\"white\",\"plot_bgcolor\":\"#E5ECF6\",\"polar\":{\"angularaxis\":{\"gridcolor\":\"white\",\"linecolor\":\"white\",\"ticks\":\"\"},\"bgcolor\":\"#E5ECF6\",\"radialaxis\":{\"gridcolor\":\"white\",\"linecolor\":\"white\",\"ticks\":\"\"}},\"scene\":{\"xaxis\":{\"backgroundcolor\":\"#E5ECF6\",\"gridcolor\":\"white\",\"gridwidth\":2,\"linecolor\":\"white\",\"showbackground\":true,\"ticks\":\"\",\"zerolinecolor\":\"white\"},\"yaxis\":{\"backgroundcolor\":\"#E5ECF6\",\"gridcolor\":\"white\",\"gridwidth\":2,\"linecolor\":\"white\",\"showbackground\":true,\"ticks\":\"\",\"zerolinecolor\":\"white\"},\"zaxis\":{\"backgroundcolor\":\"#E5ECF6\",\"gridcolor\":\"white\",\"gridwidth\":2,\"linecolor\":\"white\",\"showbackground\":true,\"ticks\":\"\",\"zerolinecolor\":\"white\"}},\"shapedefaults\":{\"line\":{\"color\":\"#2a3f5f\"}},\"ternary\":{\"aaxis\":{\"gridcolor\":\"white\",\"linecolor\":\"white\",\"ticks\":\"\"},\"baxis\":{\"gridcolor\":\"white\",\"linecolor\":\"white\",\"ticks\":\"\"},\"bgcolor\":\"#E5ECF6\",\"caxis\":{\"gridcolor\":\"white\",\"linecolor\":\"white\",\"ticks\":\"\"}},\"title\":{\"x\":0.05},\"xaxis\":{\"automargin\":true,\"gridcolor\":\"white\",\"linecolor\":\"white\",\"ticks\":\"\",\"title\":{\"standoff\":15},\"zerolinecolor\":\"white\",\"zerolinewidth\":2},\"yaxis\":{\"automargin\":true,\"gridcolor\":\"white\",\"linecolor\":\"white\",\"ticks\":\"\",\"title\":{\"standoff\":15},\"zerolinecolor\":\"white\",\"zerolinewidth\":2}}},\"xaxis\":{\"anchor\":\"y\",\"categoryorder\":\"total descending\",\"domain\":[0.0,1.0],\"title\":{\"text\":\"category\"}},\"yaxis\":{\"anchor\":\"x\",\"domain\":[0.0,1.0],\"title\":{\"text\":\"Growth in 30 days\"}}},                        {\"responsive\": true}                    ).then(function(){\n",
       "                            \n",
       "var gd = document.getElementById('ba763f79-ed99-4327-a699-790a28a54b7e');\n",
       "var x = new MutationObserver(function (mutations, observer) {{\n",
       "        var display = window.getComputedStyle(gd).display;\n",
       "        if (!display || display === 'none') {{\n",
       "            console.log([gd, 'removed!']);\n",
       "            Plotly.purge(gd);\n",
       "            observer.disconnect();\n",
       "        }}\n",
       "}});\n",
       "\n",
       "// Listen for the removal of the full notebook cells\n",
       "var notebookContainer = gd.closest('#notebook-container');\n",
       "if (notebookContainer) {{\n",
       "    x.observe(notebookContainer, {childList: true});\n",
       "}}\n",
       "\n",
       "// Listen for the clearing of the current output cell\n",
       "var outputEl = gd.closest('.output');\n",
       "if (outputEl) {{\n",
       "    x.observe(outputEl, {childList: true});\n",
       "}}\n",
       "\n",
       "                        })                };                });            </script>        </div>"
      ]
     },
     "metadata": {},
     "output_type": "display_data"
    }
   ],
   "source": [
    "fig = px.bar(growth_by_category_30, x= growth_by_category_30.index, y=growth_by_category_30, labels={'y':'Growth in 30 days'})\n",
    "fig.update_layout(xaxis={'categoryorder':'total descending'})\n",
    "fig.show()"
   ]
  },
  {
   "cell_type": "code",
   "execution_count": 30,
   "id": "a4cc9910",
   "metadata": {
    "execution": {
     "iopub.execute_input": "2021-08-08T05:46:44.702846Z",
     "iopub.status.busy": "2021-08-08T05:46:44.702238Z",
     "iopub.status.idle": "2021-08-08T05:46:44.709924Z",
     "shell.execute_reply": "2021-08-08T05:46:44.710383Z",
     "shell.execute_reply.started": "2021-08-08T05:13:28.314457Z"
    },
    "papermill": {
     "duration": 0.052549,
     "end_time": "2021-08-08T05:46:44.710549",
     "exception": false,
     "start_time": "2021-08-08T05:46:44.658000",
     "status": "completed"
    },
    "tags": []
   },
   "outputs": [
    {
     "data": {
      "text/plain": [
       "category\n",
       "GAME ACTION          118.294000\n",
       "GAME ADVENTURE         6.084000\n",
       "GAME ARCADE           21.970000\n",
       "GAME BOARD           587.891000\n",
       "GAME CARD            555.337302\n",
       "GAME CASINO            2.193000\n",
       "GAME CASUAL           14.812000\n",
       "GAME EDUCATIONAL      14.748000\n",
       "GAME MUSIC            22.160000\n",
       "GAME PUZZLE           12.062000\n",
       "GAME RACING           88.963000\n",
       "GAME ROLE PLAYING      3.037000\n",
       "GAME SIMULATION       20.196000\n",
       "GAME SPORTS            8.492000\n",
       "GAME STRATEGY        435.440000\n",
       "GAME TRIVIA            6.180000\n",
       "GAME WORD             55.725000\n",
       "Name: growth (60 days), dtype: float64"
      ]
     },
     "execution_count": 30,
     "metadata": {},
     "output_type": "execute_result"
    }
   ],
   "source": [
    "growth_by_category_60 = data.groupby('category')['growth (60 days)'].mean()\n",
    "growth_by_category_60"
   ]
  },
  {
   "cell_type": "code",
   "execution_count": 31,
   "id": "ab39acf9",
   "metadata": {
    "execution": {
     "iopub.execute_input": "2021-08-08T05:46:44.832334Z",
     "iopub.status.busy": "2021-08-08T05:46:44.831404Z",
     "iopub.status.idle": "2021-08-08T05:46:44.857943Z",
     "shell.execute_reply": "2021-08-08T05:46:44.857489Z",
     "shell.execute_reply.started": "2021-08-08T05:13:50.113433Z"
    },
    "papermill": {
     "duration": 0.107161,
     "end_time": "2021-08-08T05:46:44.858078",
     "exception": false,
     "start_time": "2021-08-08T05:46:44.750917",
     "status": "completed"
    },
    "tags": []
   },
   "outputs": [
    {
     "data": {
      "text/html": [
       "<div>                            <div id=\"d1cf7abd-5435-4572-9597-efda17f3b94f\" class=\"plotly-graph-div\" style=\"height:525px; width:100%;\"></div>            <script type=\"text/javascript\">                require([\"plotly\"], function(Plotly) {                    window.PLOTLYENV=window.PLOTLYENV || {};                                    if (document.getElementById(\"d1cf7abd-5435-4572-9597-efda17f3b94f\")) {                    Plotly.newPlot(                        \"d1cf7abd-5435-4572-9597-efda17f3b94f\",                        [{\"alignmentgroup\":\"True\",\"hovertemplate\":\"category=%{x}<br>Growth in 60 days=%{y}<extra></extra>\",\"legendgroup\":\"\",\"marker\":{\"color\":\"#636efa\",\"pattern\":{\"shape\":\"\"}},\"name\":\"\",\"offsetgroup\":\"\",\"orientation\":\"v\",\"showlegend\":false,\"textposition\":\"auto\",\"type\":\"bar\",\"x\":[\"GAME ACTION\",\"GAME ADVENTURE\",\"GAME ARCADE\",\"GAME BOARD\",\"GAME CARD\",\"GAME CASINO\",\"GAME CASUAL\",\"GAME EDUCATIONAL\",\"GAME MUSIC\",\"GAME PUZZLE\",\"GAME RACING\",\"GAME ROLE PLAYING\",\"GAME SIMULATION\",\"GAME SPORTS\",\"GAME STRATEGY\",\"GAME TRIVIA\",\"GAME WORD\"],\"xaxis\":\"x\",\"y\":[118.29400000000008,6.083999999999999,21.969999999999995,587.891,555.3373015873019,2.1929999999999996,14.81199999999999,14.747999999999996,22.16,12.062000000000003,88.96300000000002,3.0369999999999995,20.196000000000005,8.492000000000004,435.4399999999998,6.18,55.72500000000001],\"yaxis\":\"y\"}],                        {\"barmode\":\"relative\",\"legend\":{\"tracegroupgap\":0},\"margin\":{\"t\":60},\"template\":{\"data\":{\"bar\":[{\"error_x\":{\"color\":\"#2a3f5f\"},\"error_y\":{\"color\":\"#2a3f5f\"},\"marker\":{\"line\":{\"color\":\"#E5ECF6\",\"width\":0.5},\"pattern\":{\"fillmode\":\"overlay\",\"size\":10,\"solidity\":0.2}},\"type\":\"bar\"}],\"barpolar\":[{\"marker\":{\"line\":{\"color\":\"#E5ECF6\",\"width\":0.5},\"pattern\":{\"fillmode\":\"overlay\",\"size\":10,\"solidity\":0.2}},\"type\":\"barpolar\"}],\"carpet\":[{\"aaxis\":{\"endlinecolor\":\"#2a3f5f\",\"gridcolor\":\"white\",\"linecolor\":\"white\",\"minorgridcolor\":\"white\",\"startlinecolor\":\"#2a3f5f\"},\"baxis\":{\"endlinecolor\":\"#2a3f5f\",\"gridcolor\":\"white\",\"linecolor\":\"white\",\"minorgridcolor\":\"white\",\"startlinecolor\":\"#2a3f5f\"},\"type\":\"carpet\"}],\"choropleth\":[{\"colorbar\":{\"outlinewidth\":0,\"ticks\":\"\"},\"type\":\"choropleth\"}],\"contour\":[{\"colorbar\":{\"outlinewidth\":0,\"ticks\":\"\"},\"colorscale\":[[0.0,\"#0d0887\"],[0.1111111111111111,\"#46039f\"],[0.2222222222222222,\"#7201a8\"],[0.3333333333333333,\"#9c179e\"],[0.4444444444444444,\"#bd3786\"],[0.5555555555555556,\"#d8576b\"],[0.6666666666666666,\"#ed7953\"],[0.7777777777777778,\"#fb9f3a\"],[0.8888888888888888,\"#fdca26\"],[1.0,\"#f0f921\"]],\"type\":\"contour\"}],\"contourcarpet\":[{\"colorbar\":{\"outlinewidth\":0,\"ticks\":\"\"},\"type\":\"contourcarpet\"}],\"heatmap\":[{\"colorbar\":{\"outlinewidth\":0,\"ticks\":\"\"},\"colorscale\":[[0.0,\"#0d0887\"],[0.1111111111111111,\"#46039f\"],[0.2222222222222222,\"#7201a8\"],[0.3333333333333333,\"#9c179e\"],[0.4444444444444444,\"#bd3786\"],[0.5555555555555556,\"#d8576b\"],[0.6666666666666666,\"#ed7953\"],[0.7777777777777778,\"#fb9f3a\"],[0.8888888888888888,\"#fdca26\"],[1.0,\"#f0f921\"]],\"type\":\"heatmap\"}],\"heatmapgl\":[{\"colorbar\":{\"outlinewidth\":0,\"ticks\":\"\"},\"colorscale\":[[0.0,\"#0d0887\"],[0.1111111111111111,\"#46039f\"],[0.2222222222222222,\"#7201a8\"],[0.3333333333333333,\"#9c179e\"],[0.4444444444444444,\"#bd3786\"],[0.5555555555555556,\"#d8576b\"],[0.6666666666666666,\"#ed7953\"],[0.7777777777777778,\"#fb9f3a\"],[0.8888888888888888,\"#fdca26\"],[1.0,\"#f0f921\"]],\"type\":\"heatmapgl\"}],\"histogram\":[{\"marker\":{\"pattern\":{\"fillmode\":\"overlay\",\"size\":10,\"solidity\":0.2}},\"type\":\"histogram\"}],\"histogram2d\":[{\"colorbar\":{\"outlinewidth\":0,\"ticks\":\"\"},\"colorscale\":[[0.0,\"#0d0887\"],[0.1111111111111111,\"#46039f\"],[0.2222222222222222,\"#7201a8\"],[0.3333333333333333,\"#9c179e\"],[0.4444444444444444,\"#bd3786\"],[0.5555555555555556,\"#d8576b\"],[0.6666666666666666,\"#ed7953\"],[0.7777777777777778,\"#fb9f3a\"],[0.8888888888888888,\"#fdca26\"],[1.0,\"#f0f921\"]],\"type\":\"histogram2d\"}],\"histogram2dcontour\":[{\"colorbar\":{\"outlinewidth\":0,\"ticks\":\"\"},\"colorscale\":[[0.0,\"#0d0887\"],[0.1111111111111111,\"#46039f\"],[0.2222222222222222,\"#7201a8\"],[0.3333333333333333,\"#9c179e\"],[0.4444444444444444,\"#bd3786\"],[0.5555555555555556,\"#d8576b\"],[0.6666666666666666,\"#ed7953\"],[0.7777777777777778,\"#fb9f3a\"],[0.8888888888888888,\"#fdca26\"],[1.0,\"#f0f921\"]],\"type\":\"histogram2dcontour\"}],\"mesh3d\":[{\"colorbar\":{\"outlinewidth\":0,\"ticks\":\"\"},\"type\":\"mesh3d\"}],\"parcoords\":[{\"line\":{\"colorbar\":{\"outlinewidth\":0,\"ticks\":\"\"}},\"type\":\"parcoords\"}],\"pie\":[{\"automargin\":true,\"type\":\"pie\"}],\"scatter\":[{\"marker\":{\"colorbar\":{\"outlinewidth\":0,\"ticks\":\"\"}},\"type\":\"scatter\"}],\"scatter3d\":[{\"line\":{\"colorbar\":{\"outlinewidth\":0,\"ticks\":\"\"}},\"marker\":{\"colorbar\":{\"outlinewidth\":0,\"ticks\":\"\"}},\"type\":\"scatter3d\"}],\"scattercarpet\":[{\"marker\":{\"colorbar\":{\"outlinewidth\":0,\"ticks\":\"\"}},\"type\":\"scattercarpet\"}],\"scattergeo\":[{\"marker\":{\"colorbar\":{\"outlinewidth\":0,\"ticks\":\"\"}},\"type\":\"scattergeo\"}],\"scattergl\":[{\"marker\":{\"colorbar\":{\"outlinewidth\":0,\"ticks\":\"\"}},\"type\":\"scattergl\"}],\"scattermapbox\":[{\"marker\":{\"colorbar\":{\"outlinewidth\":0,\"ticks\":\"\"}},\"type\":\"scattermapbox\"}],\"scatterpolar\":[{\"marker\":{\"colorbar\":{\"outlinewidth\":0,\"ticks\":\"\"}},\"type\":\"scatterpolar\"}],\"scatterpolargl\":[{\"marker\":{\"colorbar\":{\"outlinewidth\":0,\"ticks\":\"\"}},\"type\":\"scatterpolargl\"}],\"scatterternary\":[{\"marker\":{\"colorbar\":{\"outlinewidth\":0,\"ticks\":\"\"}},\"type\":\"scatterternary\"}],\"surface\":[{\"colorbar\":{\"outlinewidth\":0,\"ticks\":\"\"},\"colorscale\":[[0.0,\"#0d0887\"],[0.1111111111111111,\"#46039f\"],[0.2222222222222222,\"#7201a8\"],[0.3333333333333333,\"#9c179e\"],[0.4444444444444444,\"#bd3786\"],[0.5555555555555556,\"#d8576b\"],[0.6666666666666666,\"#ed7953\"],[0.7777777777777778,\"#fb9f3a\"],[0.8888888888888888,\"#fdca26\"],[1.0,\"#f0f921\"]],\"type\":\"surface\"}],\"table\":[{\"cells\":{\"fill\":{\"color\":\"#EBF0F8\"},\"line\":{\"color\":\"white\"}},\"header\":{\"fill\":{\"color\":\"#C8D4E3\"},\"line\":{\"color\":\"white\"}},\"type\":\"table\"}]},\"layout\":{\"annotationdefaults\":{\"arrowcolor\":\"#2a3f5f\",\"arrowhead\":0,\"arrowwidth\":1},\"autotypenumbers\":\"strict\",\"coloraxis\":{\"colorbar\":{\"outlinewidth\":0,\"ticks\":\"\"}},\"colorscale\":{\"diverging\":[[0,\"#8e0152\"],[0.1,\"#c51b7d\"],[0.2,\"#de77ae\"],[0.3,\"#f1b6da\"],[0.4,\"#fde0ef\"],[0.5,\"#f7f7f7\"],[0.6,\"#e6f5d0\"],[0.7,\"#b8e186\"],[0.8,\"#7fbc41\"],[0.9,\"#4d9221\"],[1,\"#276419\"]],\"sequential\":[[0.0,\"#0d0887\"],[0.1111111111111111,\"#46039f\"],[0.2222222222222222,\"#7201a8\"],[0.3333333333333333,\"#9c179e\"],[0.4444444444444444,\"#bd3786\"],[0.5555555555555556,\"#d8576b\"],[0.6666666666666666,\"#ed7953\"],[0.7777777777777778,\"#fb9f3a\"],[0.8888888888888888,\"#fdca26\"],[1.0,\"#f0f921\"]],\"sequentialminus\":[[0.0,\"#0d0887\"],[0.1111111111111111,\"#46039f\"],[0.2222222222222222,\"#7201a8\"],[0.3333333333333333,\"#9c179e\"],[0.4444444444444444,\"#bd3786\"],[0.5555555555555556,\"#d8576b\"],[0.6666666666666666,\"#ed7953\"],[0.7777777777777778,\"#fb9f3a\"],[0.8888888888888888,\"#fdca26\"],[1.0,\"#f0f921\"]]},\"colorway\":[\"#636efa\",\"#EF553B\",\"#00cc96\",\"#ab63fa\",\"#FFA15A\",\"#19d3f3\",\"#FF6692\",\"#B6E880\",\"#FF97FF\",\"#FECB52\"],\"font\":{\"color\":\"#2a3f5f\"},\"geo\":{\"bgcolor\":\"white\",\"lakecolor\":\"white\",\"landcolor\":\"#E5ECF6\",\"showlakes\":true,\"showland\":true,\"subunitcolor\":\"white\"},\"hoverlabel\":{\"align\":\"left\"},\"hovermode\":\"closest\",\"mapbox\":{\"style\":\"light\"},\"paper_bgcolor\":\"white\",\"plot_bgcolor\":\"#E5ECF6\",\"polar\":{\"angularaxis\":{\"gridcolor\":\"white\",\"linecolor\":\"white\",\"ticks\":\"\"},\"bgcolor\":\"#E5ECF6\",\"radialaxis\":{\"gridcolor\":\"white\",\"linecolor\":\"white\",\"ticks\":\"\"}},\"scene\":{\"xaxis\":{\"backgroundcolor\":\"#E5ECF6\",\"gridcolor\":\"white\",\"gridwidth\":2,\"linecolor\":\"white\",\"showbackground\":true,\"ticks\":\"\",\"zerolinecolor\":\"white\"},\"yaxis\":{\"backgroundcolor\":\"#E5ECF6\",\"gridcolor\":\"white\",\"gridwidth\":2,\"linecolor\":\"white\",\"showbackground\":true,\"ticks\":\"\",\"zerolinecolor\":\"white\"},\"zaxis\":{\"backgroundcolor\":\"#E5ECF6\",\"gridcolor\":\"white\",\"gridwidth\":2,\"linecolor\":\"white\",\"showbackground\":true,\"ticks\":\"\",\"zerolinecolor\":\"white\"}},\"shapedefaults\":{\"line\":{\"color\":\"#2a3f5f\"}},\"ternary\":{\"aaxis\":{\"gridcolor\":\"white\",\"linecolor\":\"white\",\"ticks\":\"\"},\"baxis\":{\"gridcolor\":\"white\",\"linecolor\":\"white\",\"ticks\":\"\"},\"bgcolor\":\"#E5ECF6\",\"caxis\":{\"gridcolor\":\"white\",\"linecolor\":\"white\",\"ticks\":\"\"}},\"title\":{\"x\":0.05},\"xaxis\":{\"automargin\":true,\"gridcolor\":\"white\",\"linecolor\":\"white\",\"ticks\":\"\",\"title\":{\"standoff\":15},\"zerolinecolor\":\"white\",\"zerolinewidth\":2},\"yaxis\":{\"automargin\":true,\"gridcolor\":\"white\",\"linecolor\":\"white\",\"ticks\":\"\",\"title\":{\"standoff\":15},\"zerolinecolor\":\"white\",\"zerolinewidth\":2}}},\"xaxis\":{\"anchor\":\"y\",\"categoryorder\":\"total descending\",\"domain\":[0.0,1.0],\"title\":{\"text\":\"category\"}},\"yaxis\":{\"anchor\":\"x\",\"domain\":[0.0,1.0],\"title\":{\"text\":\"Growth in 60 days\"}}},                        {\"responsive\": true}                    ).then(function(){\n",
       "                            \n",
       "var gd = document.getElementById('d1cf7abd-5435-4572-9597-efda17f3b94f');\n",
       "var x = new MutationObserver(function (mutations, observer) {{\n",
       "        var display = window.getComputedStyle(gd).display;\n",
       "        if (!display || display === 'none') {{\n",
       "            console.log([gd, 'removed!']);\n",
       "            Plotly.purge(gd);\n",
       "            observer.disconnect();\n",
       "        }}\n",
       "}});\n",
       "\n",
       "// Listen for the removal of the full notebook cells\n",
       "var notebookContainer = gd.closest('#notebook-container');\n",
       "if (notebookContainer) {{\n",
       "    x.observe(notebookContainer, {childList: true});\n",
       "}}\n",
       "\n",
       "// Listen for the clearing of the current output cell\n",
       "var outputEl = gd.closest('.output');\n",
       "if (outputEl) {{\n",
       "    x.observe(outputEl, {childList: true});\n",
       "}}\n",
       "\n",
       "                        })                };                });            </script>        </div>"
      ]
     },
     "metadata": {},
     "output_type": "display_data"
    }
   ],
   "source": [
    "fig = px.bar(growth_by_category_60, x= growth_by_category_60.index, y=growth_by_category_60, labels={'y':'Growth in 60 days'})\n",
    "fig.update_layout(xaxis={'categoryorder':'total descending'})\n",
    "fig.show()"
   ]
  },
  {
   "cell_type": "markdown",
   "id": "ddb14e08",
   "metadata": {
    "papermill": {
     "duration": 0.041776,
     "end_time": "2021-08-08T05:46:44.940905",
     "exception": false,
     "start_time": "2021-08-08T05:46:44.899129",
     "status": "completed"
    },
    "tags": []
   },
   "source": [
    "**14.Top 3 Ranked Games by Category**"
   ]
  },
  {
   "cell_type": "code",
   "execution_count": 32,
   "id": "69ab3da4",
   "metadata": {
    "execution": {
     "iopub.execute_input": "2021-08-08T05:46:45.029352Z",
     "iopub.status.busy": "2021-08-08T05:46:45.028427Z",
     "iopub.status.idle": "2021-08-08T05:46:45.051768Z",
     "shell.execute_reply": "2021-08-08T05:46:45.052230Z",
     "shell.execute_reply.started": "2021-08-08T05:14:34.804044Z"
    },
    "papermill": {
     "duration": 0.069463,
     "end_time": "2021-08-08T05:46:45.052399",
     "exception": false,
     "start_time": "2021-08-08T05:46:44.982936",
     "status": "completed"
    },
    "tags": []
   },
   "outputs": [
    {
     "data": {
      "text/html": [
       "<div>\n",
       "<style scoped>\n",
       "    .dataframe tbody tr th:only-of-type {\n",
       "        vertical-align: middle;\n",
       "    }\n",
       "\n",
       "    .dataframe tbody tr th {\n",
       "        vertical-align: top;\n",
       "    }\n",
       "\n",
       "    .dataframe thead th {\n",
       "        text-align: right;\n",
       "    }\n",
       "</style>\n",
       "<table border=\"1\" class=\"dataframe\">\n",
       "  <thead>\n",
       "    <tr style=\"text-align: right;\">\n",
       "      <th></th>\n",
       "      <th>rank</th>\n",
       "      <th>title</th>\n",
       "      <th>category</th>\n",
       "      <th>Total_ratings</th>\n",
       "      <th>installs_in_million</th>\n",
       "      <th>5 star ratings</th>\n",
       "    </tr>\n",
       "  </thead>\n",
       "  <tbody>\n",
       "    <tr>\n",
       "      <th>0</th>\n",
       "      <td>1</td>\n",
       "      <td>Garena Free Fire- World Series</td>\n",
       "      <td>GAME ACTION</td>\n",
       "      <td>86273129</td>\n",
       "      <td>500.0</td>\n",
       "      <td>63546766</td>\n",
       "    </tr>\n",
       "    <tr>\n",
       "      <th>1</th>\n",
       "      <td>2</td>\n",
       "      <td>PUBG MOBILE - Traverse</td>\n",
       "      <td>GAME ACTION</td>\n",
       "      <td>37276732</td>\n",
       "      <td>500.0</td>\n",
       "      <td>28339753</td>\n",
       "    </tr>\n",
       "    <tr>\n",
       "      <th>2</th>\n",
       "      <td>3</td>\n",
       "      <td>Mobile Legends: Bang Bang</td>\n",
       "      <td>GAME ACTION</td>\n",
       "      <td>26663595</td>\n",
       "      <td>100.0</td>\n",
       "      <td>18777988</td>\n",
       "    </tr>\n",
       "    <tr>\n",
       "      <th>100</th>\n",
       "      <td>1</td>\n",
       "      <td>Roblox</td>\n",
       "      <td>GAME ADVENTURE</td>\n",
       "      <td>21820451</td>\n",
       "      <td>100.0</td>\n",
       "      <td>16674013</td>\n",
       "    </tr>\n",
       "    <tr>\n",
       "      <th>101</th>\n",
       "      <td>2</td>\n",
       "      <td>Pokémon GO</td>\n",
       "      <td>GAME ADVENTURE</td>\n",
       "      <td>14541662</td>\n",
       "      <td>100.0</td>\n",
       "      <td>9517488</td>\n",
       "    </tr>\n",
       "    <tr>\n",
       "      <th>102</th>\n",
       "      <td>3</td>\n",
       "      <td>Criminal Case</td>\n",
       "      <td>GAME ADVENTURE</td>\n",
       "      <td>4273420</td>\n",
       "      <td>100.0</td>\n",
       "      <td>3264905</td>\n",
       "    </tr>\n",
       "    <tr>\n",
       "      <th>200</th>\n",
       "      <td>1</td>\n",
       "      <td>Subway Surfers</td>\n",
       "      <td>GAME ARCADE</td>\n",
       "      <td>35665901</td>\n",
       "      <td>1000.0</td>\n",
       "      <td>27138572</td>\n",
       "    </tr>\n",
       "    <tr>\n",
       "      <th>201</th>\n",
       "      <td>2</td>\n",
       "      <td>Hungry Shark Evolution - Offline survival game</td>\n",
       "      <td>GAME ARCADE</td>\n",
       "      <td>7202013</td>\n",
       "      <td>100.0</td>\n",
       "      <td>5220860</td>\n",
       "    </tr>\n",
       "    <tr>\n",
       "      <th>202</th>\n",
       "      <td>3</td>\n",
       "      <td>Geometry Dash Lite</td>\n",
       "      <td>GAME ARCADE</td>\n",
       "      <td>6960814</td>\n",
       "      <td>100.0</td>\n",
       "      <td>4787054</td>\n",
       "    </tr>\n",
       "    <tr>\n",
       "      <th>300</th>\n",
       "      <td>1</td>\n",
       "      <td>Ludo King™</td>\n",
       "      <td>GAME BOARD</td>\n",
       "      <td>7512316</td>\n",
       "      <td>500.0</td>\n",
       "      <td>5291589</td>\n",
       "    </tr>\n",
       "    <tr>\n",
       "      <th>301</th>\n",
       "      <td>2</td>\n",
       "      <td>Happy Color™ – Color by Number. Coloring games.</td>\n",
       "      <td>GAME BOARD</td>\n",
       "      <td>2516777</td>\n",
       "      <td>100.0</td>\n",
       "      <td>1927153</td>\n",
       "    </tr>\n",
       "    <tr>\n",
       "      <th>302</th>\n",
       "      <td>3</td>\n",
       "      <td>101 Yüzbir Okey Plus</td>\n",
       "      <td>GAME BOARD</td>\n",
       "      <td>2430531</td>\n",
       "      <td>10.0</td>\n",
       "      <td>1763377</td>\n",
       "    </tr>\n",
       "    <tr>\n",
       "      <th>400</th>\n",
       "      <td>1</td>\n",
       "      <td>Yu-Gi-Oh! Duel Links</td>\n",
       "      <td>GAME CARD</td>\n",
       "      <td>2113853</td>\n",
       "      <td>50.0</td>\n",
       "      <td>1541203</td>\n",
       "    </tr>\n",
       "    <tr>\n",
       "      <th>401</th>\n",
       "      <td>2</td>\n",
       "      <td>Hearthstone</td>\n",
       "      <td>GAME CARD</td>\n",
       "      <td>1765570</td>\n",
       "      <td>10.0</td>\n",
       "      <td>960279</td>\n",
       "    </tr>\n",
       "    <tr>\n",
       "      <th>402</th>\n",
       "      <td>3</td>\n",
       "      <td>Solitaire</td>\n",
       "      <td>GAME CARD</td>\n",
       "      <td>1590733</td>\n",
       "      <td>100.0</td>\n",
       "      <td>1117298</td>\n",
       "    </tr>\n",
       "    <tr>\n",
       "      <th>403</th>\n",
       "      <td>3</td>\n",
       "      <td>Solitaire</td>\n",
       "      <td>GAME CARD</td>\n",
       "      <td>1590733</td>\n",
       "      <td>100.0</td>\n",
       "      <td>431463</td>\n",
       "    </tr>\n",
       "    <tr>\n",
       "      <th>404</th>\n",
       "      <td>3</td>\n",
       "      <td>Solitaire</td>\n",
       "      <td>GAME CARD</td>\n",
       "      <td>1590733</td>\n",
       "      <td>100.0</td>\n",
       "      <td>418115</td>\n",
       "    </tr>\n",
       "    <tr>\n",
       "      <th>405</th>\n",
       "      <td>3</td>\n",
       "      <td>Solitaire</td>\n",
       "      <td>GAME CARD</td>\n",
       "      <td>1590733</td>\n",
       "      <td>100.0</td>\n",
       "      <td>299715</td>\n",
       "    </tr>\n",
       "    <tr>\n",
       "      <th>526</th>\n",
       "      <td>1</td>\n",
       "      <td>Zynga Poker™ – Free Texas Holdem Online Card G...</td>\n",
       "      <td>GAME CASINO</td>\n",
       "      <td>2582669</td>\n",
       "      <td>50.0</td>\n",
       "      <td>1821678</td>\n",
       "    </tr>\n",
       "    <tr>\n",
       "      <th>527</th>\n",
       "      <td>2</td>\n",
       "      <td>Slotomania™ Slots: Casino Slot Machine Games</td>\n",
       "      <td>GAME CASINO</td>\n",
       "      <td>1822223</td>\n",
       "      <td>50.0</td>\n",
       "      <td>1293272</td>\n",
       "    </tr>\n",
       "    <tr>\n",
       "      <th>528</th>\n",
       "      <td>3</td>\n",
       "      <td>Teen Patti Gold – Indian Family Card Game</td>\n",
       "      <td>GAME CASINO</td>\n",
       "      <td>1529589</td>\n",
       "      <td>50.0</td>\n",
       "      <td>1210258</td>\n",
       "    </tr>\n",
       "    <tr>\n",
       "      <th>626</th>\n",
       "      <td>1</td>\n",
       "      <td>Candy Crush Saga</td>\n",
       "      <td>GAME CASUAL</td>\n",
       "      <td>31367945</td>\n",
       "      <td>1000.0</td>\n",
       "      <td>23837448</td>\n",
       "    </tr>\n",
       "    <tr>\n",
       "      <th>627</th>\n",
       "      <td>2</td>\n",
       "      <td>My Talking Tom</td>\n",
       "      <td>GAME CASUAL</td>\n",
       "      <td>16810315</td>\n",
       "      <td>500.0</td>\n",
       "      <td>12234051</td>\n",
       "    </tr>\n",
       "    <tr>\n",
       "      <th>628</th>\n",
       "      <td>3</td>\n",
       "      <td>My Talking Angela</td>\n",
       "      <td>GAME CASUAL</td>\n",
       "      <td>13050503</td>\n",
       "      <td>500.0</td>\n",
       "      <td>9165205</td>\n",
       "    </tr>\n",
       "    <tr>\n",
       "      <th>726</th>\n",
       "      <td>1</td>\n",
       "      <td>Toca Life World: Build stories &amp; create your w...</td>\n",
       "      <td>GAME EDUCATIONAL</td>\n",
       "      <td>1690405</td>\n",
       "      <td>50.0</td>\n",
       "      <td>1191130</td>\n",
       "    </tr>\n",
       "    <tr>\n",
       "      <th>727</th>\n",
       "      <td>2</td>\n",
       "      <td>Toca Kitchen 2</td>\n",
       "      <td>GAME EDUCATIONAL</td>\n",
       "      <td>1543998</td>\n",
       "      <td>100.0</td>\n",
       "      <td>1044380</td>\n",
       "    </tr>\n",
       "    <tr>\n",
       "      <th>728</th>\n",
       "      <td>3</td>\n",
       "      <td>Cooking Mama: Let's cook!</td>\n",
       "      <td>GAME EDUCATIONAL</td>\n",
       "      <td>758930</td>\n",
       "      <td>50.0</td>\n",
       "      <td>569677</td>\n",
       "    </tr>\n",
       "    <tr>\n",
       "      <th>826</th>\n",
       "      <td>1</td>\n",
       "      <td>Tiles Hop: EDM Rush!</td>\n",
       "      <td>GAME MUSIC</td>\n",
       "      <td>2454558</td>\n",
       "      <td>100.0</td>\n",
       "      <td>1815983</td>\n",
       "    </tr>\n",
       "    <tr>\n",
       "      <th>827</th>\n",
       "      <td>2</td>\n",
       "      <td>Magic Tiles 3</td>\n",
       "      <td>GAME MUSIC</td>\n",
       "      <td>2381045</td>\n",
       "      <td>100.0</td>\n",
       "      <td>1570436</td>\n",
       "    </tr>\n",
       "    <tr>\n",
       "      <th>828</th>\n",
       "      <td>3</td>\n",
       "      <td>My Singing Monsters</td>\n",
       "      <td>GAME MUSIC</td>\n",
       "      <td>1363013</td>\n",
       "      <td>10.0</td>\n",
       "      <td>1099001</td>\n",
       "    </tr>\n",
       "    <tr>\n",
       "      <th>926</th>\n",
       "      <td>1</td>\n",
       "      <td>Fishdom</td>\n",
       "      <td>GAME PUZZLE</td>\n",
       "      <td>4876844</td>\n",
       "      <td>100.0</td>\n",
       "      <td>3641850</td>\n",
       "    </tr>\n",
       "    <tr>\n",
       "      <th>927</th>\n",
       "      <td>2</td>\n",
       "      <td>Brain Out – Can you pass it?</td>\n",
       "      <td>GAME PUZZLE</td>\n",
       "      <td>4467655</td>\n",
       "      <td>100.0</td>\n",
       "      <td>3390163</td>\n",
       "    </tr>\n",
       "    <tr>\n",
       "      <th>928</th>\n",
       "      <td>3</td>\n",
       "      <td>Toon Blast</td>\n",
       "      <td>GAME PUZZLE</td>\n",
       "      <td>3222428</td>\n",
       "      <td>50.0</td>\n",
       "      <td>2556112</td>\n",
       "    </tr>\n",
       "    <tr>\n",
       "      <th>1026</th>\n",
       "      <td>1</td>\n",
       "      <td>Hill Climb Racing</td>\n",
       "      <td>GAME RACING</td>\n",
       "      <td>10188038</td>\n",
       "      <td>500.0</td>\n",
       "      <td>7148370</td>\n",
       "    </tr>\n",
       "    <tr>\n",
       "      <th>1027</th>\n",
       "      <td>2</td>\n",
       "      <td>Traffic Rider</td>\n",
       "      <td>GAME RACING</td>\n",
       "      <td>7580227</td>\n",
       "      <td>100.0</td>\n",
       "      <td>5426819</td>\n",
       "    </tr>\n",
       "    <tr>\n",
       "      <th>1028</th>\n",
       "      <td>3</td>\n",
       "      <td>Traffic Racer</td>\n",
       "      <td>GAME RACING</td>\n",
       "      <td>6062833</td>\n",
       "      <td>100.0</td>\n",
       "      <td>4580870</td>\n",
       "    </tr>\n",
       "    <tr>\n",
       "      <th>1126</th>\n",
       "      <td>1</td>\n",
       "      <td>Shadow Fight 3 - RPG fighting game</td>\n",
       "      <td>GAME ROLE PLAYING</td>\n",
       "      <td>3170246</td>\n",
       "      <td>100.0</td>\n",
       "      <td>2243868</td>\n",
       "    </tr>\n",
       "    <tr>\n",
       "      <th>1127</th>\n",
       "      <td>2</td>\n",
       "      <td>AFK Arena</td>\n",
       "      <td>GAME ROLE PLAYING</td>\n",
       "      <td>3126336</td>\n",
       "      <td>10.0</td>\n",
       "      <td>2238968</td>\n",
       "    </tr>\n",
       "    <tr>\n",
       "      <th>1128</th>\n",
       "      <td>3</td>\n",
       "      <td>Avakin Life - 3D Virtual World</td>\n",
       "      <td>GAME ROLE PLAYING</td>\n",
       "      <td>3105550</td>\n",
       "      <td>50.0</td>\n",
       "      <td>2198832</td>\n",
       "    </tr>\n",
       "    <tr>\n",
       "      <th>1226</th>\n",
       "      <td>1</td>\n",
       "      <td>The Sims FreePlay</td>\n",
       "      <td>GAME SIMULATION</td>\n",
       "      <td>5541105</td>\n",
       "      <td>100.0</td>\n",
       "      <td>3457057</td>\n",
       "    </tr>\n",
       "    <tr>\n",
       "      <th>1227</th>\n",
       "      <td>2</td>\n",
       "      <td>SimCity BuildIt</td>\n",
       "      <td>GAME SIMULATION</td>\n",
       "      <td>5213933</td>\n",
       "      <td>100.0</td>\n",
       "      <td>3484074</td>\n",
       "    </tr>\n",
       "    <tr>\n",
       "      <th>1228</th>\n",
       "      <td>3</td>\n",
       "      <td>Episode - Choose Your Story</td>\n",
       "      <td>GAME SIMULATION</td>\n",
       "      <td>3622549</td>\n",
       "      <td>100.0</td>\n",
       "      <td>2310125</td>\n",
       "    </tr>\n",
       "    <tr>\n",
       "      <th>1326</th>\n",
       "      <td>1</td>\n",
       "      <td>8 Ball Pool</td>\n",
       "      <td>GAME SPORTS</td>\n",
       "      <td>21632735</td>\n",
       "      <td>500.0</td>\n",
       "      <td>16281475</td>\n",
       "    </tr>\n",
       "    <tr>\n",
       "      <th>1327</th>\n",
       "      <td>2</td>\n",
       "      <td>Dream League Soccer</td>\n",
       "      <td>GAME SPORTS</td>\n",
       "      <td>13385786</td>\n",
       "      <td>100.0</td>\n",
       "      <td>10086735</td>\n",
       "    </tr>\n",
       "    <tr>\n",
       "      <th>1328</th>\n",
       "      <td>3</td>\n",
       "      <td>Score! Hero</td>\n",
       "      <td>GAME SPORTS</td>\n",
       "      <td>6856324</td>\n",
       "      <td>100.0</td>\n",
       "      <td>4551071</td>\n",
       "    </tr>\n",
       "    <tr>\n",
       "      <th>1426</th>\n",
       "      <td>1</td>\n",
       "      <td>Clash of Clans</td>\n",
       "      <td>GAME STRATEGY</td>\n",
       "      <td>55766763</td>\n",
       "      <td>500.0</td>\n",
       "      <td>43346128</td>\n",
       "    </tr>\n",
       "    <tr>\n",
       "      <th>1427</th>\n",
       "      <td>2</td>\n",
       "      <td>Clash Royale</td>\n",
       "      <td>GAME STRATEGY</td>\n",
       "      <td>30852360</td>\n",
       "      <td>100.0</td>\n",
       "      <td>21009004</td>\n",
       "    </tr>\n",
       "    <tr>\n",
       "      <th>1428</th>\n",
       "      <td>3</td>\n",
       "      <td>Lords Mobile: Tower Defense</td>\n",
       "      <td>GAME STRATEGY</td>\n",
       "      <td>6548519</td>\n",
       "      <td>100.0</td>\n",
       "      <td>4667558</td>\n",
       "    </tr>\n",
       "    <tr>\n",
       "      <th>1526</th>\n",
       "      <td>1</td>\n",
       "      <td>Trivia Crack</td>\n",
       "      <td>GAME TRIVIA</td>\n",
       "      <td>7334155</td>\n",
       "      <td>100.0</td>\n",
       "      <td>4938889</td>\n",
       "    </tr>\n",
       "    <tr>\n",
       "      <th>1527</th>\n",
       "      <td>2</td>\n",
       "      <td>Brain Test: Tricky Puzzles</td>\n",
       "      <td>GAME TRIVIA</td>\n",
       "      <td>4145089</td>\n",
       "      <td>100.0</td>\n",
       "      <td>3257745</td>\n",
       "    </tr>\n",
       "    <tr>\n",
       "      <th>1528</th>\n",
       "      <td>3</td>\n",
       "      <td>94% - Quiz, Trivia &amp; Logic</td>\n",
       "      <td>GAME TRIVIA</td>\n",
       "      <td>2614691</td>\n",
       "      <td>10.0</td>\n",
       "      <td>1793644</td>\n",
       "    </tr>\n",
       "    <tr>\n",
       "      <th>1626</th>\n",
       "      <td>1</td>\n",
       "      <td>كلمات كراش - لعبة تسلية وتحدي من زيتونة</td>\n",
       "      <td>GAME WORD</td>\n",
       "      <td>2418119</td>\n",
       "      <td>10.0</td>\n",
       "      <td>2115189</td>\n",
       "    </tr>\n",
       "    <tr>\n",
       "      <th>1627</th>\n",
       "      <td>2</td>\n",
       "      <td>Word Cookies!®</td>\n",
       "      <td>GAME WORD</td>\n",
       "      <td>2250585</td>\n",
       "      <td>10.0</td>\n",
       "      <td>1679256</td>\n",
       "    </tr>\n",
       "    <tr>\n",
       "      <th>1628</th>\n",
       "      <td>3</td>\n",
       "      <td>Words of Wonders: Crossword to Connect Vocabulary</td>\n",
       "      <td>GAME WORD</td>\n",
       "      <td>1885400</td>\n",
       "      <td>100.0</td>\n",
       "      <td>1457939</td>\n",
       "    </tr>\n",
       "  </tbody>\n",
       "</table>\n",
       "</div>"
      ],
      "text/plain": [
       "      rank                                              title  \\\n",
       "0        1                     Garena Free Fire- World Series   \n",
       "1        2                             PUBG MOBILE - Traverse   \n",
       "2        3                          Mobile Legends: Bang Bang   \n",
       "100      1                                             Roblox   \n",
       "101      2                                         Pokémon GO   \n",
       "102      3                                      Criminal Case   \n",
       "200      1                                     Subway Surfers   \n",
       "201      2     Hungry Shark Evolution - Offline survival game   \n",
       "202      3                                 Geometry Dash Lite   \n",
       "300      1                                         Ludo King™   \n",
       "301      2    Happy Color™ – Color by Number. Coloring games.   \n",
       "302      3                               101 Yüzbir Okey Plus   \n",
       "400      1                               Yu-Gi-Oh! Duel Links   \n",
       "401      2                                        Hearthstone   \n",
       "402      3                                          Solitaire   \n",
       "403      3                                          Solitaire   \n",
       "404      3                                          Solitaire   \n",
       "405      3                                          Solitaire   \n",
       "526      1  Zynga Poker™ – Free Texas Holdem Online Card G...   \n",
       "527      2       Slotomania™ Slots: Casino Slot Machine Games   \n",
       "528      3          Teen Patti Gold – Indian Family Card Game   \n",
       "626      1                                   Candy Crush Saga   \n",
       "627      2                                     My Talking Tom   \n",
       "628      3                                  My Talking Angela   \n",
       "726      1  Toca Life World: Build stories & create your w...   \n",
       "727      2                                     Toca Kitchen 2   \n",
       "728      3                          Cooking Mama: Let's cook!   \n",
       "826      1                               Tiles Hop: EDM Rush!   \n",
       "827      2                                      Magic Tiles 3   \n",
       "828      3                                My Singing Monsters   \n",
       "926      1                                            Fishdom   \n",
       "927      2                       Brain Out – Can you pass it?   \n",
       "928      3                                         Toon Blast   \n",
       "1026     1                                  Hill Climb Racing   \n",
       "1027     2                                      Traffic Rider   \n",
       "1028     3                                      Traffic Racer   \n",
       "1126     1                 Shadow Fight 3 - RPG fighting game   \n",
       "1127     2                                          AFK Arena   \n",
       "1128     3                     Avakin Life - 3D Virtual World   \n",
       "1226     1                                  The Sims FreePlay   \n",
       "1227     2                                    SimCity BuildIt   \n",
       "1228     3                        Episode - Choose Your Story   \n",
       "1326     1                                        8 Ball Pool   \n",
       "1327     2                                Dream League Soccer   \n",
       "1328     3                                        Score! Hero   \n",
       "1426     1                                     Clash of Clans   \n",
       "1427     2                                       Clash Royale   \n",
       "1428     3                        Lords Mobile: Tower Defense   \n",
       "1526     1                                       Trivia Crack   \n",
       "1527     2                         Brain Test: Tricky Puzzles   \n",
       "1528     3                         94% - Quiz, Trivia & Logic   \n",
       "1626     1            كلمات كراش - لعبة تسلية وتحدي من زيتونة   \n",
       "1627     2                                     Word Cookies!®   \n",
       "1628     3  Words of Wonders: Crossword to Connect Vocabulary   \n",
       "\n",
       "               category  Total_ratings  installs_in_million  5 star ratings  \n",
       "0           GAME ACTION       86273129                500.0        63546766  \n",
       "1           GAME ACTION       37276732                500.0        28339753  \n",
       "2           GAME ACTION       26663595                100.0        18777988  \n",
       "100      GAME ADVENTURE       21820451                100.0        16674013  \n",
       "101      GAME ADVENTURE       14541662                100.0         9517488  \n",
       "102      GAME ADVENTURE        4273420                100.0         3264905  \n",
       "200         GAME ARCADE       35665901               1000.0        27138572  \n",
       "201         GAME ARCADE        7202013                100.0         5220860  \n",
       "202         GAME ARCADE        6960814                100.0         4787054  \n",
       "300          GAME BOARD        7512316                500.0         5291589  \n",
       "301          GAME BOARD        2516777                100.0         1927153  \n",
       "302          GAME BOARD        2430531                 10.0         1763377  \n",
       "400           GAME CARD        2113853                 50.0         1541203  \n",
       "401           GAME CARD        1765570                 10.0          960279  \n",
       "402           GAME CARD        1590733                100.0         1117298  \n",
       "403           GAME CARD        1590733                100.0          431463  \n",
       "404           GAME CARD        1590733                100.0          418115  \n",
       "405           GAME CARD        1590733                100.0          299715  \n",
       "526         GAME CASINO        2582669                 50.0         1821678  \n",
       "527         GAME CASINO        1822223                 50.0         1293272  \n",
       "528         GAME CASINO        1529589                 50.0         1210258  \n",
       "626         GAME CASUAL       31367945               1000.0        23837448  \n",
       "627         GAME CASUAL       16810315                500.0        12234051  \n",
       "628         GAME CASUAL       13050503                500.0         9165205  \n",
       "726    GAME EDUCATIONAL        1690405                 50.0         1191130  \n",
       "727    GAME EDUCATIONAL        1543998                100.0         1044380  \n",
       "728    GAME EDUCATIONAL         758930                 50.0          569677  \n",
       "826          GAME MUSIC        2454558                100.0         1815983  \n",
       "827          GAME MUSIC        2381045                100.0         1570436  \n",
       "828          GAME MUSIC        1363013                 10.0         1099001  \n",
       "926         GAME PUZZLE        4876844                100.0         3641850  \n",
       "927         GAME PUZZLE        4467655                100.0         3390163  \n",
       "928         GAME PUZZLE        3222428                 50.0         2556112  \n",
       "1026        GAME RACING       10188038                500.0         7148370  \n",
       "1027        GAME RACING        7580227                100.0         5426819  \n",
       "1028        GAME RACING        6062833                100.0         4580870  \n",
       "1126  GAME ROLE PLAYING        3170246                100.0         2243868  \n",
       "1127  GAME ROLE PLAYING        3126336                 10.0         2238968  \n",
       "1128  GAME ROLE PLAYING        3105550                 50.0         2198832  \n",
       "1226    GAME SIMULATION        5541105                100.0         3457057  \n",
       "1227    GAME SIMULATION        5213933                100.0         3484074  \n",
       "1228    GAME SIMULATION        3622549                100.0         2310125  \n",
       "1326        GAME SPORTS       21632735                500.0        16281475  \n",
       "1327        GAME SPORTS       13385786                100.0        10086735  \n",
       "1328        GAME SPORTS        6856324                100.0         4551071  \n",
       "1426      GAME STRATEGY       55766763                500.0        43346128  \n",
       "1427      GAME STRATEGY       30852360                100.0        21009004  \n",
       "1428      GAME STRATEGY        6548519                100.0         4667558  \n",
       "1526        GAME TRIVIA        7334155                100.0         4938889  \n",
       "1527        GAME TRIVIA        4145089                100.0         3257745  \n",
       "1528        GAME TRIVIA        2614691                 10.0         1793644  \n",
       "1626          GAME WORD        2418119                 10.0         2115189  \n",
       "1627          GAME WORD        2250585                 10.0         1679256  \n",
       "1628          GAME WORD        1885400                100.0         1457939  "
      ]
     },
     "execution_count": 32,
     "metadata": {},
     "output_type": "execute_result"
    }
   ],
   "source": [
    "top_ranked_games = data[data['rank']<4][['rank','title','category', 'Total_ratings', 'installs_in_million', '5 star ratings']]\n",
    "top_ranked_games"
   ]
  },
  {
   "cell_type": "markdown",
   "id": "3bbdced4",
   "metadata": {
    "papermill": {
     "duration": 0.043257,
     "end_time": "2021-08-08T05:46:45.137014",
     "exception": false,
     "start_time": "2021-08-08T05:46:45.093757",
     "status": "completed"
    },
    "tags": []
   },
   "source": [
    "**15.Top 3 Games by Category and Their Total Ratings**"
   ]
  },
  {
   "cell_type": "code",
   "execution_count": 33,
   "id": "54b29004",
   "metadata": {
    "execution": {
     "iopub.execute_input": "2021-08-08T05:46:45.224035Z",
     "iopub.status.busy": "2021-08-08T05:46:45.223178Z",
     "iopub.status.idle": "2021-08-08T05:46:45.375554Z",
     "shell.execute_reply": "2021-08-08T05:46:45.375032Z",
     "shell.execute_reply.started": "2021-08-08T05:15:30.322688Z"
    },
    "papermill": {
     "duration": 0.197347,
     "end_time": "2021-08-08T05:46:45.375697",
     "exception": false,
     "start_time": "2021-08-08T05:46:45.178350",
     "status": "completed"
    },
    "tags": []
   },
   "outputs": [
    {
     "data": {
      "text/html": [
       "<div>                            <div id=\"d80d2f06-5245-40dd-9cd7-c6b2284f7636\" class=\"plotly-graph-div\" style=\"height:525px; width:100%;\"></div>            <script type=\"text/javascript\">                require([\"plotly\"], function(Plotly) {                    window.PLOTLYENV=window.PLOTLYENV || {};                                    if (document.getElementById(\"d80d2f06-5245-40dd-9cd7-c6b2284f7636\")) {                    Plotly.newPlot(                        \"d80d2f06-5245-40dd-9cd7-c6b2284f7636\",                        [{\"customdata\":[[\"GAME ACTION\",1],[\"GAME ACTION\",2],[\"GAME ACTION\",3]],\"hovertemplate\":\"category=%{customdata[0]}<br>Total_ratings=%{x}<br>title=%{y}<br>rank=%{customdata[1]}<extra></extra>\",\"legendgroup\":\"GAME ACTION\",\"marker\":{\"color\":\"#636efa\",\"symbol\":\"circle\"},\"mode\":\"markers\",\"name\":\"GAME ACTION\",\"orientation\":\"h\",\"showlegend\":true,\"type\":\"scatter\",\"x\":[86273129,37276732,26663595],\"xaxis\":\"x\",\"y\":[\"Garena Free Fire- World Series\",\"PUBG MOBILE - Traverse\",\"Mobile Legends: Bang Bang\"],\"yaxis\":\"y\"},{\"customdata\":[[\"GAME ADVENTURE\",1],[\"GAME ADVENTURE\",2],[\"GAME ADVENTURE\",3]],\"hovertemplate\":\"category=%{customdata[0]}<br>Total_ratings=%{x}<br>title=%{y}<br>rank=%{customdata[1]}<extra></extra>\",\"legendgroup\":\"GAME ADVENTURE\",\"marker\":{\"color\":\"#EF553B\",\"symbol\":\"circle\"},\"mode\":\"markers\",\"name\":\"GAME ADVENTURE\",\"orientation\":\"h\",\"showlegend\":true,\"type\":\"scatter\",\"x\":[21820451,14541662,4273420],\"xaxis\":\"x\",\"y\":[\"Roblox\",\"Pok\\u00e9mon GO\",\"Criminal Case\"],\"yaxis\":\"y\"},{\"customdata\":[[\"GAME ARCADE\",1],[\"GAME ARCADE\",2],[\"GAME ARCADE\",3]],\"hovertemplate\":\"category=%{customdata[0]}<br>Total_ratings=%{x}<br>title=%{y}<br>rank=%{customdata[1]}<extra></extra>\",\"legendgroup\":\"GAME ARCADE\",\"marker\":{\"color\":\"#00cc96\",\"symbol\":\"circle\"},\"mode\":\"markers\",\"name\":\"GAME ARCADE\",\"orientation\":\"h\",\"showlegend\":true,\"type\":\"scatter\",\"x\":[35665901,7202013,6960814],\"xaxis\":\"x\",\"y\":[\"Subway Surfers\",\"Hungry Shark Evolution - Offline survival game\",\"Geometry Dash Lite\"],\"yaxis\":\"y\"},{\"customdata\":[[\"GAME BOARD\",1],[\"GAME BOARD\",2],[\"GAME BOARD\",3]],\"hovertemplate\":\"category=%{customdata[0]}<br>Total_ratings=%{x}<br>title=%{y}<br>rank=%{customdata[1]}<extra></extra>\",\"legendgroup\":\"GAME BOARD\",\"marker\":{\"color\":\"#ab63fa\",\"symbol\":\"circle\"},\"mode\":\"markers\",\"name\":\"GAME BOARD\",\"orientation\":\"h\",\"showlegend\":true,\"type\":\"scatter\",\"x\":[7512316,2516777,2430531],\"xaxis\":\"x\",\"y\":[\"Ludo King\\u2122\",\"Happy Color\\u2122 \\u2013 Color by Number. Coloring games.\",\"101 Y\\u00fczbir Okey Plus\"],\"yaxis\":\"y\"},{\"customdata\":[[\"GAME CARD\",1],[\"GAME CARD\",2],[\"GAME CARD\",3],[\"GAME CARD\",3],[\"GAME CARD\",3],[\"GAME CARD\",3]],\"hovertemplate\":\"category=%{customdata[0]}<br>Total_ratings=%{x}<br>title=%{y}<br>rank=%{customdata[1]}<extra></extra>\",\"legendgroup\":\"GAME CARD\",\"marker\":{\"color\":\"#FFA15A\",\"symbol\":\"circle\"},\"mode\":\"markers\",\"name\":\"GAME CARD\",\"orientation\":\"h\",\"showlegend\":true,\"type\":\"scatter\",\"x\":[2113853,1765570,1590733,1590733,1590733,1590733],\"xaxis\":\"x\",\"y\":[\"Yu-Gi-Oh! Duel Links\",\"Hearthstone\",\"Solitaire\",\"Solitaire\",\"Solitaire\",\"Solitaire\"],\"yaxis\":\"y\"},{\"customdata\":[[\"GAME CASINO\",1],[\"GAME CASINO\",2],[\"GAME CASINO\",3]],\"hovertemplate\":\"category=%{customdata[0]}<br>Total_ratings=%{x}<br>title=%{y}<br>rank=%{customdata[1]}<extra></extra>\",\"legendgroup\":\"GAME CASINO\",\"marker\":{\"color\":\"#19d3f3\",\"symbol\":\"circle\"},\"mode\":\"markers\",\"name\":\"GAME CASINO\",\"orientation\":\"h\",\"showlegend\":true,\"type\":\"scatter\",\"x\":[2582669,1822223,1529589],\"xaxis\":\"x\",\"y\":[\"Zynga Poker\\u2122 \\u2013 Free Texas Holdem Online Card Games\",\"Slotomania\\u2122 Slots: Casino Slot Machine Games\",\"Teen Patti Gold \\u2013 Indian Family Card Game\"],\"yaxis\":\"y\"},{\"customdata\":[[\"GAME CASUAL\",1],[\"GAME CASUAL\",2],[\"GAME CASUAL\",3]],\"hovertemplate\":\"category=%{customdata[0]}<br>Total_ratings=%{x}<br>title=%{y}<br>rank=%{customdata[1]}<extra></extra>\",\"legendgroup\":\"GAME CASUAL\",\"marker\":{\"color\":\"#FF6692\",\"symbol\":\"circle\"},\"mode\":\"markers\",\"name\":\"GAME CASUAL\",\"orientation\":\"h\",\"showlegend\":true,\"type\":\"scatter\",\"x\":[31367945,16810315,13050503],\"xaxis\":\"x\",\"y\":[\"Candy Crush Saga\",\"My Talking Tom\",\"My Talking Angela\"],\"yaxis\":\"y\"},{\"customdata\":[[\"GAME EDUCATIONAL\",1],[\"GAME EDUCATIONAL\",2],[\"GAME EDUCATIONAL\",3]],\"hovertemplate\":\"category=%{customdata[0]}<br>Total_ratings=%{x}<br>title=%{y}<br>rank=%{customdata[1]}<extra></extra>\",\"legendgroup\":\"GAME EDUCATIONAL\",\"marker\":{\"color\":\"#B6E880\",\"symbol\":\"circle\"},\"mode\":\"markers\",\"name\":\"GAME EDUCATIONAL\",\"orientation\":\"h\",\"showlegend\":true,\"type\":\"scatter\",\"x\":[1690405,1543998,758930],\"xaxis\":\"x\",\"y\":[\"Toca Life World: Build stories & create your world\",\"Toca Kitchen 2\",\"Cooking Mama: Let's cook!\"],\"yaxis\":\"y\"},{\"customdata\":[[\"GAME MUSIC\",1],[\"GAME MUSIC\",2],[\"GAME MUSIC\",3]],\"hovertemplate\":\"category=%{customdata[0]}<br>Total_ratings=%{x}<br>title=%{y}<br>rank=%{customdata[1]}<extra></extra>\",\"legendgroup\":\"GAME MUSIC\",\"marker\":{\"color\":\"#FF97FF\",\"symbol\":\"circle\"},\"mode\":\"markers\",\"name\":\"GAME MUSIC\",\"orientation\":\"h\",\"showlegend\":true,\"type\":\"scatter\",\"x\":[2454558,2381045,1363013],\"xaxis\":\"x\",\"y\":[\"Tiles Hop: EDM Rush!\",\"Magic Tiles 3\",\"My Singing Monsters\"],\"yaxis\":\"y\"},{\"customdata\":[[\"GAME PUZZLE\",1],[\"GAME PUZZLE\",2],[\"GAME PUZZLE\",3]],\"hovertemplate\":\"category=%{customdata[0]}<br>Total_ratings=%{x}<br>title=%{y}<br>rank=%{customdata[1]}<extra></extra>\",\"legendgroup\":\"GAME PUZZLE\",\"marker\":{\"color\":\"#FECB52\",\"symbol\":\"circle\"},\"mode\":\"markers\",\"name\":\"GAME PUZZLE\",\"orientation\":\"h\",\"showlegend\":true,\"type\":\"scatter\",\"x\":[4876844,4467655,3222428],\"xaxis\":\"x\",\"y\":[\"Fishdom\",\"Brain Out \\u2013 Can you pass it?\",\"Toon Blast\"],\"yaxis\":\"y\"},{\"customdata\":[[\"GAME RACING\",1],[\"GAME RACING\",2],[\"GAME RACING\",3]],\"hovertemplate\":\"category=%{customdata[0]}<br>Total_ratings=%{x}<br>title=%{y}<br>rank=%{customdata[1]}<extra></extra>\",\"legendgroup\":\"GAME RACING\",\"marker\":{\"color\":\"#636efa\",\"symbol\":\"circle\"},\"mode\":\"markers\",\"name\":\"GAME RACING\",\"orientation\":\"h\",\"showlegend\":true,\"type\":\"scatter\",\"x\":[10188038,7580227,6062833],\"xaxis\":\"x\",\"y\":[\"Hill Climb Racing\",\"Traffic Rider\",\"Traffic Racer\"],\"yaxis\":\"y\"},{\"customdata\":[[\"GAME ROLE PLAYING\",1],[\"GAME ROLE PLAYING\",2],[\"GAME ROLE PLAYING\",3]],\"hovertemplate\":\"category=%{customdata[0]}<br>Total_ratings=%{x}<br>title=%{y}<br>rank=%{customdata[1]}<extra></extra>\",\"legendgroup\":\"GAME ROLE PLAYING\",\"marker\":{\"color\":\"#EF553B\",\"symbol\":\"circle\"},\"mode\":\"markers\",\"name\":\"GAME ROLE PLAYING\",\"orientation\":\"h\",\"showlegend\":true,\"type\":\"scatter\",\"x\":[3170246,3126336,3105550],\"xaxis\":\"x\",\"y\":[\"Shadow Fight 3 - RPG fighting game\",\"AFK Arena\",\"Avakin Life - 3D Virtual World\"],\"yaxis\":\"y\"},{\"customdata\":[[\"GAME SIMULATION\",1],[\"GAME SIMULATION\",2],[\"GAME SIMULATION\",3]],\"hovertemplate\":\"category=%{customdata[0]}<br>Total_ratings=%{x}<br>title=%{y}<br>rank=%{customdata[1]}<extra></extra>\",\"legendgroup\":\"GAME SIMULATION\",\"marker\":{\"color\":\"#00cc96\",\"symbol\":\"circle\"},\"mode\":\"markers\",\"name\":\"GAME SIMULATION\",\"orientation\":\"h\",\"showlegend\":true,\"type\":\"scatter\",\"x\":[5541105,5213933,3622549],\"xaxis\":\"x\",\"y\":[\"The Sims FreePlay\",\"SimCity BuildIt\",\"Episode - Choose Your Story\"],\"yaxis\":\"y\"},{\"customdata\":[[\"GAME SPORTS\",1],[\"GAME SPORTS\",2],[\"GAME SPORTS\",3]],\"hovertemplate\":\"category=%{customdata[0]}<br>Total_ratings=%{x}<br>title=%{y}<br>rank=%{customdata[1]}<extra></extra>\",\"legendgroup\":\"GAME SPORTS\",\"marker\":{\"color\":\"#ab63fa\",\"symbol\":\"circle\"},\"mode\":\"markers\",\"name\":\"GAME SPORTS\",\"orientation\":\"h\",\"showlegend\":true,\"type\":\"scatter\",\"x\":[21632735,13385786,6856324],\"xaxis\":\"x\",\"y\":[\"8 Ball Pool\",\"Dream League Soccer\",\"Score! Hero\"],\"yaxis\":\"y\"},{\"customdata\":[[\"GAME STRATEGY\",1],[\"GAME STRATEGY\",2],[\"GAME STRATEGY\",3]],\"hovertemplate\":\"category=%{customdata[0]}<br>Total_ratings=%{x}<br>title=%{y}<br>rank=%{customdata[1]}<extra></extra>\",\"legendgroup\":\"GAME STRATEGY\",\"marker\":{\"color\":\"#FFA15A\",\"symbol\":\"circle\"},\"mode\":\"markers\",\"name\":\"GAME STRATEGY\",\"orientation\":\"h\",\"showlegend\":true,\"type\":\"scatter\",\"x\":[55766763,30852360,6548519],\"xaxis\":\"x\",\"y\":[\"Clash of Clans\",\"Clash Royale\",\"Lords Mobile: Tower Defense\"],\"yaxis\":\"y\"},{\"customdata\":[[\"GAME TRIVIA\",1],[\"GAME TRIVIA\",2],[\"GAME TRIVIA\",3]],\"hovertemplate\":\"category=%{customdata[0]}<br>Total_ratings=%{x}<br>title=%{y}<br>rank=%{customdata[1]}<extra></extra>\",\"legendgroup\":\"GAME TRIVIA\",\"marker\":{\"color\":\"#19d3f3\",\"symbol\":\"circle\"},\"mode\":\"markers\",\"name\":\"GAME TRIVIA\",\"orientation\":\"h\",\"showlegend\":true,\"type\":\"scatter\",\"x\":[7334155,4145089,2614691],\"xaxis\":\"x\",\"y\":[\"Trivia Crack\",\"Brain Test: Tricky Puzzles\",\"94% - Quiz, Trivia & Logic\"],\"yaxis\":\"y\"},{\"customdata\":[[\"GAME WORD\",1],[\"GAME WORD\",2],[\"GAME WORD\",3]],\"hovertemplate\":\"category=%{customdata[0]}<br>Total_ratings=%{x}<br>title=%{y}<br>rank=%{customdata[1]}<extra></extra>\",\"legendgroup\":\"GAME WORD\",\"marker\":{\"color\":\"#FF6692\",\"symbol\":\"circle\"},\"mode\":\"markers\",\"name\":\"GAME WORD\",\"orientation\":\"h\",\"showlegend\":true,\"type\":\"scatter\",\"x\":[2418119,2250585,1885400],\"xaxis\":\"x\",\"y\":[\"\\u0643\\u0644\\u0645\\u0627\\u062a \\u0643\\u0631\\u0627\\u0634 - \\u0644\\u0639\\u0628\\u0629 \\u062a\\u0633\\u0644\\u064a\\u0629 \\u0648\\u062a\\u062d\\u062f\\u064a \\u0645\\u0646 \\u0632\\u064a\\u062a\\u0648\\u0646\\u0629\",\"Word Cookies!\\u00ae\",\"Words of Wonders: Crossword to Connect Vocabulary\"],\"yaxis\":\"y\"}],                        {\"legend\":{\"title\":{\"text\":\"category\"},\"tracegroupgap\":0},\"template\":{\"data\":{\"bar\":[{\"error_x\":{\"color\":\"#2a3f5f\"},\"error_y\":{\"color\":\"#2a3f5f\"},\"marker\":{\"line\":{\"color\":\"#E5ECF6\",\"width\":0.5},\"pattern\":{\"fillmode\":\"overlay\",\"size\":10,\"solidity\":0.2}},\"type\":\"bar\"}],\"barpolar\":[{\"marker\":{\"line\":{\"color\":\"#E5ECF6\",\"width\":0.5},\"pattern\":{\"fillmode\":\"overlay\",\"size\":10,\"solidity\":0.2}},\"type\":\"barpolar\"}],\"carpet\":[{\"aaxis\":{\"endlinecolor\":\"#2a3f5f\",\"gridcolor\":\"white\",\"linecolor\":\"white\",\"minorgridcolor\":\"white\",\"startlinecolor\":\"#2a3f5f\"},\"baxis\":{\"endlinecolor\":\"#2a3f5f\",\"gridcolor\":\"white\",\"linecolor\":\"white\",\"minorgridcolor\":\"white\",\"startlinecolor\":\"#2a3f5f\"},\"type\":\"carpet\"}],\"choropleth\":[{\"colorbar\":{\"outlinewidth\":0,\"ticks\":\"\"},\"type\":\"choropleth\"}],\"contour\":[{\"colorbar\":{\"outlinewidth\":0,\"ticks\":\"\"},\"colorscale\":[[0.0,\"#0d0887\"],[0.1111111111111111,\"#46039f\"],[0.2222222222222222,\"#7201a8\"],[0.3333333333333333,\"#9c179e\"],[0.4444444444444444,\"#bd3786\"],[0.5555555555555556,\"#d8576b\"],[0.6666666666666666,\"#ed7953\"],[0.7777777777777778,\"#fb9f3a\"],[0.8888888888888888,\"#fdca26\"],[1.0,\"#f0f921\"]],\"type\":\"contour\"}],\"contourcarpet\":[{\"colorbar\":{\"outlinewidth\":0,\"ticks\":\"\"},\"type\":\"contourcarpet\"}],\"heatmap\":[{\"colorbar\":{\"outlinewidth\":0,\"ticks\":\"\"},\"colorscale\":[[0.0,\"#0d0887\"],[0.1111111111111111,\"#46039f\"],[0.2222222222222222,\"#7201a8\"],[0.3333333333333333,\"#9c179e\"],[0.4444444444444444,\"#bd3786\"],[0.5555555555555556,\"#d8576b\"],[0.6666666666666666,\"#ed7953\"],[0.7777777777777778,\"#fb9f3a\"],[0.8888888888888888,\"#fdca26\"],[1.0,\"#f0f921\"]],\"type\":\"heatmap\"}],\"heatmapgl\":[{\"colorbar\":{\"outlinewidth\":0,\"ticks\":\"\"},\"colorscale\":[[0.0,\"#0d0887\"],[0.1111111111111111,\"#46039f\"],[0.2222222222222222,\"#7201a8\"],[0.3333333333333333,\"#9c179e\"],[0.4444444444444444,\"#bd3786\"],[0.5555555555555556,\"#d8576b\"],[0.6666666666666666,\"#ed7953\"],[0.7777777777777778,\"#fb9f3a\"],[0.8888888888888888,\"#fdca26\"],[1.0,\"#f0f921\"]],\"type\":\"heatmapgl\"}],\"histogram\":[{\"marker\":{\"pattern\":{\"fillmode\":\"overlay\",\"size\":10,\"solidity\":0.2}},\"type\":\"histogram\"}],\"histogram2d\":[{\"colorbar\":{\"outlinewidth\":0,\"ticks\":\"\"},\"colorscale\":[[0.0,\"#0d0887\"],[0.1111111111111111,\"#46039f\"],[0.2222222222222222,\"#7201a8\"],[0.3333333333333333,\"#9c179e\"],[0.4444444444444444,\"#bd3786\"],[0.5555555555555556,\"#d8576b\"],[0.6666666666666666,\"#ed7953\"],[0.7777777777777778,\"#fb9f3a\"],[0.8888888888888888,\"#fdca26\"],[1.0,\"#f0f921\"]],\"type\":\"histogram2d\"}],\"histogram2dcontour\":[{\"colorbar\":{\"outlinewidth\":0,\"ticks\":\"\"},\"colorscale\":[[0.0,\"#0d0887\"],[0.1111111111111111,\"#46039f\"],[0.2222222222222222,\"#7201a8\"],[0.3333333333333333,\"#9c179e\"],[0.4444444444444444,\"#bd3786\"],[0.5555555555555556,\"#d8576b\"],[0.6666666666666666,\"#ed7953\"],[0.7777777777777778,\"#fb9f3a\"],[0.8888888888888888,\"#fdca26\"],[1.0,\"#f0f921\"]],\"type\":\"histogram2dcontour\"}],\"mesh3d\":[{\"colorbar\":{\"outlinewidth\":0,\"ticks\":\"\"},\"type\":\"mesh3d\"}],\"parcoords\":[{\"line\":{\"colorbar\":{\"outlinewidth\":0,\"ticks\":\"\"}},\"type\":\"parcoords\"}],\"pie\":[{\"automargin\":true,\"type\":\"pie\"}],\"scatter\":[{\"marker\":{\"colorbar\":{\"outlinewidth\":0,\"ticks\":\"\"}},\"type\":\"scatter\"}],\"scatter3d\":[{\"line\":{\"colorbar\":{\"outlinewidth\":0,\"ticks\":\"\"}},\"marker\":{\"colorbar\":{\"outlinewidth\":0,\"ticks\":\"\"}},\"type\":\"scatter3d\"}],\"scattercarpet\":[{\"marker\":{\"colorbar\":{\"outlinewidth\":0,\"ticks\":\"\"}},\"type\":\"scattercarpet\"}],\"scattergeo\":[{\"marker\":{\"colorbar\":{\"outlinewidth\":0,\"ticks\":\"\"}},\"type\":\"scattergeo\"}],\"scattergl\":[{\"marker\":{\"colorbar\":{\"outlinewidth\":0,\"ticks\":\"\"}},\"type\":\"scattergl\"}],\"scattermapbox\":[{\"marker\":{\"colorbar\":{\"outlinewidth\":0,\"ticks\":\"\"}},\"type\":\"scattermapbox\"}],\"scatterpolar\":[{\"marker\":{\"colorbar\":{\"outlinewidth\":0,\"ticks\":\"\"}},\"type\":\"scatterpolar\"}],\"scatterpolargl\":[{\"marker\":{\"colorbar\":{\"outlinewidth\":0,\"ticks\":\"\"}},\"type\":\"scatterpolargl\"}],\"scatterternary\":[{\"marker\":{\"colorbar\":{\"outlinewidth\":0,\"ticks\":\"\"}},\"type\":\"scatterternary\"}],\"surface\":[{\"colorbar\":{\"outlinewidth\":0,\"ticks\":\"\"},\"colorscale\":[[0.0,\"#0d0887\"],[0.1111111111111111,\"#46039f\"],[0.2222222222222222,\"#7201a8\"],[0.3333333333333333,\"#9c179e\"],[0.4444444444444444,\"#bd3786\"],[0.5555555555555556,\"#d8576b\"],[0.6666666666666666,\"#ed7953\"],[0.7777777777777778,\"#fb9f3a\"],[0.8888888888888888,\"#fdca26\"],[1.0,\"#f0f921\"]],\"type\":\"surface\"}],\"table\":[{\"cells\":{\"fill\":{\"color\":\"#EBF0F8\"},\"line\":{\"color\":\"white\"}},\"header\":{\"fill\":{\"color\":\"#C8D4E3\"},\"line\":{\"color\":\"white\"}},\"type\":\"table\"}]},\"layout\":{\"annotationdefaults\":{\"arrowcolor\":\"#2a3f5f\",\"arrowhead\":0,\"arrowwidth\":1},\"autotypenumbers\":\"strict\",\"coloraxis\":{\"colorbar\":{\"outlinewidth\":0,\"ticks\":\"\"}},\"colorscale\":{\"diverging\":[[0,\"#8e0152\"],[0.1,\"#c51b7d\"],[0.2,\"#de77ae\"],[0.3,\"#f1b6da\"],[0.4,\"#fde0ef\"],[0.5,\"#f7f7f7\"],[0.6,\"#e6f5d0\"],[0.7,\"#b8e186\"],[0.8,\"#7fbc41\"],[0.9,\"#4d9221\"],[1,\"#276419\"]],\"sequential\":[[0.0,\"#0d0887\"],[0.1111111111111111,\"#46039f\"],[0.2222222222222222,\"#7201a8\"],[0.3333333333333333,\"#9c179e\"],[0.4444444444444444,\"#bd3786\"],[0.5555555555555556,\"#d8576b\"],[0.6666666666666666,\"#ed7953\"],[0.7777777777777778,\"#fb9f3a\"],[0.8888888888888888,\"#fdca26\"],[1.0,\"#f0f921\"]],\"sequentialminus\":[[0.0,\"#0d0887\"],[0.1111111111111111,\"#46039f\"],[0.2222222222222222,\"#7201a8\"],[0.3333333333333333,\"#9c179e\"],[0.4444444444444444,\"#bd3786\"],[0.5555555555555556,\"#d8576b\"],[0.6666666666666666,\"#ed7953\"],[0.7777777777777778,\"#fb9f3a\"],[0.8888888888888888,\"#fdca26\"],[1.0,\"#f0f921\"]]},\"colorway\":[\"#636efa\",\"#EF553B\",\"#00cc96\",\"#ab63fa\",\"#FFA15A\",\"#19d3f3\",\"#FF6692\",\"#B6E880\",\"#FF97FF\",\"#FECB52\"],\"font\":{\"color\":\"#2a3f5f\"},\"geo\":{\"bgcolor\":\"white\",\"lakecolor\":\"white\",\"landcolor\":\"#E5ECF6\",\"showlakes\":true,\"showland\":true,\"subunitcolor\":\"white\"},\"hoverlabel\":{\"align\":\"left\"},\"hovermode\":\"closest\",\"mapbox\":{\"style\":\"light\"},\"paper_bgcolor\":\"white\",\"plot_bgcolor\":\"#E5ECF6\",\"polar\":{\"angularaxis\":{\"gridcolor\":\"white\",\"linecolor\":\"white\",\"ticks\":\"\"},\"bgcolor\":\"#E5ECF6\",\"radialaxis\":{\"gridcolor\":\"white\",\"linecolor\":\"white\",\"ticks\":\"\"}},\"scene\":{\"xaxis\":{\"backgroundcolor\":\"#E5ECF6\",\"gridcolor\":\"white\",\"gridwidth\":2,\"linecolor\":\"white\",\"showbackground\":true,\"ticks\":\"\",\"zerolinecolor\":\"white\"},\"yaxis\":{\"backgroundcolor\":\"#E5ECF6\",\"gridcolor\":\"white\",\"gridwidth\":2,\"linecolor\":\"white\",\"showbackground\":true,\"ticks\":\"\",\"zerolinecolor\":\"white\"},\"zaxis\":{\"backgroundcolor\":\"#E5ECF6\",\"gridcolor\":\"white\",\"gridwidth\":2,\"linecolor\":\"white\",\"showbackground\":true,\"ticks\":\"\",\"zerolinecolor\":\"white\"}},\"shapedefaults\":{\"line\":{\"color\":\"#2a3f5f\"}},\"ternary\":{\"aaxis\":{\"gridcolor\":\"white\",\"linecolor\":\"white\",\"ticks\":\"\"},\"baxis\":{\"gridcolor\":\"white\",\"linecolor\":\"white\",\"ticks\":\"\"},\"bgcolor\":\"#E5ECF6\",\"caxis\":{\"gridcolor\":\"white\",\"linecolor\":\"white\",\"ticks\":\"\"}},\"title\":{\"x\":0.05},\"xaxis\":{\"automargin\":true,\"gridcolor\":\"white\",\"linecolor\":\"white\",\"ticks\":\"\",\"title\":{\"standoff\":15},\"zerolinecolor\":\"white\",\"zerolinewidth\":2},\"yaxis\":{\"automargin\":true,\"gridcolor\":\"white\",\"linecolor\":\"white\",\"ticks\":\"\",\"title\":{\"standoff\":15},\"zerolinecolor\":\"white\",\"zerolinewidth\":2}}},\"title\":{\"text\":\"Top 3 Games by Their Total Ratings\"},\"xaxis\":{\"anchor\":\"y\",\"domain\":[0.0,1.0],\"title\":{\"text\":\"Total_ratings\"}},\"yaxis\":{\"anchor\":\"x\",\"domain\":[0.0,1.0],\"title\":{\"text\":\"title\"}}},                        {\"responsive\": true}                    ).then(function(){\n",
       "                            \n",
       "var gd = document.getElementById('d80d2f06-5245-40dd-9cd7-c6b2284f7636');\n",
       "var x = new MutationObserver(function (mutations, observer) {{\n",
       "        var display = window.getComputedStyle(gd).display;\n",
       "        if (!display || display === 'none') {{\n",
       "            console.log([gd, 'removed!']);\n",
       "            Plotly.purge(gd);\n",
       "            observer.disconnect();\n",
       "        }}\n",
       "}});\n",
       "\n",
       "// Listen for the removal of the full notebook cells\n",
       "var notebookContainer = gd.closest('#notebook-container');\n",
       "if (notebookContainer) {{\n",
       "    x.observe(notebookContainer, {childList: true});\n",
       "}}\n",
       "\n",
       "// Listen for the clearing of the current output cell\n",
       "var outputEl = gd.closest('.output');\n",
       "if (outputEl) {{\n",
       "    x.observe(outputEl, {childList: true});\n",
       "}}\n",
       "\n",
       "                        })                };                });            </script>        </div>"
      ]
     },
     "metadata": {},
     "output_type": "display_data"
    }
   ],
   "source": [
    "fig = px.scatter(top_ranked_games, y= 'title', x='Total_ratings', \n",
    "                 hover_data = top_ranked_games[['category','rank']], color='category', \n",
    "                 title = \"Top 3 Games by Their Total Ratings\")\n",
    "fig.show()"
   ]
  },
  {
   "cell_type": "code",
   "execution_count": 34,
   "id": "e641b82e",
   "metadata": {
    "execution": {
     "iopub.execute_input": "2021-08-08T05:46:45.471759Z",
     "iopub.status.busy": "2021-08-08T05:46:45.470904Z",
     "iopub.status.idle": "2021-08-08T05:46:45.496542Z",
     "shell.execute_reply": "2021-08-08T05:46:45.497024Z",
     "shell.execute_reply.started": "2021-08-08T05:16:20.817718Z"
    },
    "papermill": {
     "duration": 0.079741,
     "end_time": "2021-08-08T05:46:45.497206",
     "exception": false,
     "start_time": "2021-08-08T05:46:45.417465",
     "status": "completed"
    },
    "tags": []
   },
   "outputs": [
    {
     "data": {
      "text/html": [
       "<div>\n",
       "<style scoped>\n",
       "    .dataframe tbody tr th:only-of-type {\n",
       "        vertical-align: middle;\n",
       "    }\n",
       "\n",
       "    .dataframe tbody tr th {\n",
       "        vertical-align: top;\n",
       "    }\n",
       "\n",
       "    .dataframe thead th {\n",
       "        text-align: right;\n",
       "    }\n",
       "</style>\n",
       "<table border=\"1\" class=\"dataframe\">\n",
       "  <thead>\n",
       "    <tr style=\"text-align: right;\">\n",
       "      <th></th>\n",
       "      <th>rank</th>\n",
       "      <th>title</th>\n",
       "      <th>Total_ratings</th>\n",
       "      <th>installs_in_million</th>\n",
       "      <th>average rating</th>\n",
       "      <th>growth (30 days)</th>\n",
       "      <th>growth (60 days)</th>\n",
       "      <th>category</th>\n",
       "      <th>5 star ratings</th>\n",
       "      <th>4 star ratings</th>\n",
       "      <th>3 star ratings</th>\n",
       "      <th>2 star ratings</th>\n",
       "      <th>1 star ratings</th>\n",
       "      <th>paid</th>\n",
       "    </tr>\n",
       "  </thead>\n",
       "  <tbody>\n",
       "    <tr>\n",
       "      <th>200</th>\n",
       "      <td>1</td>\n",
       "      <td>Subway Surfers</td>\n",
       "      <td>35665901</td>\n",
       "      <td>1000.0</td>\n",
       "      <td>4</td>\n",
       "      <td>0.5</td>\n",
       "      <td>1.0</td>\n",
       "      <td>GAME ARCADE</td>\n",
       "      <td>27138572</td>\n",
       "      <td>3366600</td>\n",
       "      <td>1622695</td>\n",
       "      <td>814890</td>\n",
       "      <td>2723142</td>\n",
       "      <td>False</td>\n",
       "    </tr>\n",
       "    <tr>\n",
       "      <th>626</th>\n",
       "      <td>1</td>\n",
       "      <td>Candy Crush Saga</td>\n",
       "      <td>31367945</td>\n",
       "      <td>1000.0</td>\n",
       "      <td>4</td>\n",
       "      <td>0.9</td>\n",
       "      <td>1.6</td>\n",
       "      <td>GAME CASUAL</td>\n",
       "      <td>23837448</td>\n",
       "      <td>4176798</td>\n",
       "      <td>1534041</td>\n",
       "      <td>486005</td>\n",
       "      <td>1333650</td>\n",
       "      <td>False</td>\n",
       "    </tr>\n",
       "    <tr>\n",
       "      <th>0</th>\n",
       "      <td>1</td>\n",
       "      <td>Garena Free Fire- World Series</td>\n",
       "      <td>86273129</td>\n",
       "      <td>500.0</td>\n",
       "      <td>4</td>\n",
       "      <td>2.1</td>\n",
       "      <td>6.9</td>\n",
       "      <td>GAME ACTION</td>\n",
       "      <td>63546766</td>\n",
       "      <td>4949507</td>\n",
       "      <td>3158756</td>\n",
       "      <td>2122183</td>\n",
       "      <td>12495915</td>\n",
       "      <td>False</td>\n",
       "    </tr>\n",
       "    <tr>\n",
       "      <th>207</th>\n",
       "      <td>8</td>\n",
       "      <td>Temple Run</td>\n",
       "      <td>4816448</td>\n",
       "      <td>500.0</td>\n",
       "      <td>4</td>\n",
       "      <td>0.7</td>\n",
       "      <td>1.5</td>\n",
       "      <td>GAME ARCADE</td>\n",
       "      <td>3184391</td>\n",
       "      <td>438320</td>\n",
       "      <td>318164</td>\n",
       "      <td>204384</td>\n",
       "      <td>671187</td>\n",
       "      <td>False</td>\n",
       "    </tr>\n",
       "    <tr>\n",
       "      <th>1426</th>\n",
       "      <td>1</td>\n",
       "      <td>Clash of Clans</td>\n",
       "      <td>55766763</td>\n",
       "      <td>500.0</td>\n",
       "      <td>4</td>\n",
       "      <td>0.3</td>\n",
       "      <td>1.0</td>\n",
       "      <td>GAME STRATEGY</td>\n",
       "      <td>43346128</td>\n",
       "      <td>5404966</td>\n",
       "      <td>2276203</td>\n",
       "      <td>971321</td>\n",
       "      <td>3768141</td>\n",
       "      <td>False</td>\n",
       "    </tr>\n",
       "    <tr>\n",
       "      <th>1026</th>\n",
       "      <td>1</td>\n",
       "      <td>Hill Climb Racing</td>\n",
       "      <td>10188038</td>\n",
       "      <td>500.0</td>\n",
       "      <td>4</td>\n",
       "      <td>0.4</td>\n",
       "      <td>0.8</td>\n",
       "      <td>GAME RACING</td>\n",
       "      <td>7148370</td>\n",
       "      <td>982941</td>\n",
       "      <td>607603</td>\n",
       "      <td>338715</td>\n",
       "      <td>1110407</td>\n",
       "      <td>False</td>\n",
       "    </tr>\n",
       "    <tr>\n",
       "      <th>1326</th>\n",
       "      <td>1</td>\n",
       "      <td>8 Ball Pool</td>\n",
       "      <td>21632735</td>\n",
       "      <td>500.0</td>\n",
       "      <td>4</td>\n",
       "      <td>1.2</td>\n",
       "      <td>630.8</td>\n",
       "      <td>GAME SPORTS</td>\n",
       "      <td>16281475</td>\n",
       "      <td>2268294</td>\n",
       "      <td>1017204</td>\n",
       "      <td>425693</td>\n",
       "      <td>1640067</td>\n",
       "      <td>False</td>\n",
       "    </tr>\n",
       "    <tr>\n",
       "      <th>630</th>\n",
       "      <td>5</td>\n",
       "      <td>Pou</td>\n",
       "      <td>11506051</td>\n",
       "      <td>500.0</td>\n",
       "      <td>4</td>\n",
       "      <td>0.2</td>\n",
       "      <td>0.5</td>\n",
       "      <td>GAME CASUAL</td>\n",
       "      <td>8175679</td>\n",
       "      <td>1051014</td>\n",
       "      <td>688712</td>\n",
       "      <td>346244</td>\n",
       "      <td>1244400</td>\n",
       "      <td>False</td>\n",
       "    </tr>\n",
       "    <tr>\n",
       "      <th>628</th>\n",
       "      <td>3</td>\n",
       "      <td>My Talking Angela</td>\n",
       "      <td>13050503</td>\n",
       "      <td>500.0</td>\n",
       "      <td>4</td>\n",
       "      <td>0.6</td>\n",
       "      <td>1.4</td>\n",
       "      <td>GAME CASUAL</td>\n",
       "      <td>9165205</td>\n",
       "      <td>1073761</td>\n",
       "      <td>636763</td>\n",
       "      <td>399662</td>\n",
       "      <td>1775110</td>\n",
       "      <td>False</td>\n",
       "    </tr>\n",
       "    <tr>\n",
       "      <th>1</th>\n",
       "      <td>2</td>\n",
       "      <td>PUBG MOBILE - Traverse</td>\n",
       "      <td>37276732</td>\n",
       "      <td>500.0</td>\n",
       "      <td>4</td>\n",
       "      <td>1.8</td>\n",
       "      <td>3.6</td>\n",
       "      <td>GAME ACTION</td>\n",
       "      <td>28339753</td>\n",
       "      <td>2164478</td>\n",
       "      <td>1253185</td>\n",
       "      <td>809821</td>\n",
       "      <td>4709492</td>\n",
       "      <td>False</td>\n",
       "    </tr>\n",
       "    <tr>\n",
       "      <th>627</th>\n",
       "      <td>2</td>\n",
       "      <td>My Talking Tom</td>\n",
       "      <td>16810315</td>\n",
       "      <td>500.0</td>\n",
       "      <td>4</td>\n",
       "      <td>0.3</td>\n",
       "      <td>0.5</td>\n",
       "      <td>GAME CASUAL</td>\n",
       "      <td>12234051</td>\n",
       "      <td>1514188</td>\n",
       "      <td>851145</td>\n",
       "      <td>465627</td>\n",
       "      <td>1745303</td>\n",
       "      <td>False</td>\n",
       "    </tr>\n",
       "    <tr>\n",
       "      <th>300</th>\n",
       "      <td>1</td>\n",
       "      <td>Ludo King™</td>\n",
       "      <td>7512316</td>\n",
       "      <td>500.0</td>\n",
       "      <td>4</td>\n",
       "      <td>4.0</td>\n",
       "      <td>6.5</td>\n",
       "      <td>GAME BOARD</td>\n",
       "      <td>5291589</td>\n",
       "      <td>773193</td>\n",
       "      <td>369290</td>\n",
       "      <td>204053</td>\n",
       "      <td>874188</td>\n",
       "      <td>False</td>\n",
       "    </tr>\n",
       "    <tr>\n",
       "      <th>7</th>\n",
       "      <td>8</td>\n",
       "      <td>Temple Run 2</td>\n",
       "      <td>9633929</td>\n",
       "      <td>500.0</td>\n",
       "      <td>4</td>\n",
       "      <td>0.3</td>\n",
       "      <td>0.8</td>\n",
       "      <td>GAME ACTION</td>\n",
       "      <td>6579369</td>\n",
       "      <td>991341</td>\n",
       "      <td>614643</td>\n",
       "      <td>349003</td>\n",
       "      <td>1099571</td>\n",
       "      <td>False</td>\n",
       "    </tr>\n",
       "    <tr>\n",
       "      <th>4</th>\n",
       "      <td>5</td>\n",
       "      <td>Sniper 3D: Fun Free Online FPS Shooting Game</td>\n",
       "      <td>14464235</td>\n",
       "      <td>500.0</td>\n",
       "      <td>4</td>\n",
       "      <td>0.8</td>\n",
       "      <td>1.5</td>\n",
       "      <td>GAME ACTION</td>\n",
       "      <td>9827328</td>\n",
       "      <td>2124154</td>\n",
       "      <td>1047741</td>\n",
       "      <td>380670</td>\n",
       "      <td>1084340</td>\n",
       "      <td>False</td>\n",
       "    </tr>\n",
       "    <tr>\n",
       "      <th>1264</th>\n",
       "      <td>39</td>\n",
       "      <td>Truck Simulator 2018 : Europe</td>\n",
       "      <td>758948</td>\n",
       "      <td>100.0</td>\n",
       "      <td>4</td>\n",
       "      <td>2.9</td>\n",
       "      <td>6.0</td>\n",
       "      <td>GAME SIMULATION</td>\n",
       "      <td>514724</td>\n",
       "      <td>70767</td>\n",
       "      <td>45153</td>\n",
       "      <td>28608</td>\n",
       "      <td>99693</td>\n",
       "      <td>False</td>\n",
       "    </tr>\n",
       "    <tr>\n",
       "      <th>1431</th>\n",
       "      <td>6</td>\n",
       "      <td>Castle Clash: Guild Royale</td>\n",
       "      <td>5013543</td>\n",
       "      <td>100.0</td>\n",
       "      <td>4</td>\n",
       "      <td>0.4</td>\n",
       "      <td>0.7</td>\n",
       "      <td>GAME STRATEGY</td>\n",
       "      <td>3490753</td>\n",
       "      <td>444434</td>\n",
       "      <td>253620</td>\n",
       "      <td>123462</td>\n",
       "      <td>701271</td>\n",
       "      <td>False</td>\n",
       "    </tr>\n",
       "    <tr>\n",
       "      <th>403</th>\n",
       "      <td>3</td>\n",
       "      <td>Solitaire</td>\n",
       "      <td>1590733</td>\n",
       "      <td>100.0</td>\n",
       "      <td>4</td>\n",
       "      <td>0.4</td>\n",
       "      <td>0.9</td>\n",
       "      <td>GAME CARD</td>\n",
       "      <td>431463</td>\n",
       "      <td>90350</td>\n",
       "      <td>40065</td>\n",
       "      <td>15998</td>\n",
       "      <td>70189</td>\n",
       "      <td>False</td>\n",
       "    </tr>\n",
       "    <tr>\n",
       "      <th>402</th>\n",
       "      <td>3</td>\n",
       "      <td>Solitaire</td>\n",
       "      <td>1590733</td>\n",
       "      <td>100.0</td>\n",
       "      <td>4</td>\n",
       "      <td>0.4</td>\n",
       "      <td>0.9</td>\n",
       "      <td>GAME CARD</td>\n",
       "      <td>1117298</td>\n",
       "      <td>308402</td>\n",
       "      <td>82191</td>\n",
       "      <td>25750</td>\n",
       "      <td>57090</td>\n",
       "      <td>False</td>\n",
       "    </tr>\n",
       "    <tr>\n",
       "      <th>1237</th>\n",
       "      <td>12</td>\n",
       "      <td>Dragon City Mobile</td>\n",
       "      <td>1421165</td>\n",
       "      <td>100.0</td>\n",
       "      <td>4</td>\n",
       "      <td>0.0</td>\n",
       "      <td>0.0</td>\n",
       "      <td>GAME SIMULATION</td>\n",
       "      <td>1149212</td>\n",
       "      <td>147633</td>\n",
       "      <td>52590</td>\n",
       "      <td>18948</td>\n",
       "      <td>52780</td>\n",
       "      <td>False</td>\n",
       "    </tr>\n",
       "    <tr>\n",
       "      <th>1427</th>\n",
       "      <td>2</td>\n",
       "      <td>Clash Royale</td>\n",
       "      <td>30852360</td>\n",
       "      <td>100.0</td>\n",
       "      <td>4</td>\n",
       "      <td>0.4</td>\n",
       "      <td>0.8</td>\n",
       "      <td>GAME STRATEGY</td>\n",
       "      <td>21009004</td>\n",
       "      <td>3645468</td>\n",
       "      <td>1655906</td>\n",
       "      <td>777067</td>\n",
       "      <td>3764913</td>\n",
       "      <td>False</td>\n",
       "    </tr>\n",
       "  </tbody>\n",
       "</table>\n",
       "</div>"
      ],
      "text/plain": [
       "      rank                                         title  Total_ratings  \\\n",
       "200      1                                Subway Surfers       35665901   \n",
       "626      1                              Candy Crush Saga       31367945   \n",
       "0        1                Garena Free Fire- World Series       86273129   \n",
       "207      8                                    Temple Run        4816448   \n",
       "1426     1                                Clash of Clans       55766763   \n",
       "1026     1                             Hill Climb Racing       10188038   \n",
       "1326     1                                   8 Ball Pool       21632735   \n",
       "630      5                                           Pou       11506051   \n",
       "628      3                             My Talking Angela       13050503   \n",
       "1        2                        PUBG MOBILE - Traverse       37276732   \n",
       "627      2                                My Talking Tom       16810315   \n",
       "300      1                                    Ludo King™        7512316   \n",
       "7        8                                  Temple Run 2        9633929   \n",
       "4        5  Sniper 3D: Fun Free Online FPS Shooting Game       14464235   \n",
       "1264    39                 Truck Simulator 2018 : Europe         758948   \n",
       "1431     6                    Castle Clash: Guild Royale        5013543   \n",
       "403      3                                     Solitaire        1590733   \n",
       "402      3                                     Solitaire        1590733   \n",
       "1237    12                            Dragon City Mobile        1421165   \n",
       "1427     2                                  Clash Royale       30852360   \n",
       "\n",
       "      installs_in_million  average rating  growth (30 days)  growth (60 days)  \\\n",
       "200                1000.0               4               0.5               1.0   \n",
       "626                1000.0               4               0.9               1.6   \n",
       "0                   500.0               4               2.1               6.9   \n",
       "207                 500.0               4               0.7               1.5   \n",
       "1426                500.0               4               0.3               1.0   \n",
       "1026                500.0               4               0.4               0.8   \n",
       "1326                500.0               4               1.2             630.8   \n",
       "630                 500.0               4               0.2               0.5   \n",
       "628                 500.0               4               0.6               1.4   \n",
       "1                   500.0               4               1.8               3.6   \n",
       "627                 500.0               4               0.3               0.5   \n",
       "300                 500.0               4               4.0               6.5   \n",
       "7                   500.0               4               0.3               0.8   \n",
       "4                   500.0               4               0.8               1.5   \n",
       "1264                100.0               4               2.9               6.0   \n",
       "1431                100.0               4               0.4               0.7   \n",
       "403                 100.0               4               0.4               0.9   \n",
       "402                 100.0               4               0.4               0.9   \n",
       "1237                100.0               4               0.0               0.0   \n",
       "1427                100.0               4               0.4               0.8   \n",
       "\n",
       "             category  5 star ratings  4 star ratings  3 star ratings  \\\n",
       "200       GAME ARCADE        27138572         3366600         1622695   \n",
       "626       GAME CASUAL        23837448         4176798         1534041   \n",
       "0         GAME ACTION        63546766         4949507         3158756   \n",
       "207       GAME ARCADE         3184391          438320          318164   \n",
       "1426    GAME STRATEGY        43346128         5404966         2276203   \n",
       "1026      GAME RACING         7148370          982941          607603   \n",
       "1326      GAME SPORTS        16281475         2268294         1017204   \n",
       "630       GAME CASUAL         8175679         1051014          688712   \n",
       "628       GAME CASUAL         9165205         1073761          636763   \n",
       "1         GAME ACTION        28339753         2164478         1253185   \n",
       "627       GAME CASUAL        12234051         1514188          851145   \n",
       "300        GAME BOARD         5291589          773193          369290   \n",
       "7         GAME ACTION         6579369          991341          614643   \n",
       "4         GAME ACTION         9827328         2124154         1047741   \n",
       "1264  GAME SIMULATION          514724           70767           45153   \n",
       "1431    GAME STRATEGY         3490753          444434          253620   \n",
       "403         GAME CARD          431463           90350           40065   \n",
       "402         GAME CARD         1117298          308402           82191   \n",
       "1237  GAME SIMULATION         1149212          147633           52590   \n",
       "1427    GAME STRATEGY        21009004         3645468         1655906   \n",
       "\n",
       "      2 star ratings  1 star ratings   paid  \n",
       "200           814890         2723142  False  \n",
       "626           486005         1333650  False  \n",
       "0            2122183        12495915  False  \n",
       "207           204384          671187  False  \n",
       "1426          971321         3768141  False  \n",
       "1026          338715         1110407  False  \n",
       "1326          425693         1640067  False  \n",
       "630           346244         1244400  False  \n",
       "628           399662         1775110  False  \n",
       "1             809821         4709492  False  \n",
       "627           465627         1745303  False  \n",
       "300           204053          874188  False  \n",
       "7             349003         1099571  False  \n",
       "4             380670         1084340  False  \n",
       "1264           28608           99693  False  \n",
       "1431          123462          701271  False  \n",
       "403            15998           70189  False  \n",
       "402            25750           57090  False  \n",
       "1237           18948           52780  False  \n",
       "1427          777067         3764913  False  "
      ]
     },
     "execution_count": 34,
     "metadata": {},
     "output_type": "execute_result"
    }
   ],
   "source": [
    "top_20 = data.sort_values(by='installs_in_million', ascending=False).head(20)\n",
    "top_20"
   ]
  },
  {
   "cell_type": "code",
   "execution_count": 35,
   "id": "abaeb06f",
   "metadata": {
    "execution": {
     "iopub.execute_input": "2021-08-08T05:46:45.590252Z",
     "iopub.status.busy": "2021-08-08T05:46:45.589603Z",
     "iopub.status.idle": "2021-08-08T05:46:45.696615Z",
     "shell.execute_reply": "2021-08-08T05:46:45.696123Z",
     "shell.execute_reply.started": "2021-08-08T05:16:55.480399Z"
    },
    "papermill": {
     "duration": 0.154843,
     "end_time": "2021-08-08T05:46:45.696770",
     "exception": false,
     "start_time": "2021-08-08T05:46:45.541927",
     "status": "completed"
    },
    "tags": []
   },
   "outputs": [
    {
     "data": {
      "text/html": [
       "<div>                            <div id=\"424cf215-38a1-44a9-b626-e6569e4362e0\" class=\"plotly-graph-div\" style=\"height:525px; width:100%;\"></div>            <script type=\"text/javascript\">                require([\"plotly\"], function(Plotly) {                    window.PLOTLYENV=window.PLOTLYENV || {};                                    if (document.getElementById(\"424cf215-38a1-44a9-b626-e6569e4362e0\")) {                    Plotly.newPlot(                        \"424cf215-38a1-44a9-b626-e6569e4362e0\",                        [{\"alignmentgroup\":\"True\",\"customdata\":[[27138572],[3184391]],\"hovertemplate\":\"category=GAME ARCADE<br>title=%{x}<br>installs_in_million=%{y}<br>5 star ratings=%{customdata[0]}<extra></extra>\",\"legendgroup\":\"GAME ARCADE\",\"marker\":{\"color\":\"#636efa\",\"pattern\":{\"shape\":\"\"}},\"name\":\"GAME ARCADE\",\"offsetgroup\":\"GAME ARCADE\",\"orientation\":\"v\",\"showlegend\":true,\"textposition\":\"auto\",\"type\":\"bar\",\"x\":[\"Subway Surfers\",\"Temple Run\"],\"xaxis\":\"x\",\"y\":[1000.0,500.0],\"yaxis\":\"y\"},{\"alignmentgroup\":\"True\",\"customdata\":[[23837448],[8175679],[9165205],[12234051]],\"hovertemplate\":\"category=GAME CASUAL<br>title=%{x}<br>installs_in_million=%{y}<br>5 star ratings=%{customdata[0]}<extra></extra>\",\"legendgroup\":\"GAME CASUAL\",\"marker\":{\"color\":\"#EF553B\",\"pattern\":{\"shape\":\"\"}},\"name\":\"GAME CASUAL\",\"offsetgroup\":\"GAME CASUAL\",\"orientation\":\"v\",\"showlegend\":true,\"textposition\":\"auto\",\"type\":\"bar\",\"x\":[\"Candy Crush Saga\",\"Pou\",\"My Talking Angela\",\"My Talking Tom\"],\"xaxis\":\"x\",\"y\":[1000.0,500.0,500.0,500.0],\"yaxis\":\"y\"},{\"alignmentgroup\":\"True\",\"customdata\":[[63546766],[28339753],[6579369],[9827328]],\"hovertemplate\":\"category=GAME ACTION<br>title=%{x}<br>installs_in_million=%{y}<br>5 star ratings=%{customdata[0]}<extra></extra>\",\"legendgroup\":\"GAME ACTION\",\"marker\":{\"color\":\"#00cc96\",\"pattern\":{\"shape\":\"\"}},\"name\":\"GAME ACTION\",\"offsetgroup\":\"GAME ACTION\",\"orientation\":\"v\",\"showlegend\":true,\"textposition\":\"auto\",\"type\":\"bar\",\"x\":[\"Garena Free Fire- World Series\",\"PUBG MOBILE - Traverse\",\"Temple Run 2\",\"Sniper 3D: Fun Free Online FPS Shooting Game\"],\"xaxis\":\"x\",\"y\":[500.0,500.0,500.0,500.0],\"yaxis\":\"y\"},{\"alignmentgroup\":\"True\",\"customdata\":[[43346128],[3490753],[21009004]],\"hovertemplate\":\"category=GAME STRATEGY<br>title=%{x}<br>installs_in_million=%{y}<br>5 star ratings=%{customdata[0]}<extra></extra>\",\"legendgroup\":\"GAME STRATEGY\",\"marker\":{\"color\":\"#ab63fa\",\"pattern\":{\"shape\":\"\"}},\"name\":\"GAME STRATEGY\",\"offsetgroup\":\"GAME STRATEGY\",\"orientation\":\"v\",\"showlegend\":true,\"textposition\":\"auto\",\"type\":\"bar\",\"x\":[\"Clash of Clans\",\"Castle Clash: Guild Royale\",\"Clash Royale\"],\"xaxis\":\"x\",\"y\":[500.0,100.0,100.0],\"yaxis\":\"y\"},{\"alignmentgroup\":\"True\",\"customdata\":[[7148370]],\"hovertemplate\":\"category=GAME RACING<br>title=%{x}<br>installs_in_million=%{y}<br>5 star ratings=%{customdata[0]}<extra></extra>\",\"legendgroup\":\"GAME RACING\",\"marker\":{\"color\":\"#FFA15A\",\"pattern\":{\"shape\":\"\"}},\"name\":\"GAME RACING\",\"offsetgroup\":\"GAME RACING\",\"orientation\":\"v\",\"showlegend\":true,\"textposition\":\"auto\",\"type\":\"bar\",\"x\":[\"Hill Climb Racing\"],\"xaxis\":\"x\",\"y\":[500.0],\"yaxis\":\"y\"},{\"alignmentgroup\":\"True\",\"customdata\":[[16281475]],\"hovertemplate\":\"category=GAME SPORTS<br>title=%{x}<br>installs_in_million=%{y}<br>5 star ratings=%{customdata[0]}<extra></extra>\",\"legendgroup\":\"GAME SPORTS\",\"marker\":{\"color\":\"#19d3f3\",\"pattern\":{\"shape\":\"\"}},\"name\":\"GAME SPORTS\",\"offsetgroup\":\"GAME SPORTS\",\"orientation\":\"v\",\"showlegend\":true,\"textposition\":\"auto\",\"type\":\"bar\",\"x\":[\"8 Ball Pool\"],\"xaxis\":\"x\",\"y\":[500.0],\"yaxis\":\"y\"},{\"alignmentgroup\":\"True\",\"customdata\":[[5291589]],\"hovertemplate\":\"category=GAME BOARD<br>title=%{x}<br>installs_in_million=%{y}<br>5 star ratings=%{customdata[0]}<extra></extra>\",\"legendgroup\":\"GAME BOARD\",\"marker\":{\"color\":\"#FF6692\",\"pattern\":{\"shape\":\"\"}},\"name\":\"GAME BOARD\",\"offsetgroup\":\"GAME BOARD\",\"orientation\":\"v\",\"showlegend\":true,\"textposition\":\"auto\",\"type\":\"bar\",\"x\":[\"Ludo King\\u2122\"],\"xaxis\":\"x\",\"y\":[500.0],\"yaxis\":\"y\"},{\"alignmentgroup\":\"True\",\"customdata\":[[514724],[1149212]],\"hovertemplate\":\"category=GAME SIMULATION<br>title=%{x}<br>installs_in_million=%{y}<br>5 star ratings=%{customdata[0]}<extra></extra>\",\"legendgroup\":\"GAME SIMULATION\",\"marker\":{\"color\":\"#B6E880\",\"pattern\":{\"shape\":\"\"}},\"name\":\"GAME SIMULATION\",\"offsetgroup\":\"GAME SIMULATION\",\"orientation\":\"v\",\"showlegend\":true,\"textposition\":\"auto\",\"type\":\"bar\",\"x\":[\"Truck Simulator 2018 : Europe\",\"Dragon City Mobile\"],\"xaxis\":\"x\",\"y\":[100.0,100.0],\"yaxis\":\"y\"},{\"alignmentgroup\":\"True\",\"customdata\":[[431463],[1117298]],\"hovertemplate\":\"category=GAME CARD<br>title=%{x}<br>installs_in_million=%{y}<br>5 star ratings=%{customdata[0]}<extra></extra>\",\"legendgroup\":\"GAME CARD\",\"marker\":{\"color\":\"#FF97FF\",\"pattern\":{\"shape\":\"\"}},\"name\":\"GAME CARD\",\"offsetgroup\":\"GAME CARD\",\"orientation\":\"v\",\"showlegend\":true,\"textposition\":\"auto\",\"type\":\"bar\",\"x\":[\"Solitaire\",\"Solitaire\"],\"xaxis\":\"x\",\"y\":[100.0,100.0],\"yaxis\":\"y\"}],                        {\"barmode\":\"relative\",\"legend\":{\"title\":{\"text\":\"category\"},\"tracegroupgap\":0},\"margin\":{\"t\":60},\"template\":{\"data\":{\"bar\":[{\"error_x\":{\"color\":\"#2a3f5f\"},\"error_y\":{\"color\":\"#2a3f5f\"},\"marker\":{\"line\":{\"color\":\"#E5ECF6\",\"width\":0.5},\"pattern\":{\"fillmode\":\"overlay\",\"size\":10,\"solidity\":0.2}},\"type\":\"bar\"}],\"barpolar\":[{\"marker\":{\"line\":{\"color\":\"#E5ECF6\",\"width\":0.5},\"pattern\":{\"fillmode\":\"overlay\",\"size\":10,\"solidity\":0.2}},\"type\":\"barpolar\"}],\"carpet\":[{\"aaxis\":{\"endlinecolor\":\"#2a3f5f\",\"gridcolor\":\"white\",\"linecolor\":\"white\",\"minorgridcolor\":\"white\",\"startlinecolor\":\"#2a3f5f\"},\"baxis\":{\"endlinecolor\":\"#2a3f5f\",\"gridcolor\":\"white\",\"linecolor\":\"white\",\"minorgridcolor\":\"white\",\"startlinecolor\":\"#2a3f5f\"},\"type\":\"carpet\"}],\"choropleth\":[{\"colorbar\":{\"outlinewidth\":0,\"ticks\":\"\"},\"type\":\"choropleth\"}],\"contour\":[{\"colorbar\":{\"outlinewidth\":0,\"ticks\":\"\"},\"colorscale\":[[0.0,\"#0d0887\"],[0.1111111111111111,\"#46039f\"],[0.2222222222222222,\"#7201a8\"],[0.3333333333333333,\"#9c179e\"],[0.4444444444444444,\"#bd3786\"],[0.5555555555555556,\"#d8576b\"],[0.6666666666666666,\"#ed7953\"],[0.7777777777777778,\"#fb9f3a\"],[0.8888888888888888,\"#fdca26\"],[1.0,\"#f0f921\"]],\"type\":\"contour\"}],\"contourcarpet\":[{\"colorbar\":{\"outlinewidth\":0,\"ticks\":\"\"},\"type\":\"contourcarpet\"}],\"heatmap\":[{\"colorbar\":{\"outlinewidth\":0,\"ticks\":\"\"},\"colorscale\":[[0.0,\"#0d0887\"],[0.1111111111111111,\"#46039f\"],[0.2222222222222222,\"#7201a8\"],[0.3333333333333333,\"#9c179e\"],[0.4444444444444444,\"#bd3786\"],[0.5555555555555556,\"#d8576b\"],[0.6666666666666666,\"#ed7953\"],[0.7777777777777778,\"#fb9f3a\"],[0.8888888888888888,\"#fdca26\"],[1.0,\"#f0f921\"]],\"type\":\"heatmap\"}],\"heatmapgl\":[{\"colorbar\":{\"outlinewidth\":0,\"ticks\":\"\"},\"colorscale\":[[0.0,\"#0d0887\"],[0.1111111111111111,\"#46039f\"],[0.2222222222222222,\"#7201a8\"],[0.3333333333333333,\"#9c179e\"],[0.4444444444444444,\"#bd3786\"],[0.5555555555555556,\"#d8576b\"],[0.6666666666666666,\"#ed7953\"],[0.7777777777777778,\"#fb9f3a\"],[0.8888888888888888,\"#fdca26\"],[1.0,\"#f0f921\"]],\"type\":\"heatmapgl\"}],\"histogram\":[{\"marker\":{\"pattern\":{\"fillmode\":\"overlay\",\"size\":10,\"solidity\":0.2}},\"type\":\"histogram\"}],\"histogram2d\":[{\"colorbar\":{\"outlinewidth\":0,\"ticks\":\"\"},\"colorscale\":[[0.0,\"#0d0887\"],[0.1111111111111111,\"#46039f\"],[0.2222222222222222,\"#7201a8\"],[0.3333333333333333,\"#9c179e\"],[0.4444444444444444,\"#bd3786\"],[0.5555555555555556,\"#d8576b\"],[0.6666666666666666,\"#ed7953\"],[0.7777777777777778,\"#fb9f3a\"],[0.8888888888888888,\"#fdca26\"],[1.0,\"#f0f921\"]],\"type\":\"histogram2d\"}],\"histogram2dcontour\":[{\"colorbar\":{\"outlinewidth\":0,\"ticks\":\"\"},\"colorscale\":[[0.0,\"#0d0887\"],[0.1111111111111111,\"#46039f\"],[0.2222222222222222,\"#7201a8\"],[0.3333333333333333,\"#9c179e\"],[0.4444444444444444,\"#bd3786\"],[0.5555555555555556,\"#d8576b\"],[0.6666666666666666,\"#ed7953\"],[0.7777777777777778,\"#fb9f3a\"],[0.8888888888888888,\"#fdca26\"],[1.0,\"#f0f921\"]],\"type\":\"histogram2dcontour\"}],\"mesh3d\":[{\"colorbar\":{\"outlinewidth\":0,\"ticks\":\"\"},\"type\":\"mesh3d\"}],\"parcoords\":[{\"line\":{\"colorbar\":{\"outlinewidth\":0,\"ticks\":\"\"}},\"type\":\"parcoords\"}],\"pie\":[{\"automargin\":true,\"type\":\"pie\"}],\"scatter\":[{\"marker\":{\"colorbar\":{\"outlinewidth\":0,\"ticks\":\"\"}},\"type\":\"scatter\"}],\"scatter3d\":[{\"line\":{\"colorbar\":{\"outlinewidth\":0,\"ticks\":\"\"}},\"marker\":{\"colorbar\":{\"outlinewidth\":0,\"ticks\":\"\"}},\"type\":\"scatter3d\"}],\"scattercarpet\":[{\"marker\":{\"colorbar\":{\"outlinewidth\":0,\"ticks\":\"\"}},\"type\":\"scattercarpet\"}],\"scattergeo\":[{\"marker\":{\"colorbar\":{\"outlinewidth\":0,\"ticks\":\"\"}},\"type\":\"scattergeo\"}],\"scattergl\":[{\"marker\":{\"colorbar\":{\"outlinewidth\":0,\"ticks\":\"\"}},\"type\":\"scattergl\"}],\"scattermapbox\":[{\"marker\":{\"colorbar\":{\"outlinewidth\":0,\"ticks\":\"\"}},\"type\":\"scattermapbox\"}],\"scatterpolar\":[{\"marker\":{\"colorbar\":{\"outlinewidth\":0,\"ticks\":\"\"}},\"type\":\"scatterpolar\"}],\"scatterpolargl\":[{\"marker\":{\"colorbar\":{\"outlinewidth\":0,\"ticks\":\"\"}},\"type\":\"scatterpolargl\"}],\"scatterternary\":[{\"marker\":{\"colorbar\":{\"outlinewidth\":0,\"ticks\":\"\"}},\"type\":\"scatterternary\"}],\"surface\":[{\"colorbar\":{\"outlinewidth\":0,\"ticks\":\"\"},\"colorscale\":[[0.0,\"#0d0887\"],[0.1111111111111111,\"#46039f\"],[0.2222222222222222,\"#7201a8\"],[0.3333333333333333,\"#9c179e\"],[0.4444444444444444,\"#bd3786\"],[0.5555555555555556,\"#d8576b\"],[0.6666666666666666,\"#ed7953\"],[0.7777777777777778,\"#fb9f3a\"],[0.8888888888888888,\"#fdca26\"],[1.0,\"#f0f921\"]],\"type\":\"surface\"}],\"table\":[{\"cells\":{\"fill\":{\"color\":\"#EBF0F8\"},\"line\":{\"color\":\"white\"}},\"header\":{\"fill\":{\"color\":\"#C8D4E3\"},\"line\":{\"color\":\"white\"}},\"type\":\"table\"}]},\"layout\":{\"annotationdefaults\":{\"arrowcolor\":\"#2a3f5f\",\"arrowhead\":0,\"arrowwidth\":1},\"autotypenumbers\":\"strict\",\"coloraxis\":{\"colorbar\":{\"outlinewidth\":0,\"ticks\":\"\"}},\"colorscale\":{\"diverging\":[[0,\"#8e0152\"],[0.1,\"#c51b7d\"],[0.2,\"#de77ae\"],[0.3,\"#f1b6da\"],[0.4,\"#fde0ef\"],[0.5,\"#f7f7f7\"],[0.6,\"#e6f5d0\"],[0.7,\"#b8e186\"],[0.8,\"#7fbc41\"],[0.9,\"#4d9221\"],[1,\"#276419\"]],\"sequential\":[[0.0,\"#0d0887\"],[0.1111111111111111,\"#46039f\"],[0.2222222222222222,\"#7201a8\"],[0.3333333333333333,\"#9c179e\"],[0.4444444444444444,\"#bd3786\"],[0.5555555555555556,\"#d8576b\"],[0.6666666666666666,\"#ed7953\"],[0.7777777777777778,\"#fb9f3a\"],[0.8888888888888888,\"#fdca26\"],[1.0,\"#f0f921\"]],\"sequentialminus\":[[0.0,\"#0d0887\"],[0.1111111111111111,\"#46039f\"],[0.2222222222222222,\"#7201a8\"],[0.3333333333333333,\"#9c179e\"],[0.4444444444444444,\"#bd3786\"],[0.5555555555555556,\"#d8576b\"],[0.6666666666666666,\"#ed7953\"],[0.7777777777777778,\"#fb9f3a\"],[0.8888888888888888,\"#fdca26\"],[1.0,\"#f0f921\"]]},\"colorway\":[\"#636efa\",\"#EF553B\",\"#00cc96\",\"#ab63fa\",\"#FFA15A\",\"#19d3f3\",\"#FF6692\",\"#B6E880\",\"#FF97FF\",\"#FECB52\"],\"font\":{\"color\":\"#2a3f5f\"},\"geo\":{\"bgcolor\":\"white\",\"lakecolor\":\"white\",\"landcolor\":\"#E5ECF6\",\"showlakes\":true,\"showland\":true,\"subunitcolor\":\"white\"},\"hoverlabel\":{\"align\":\"left\"},\"hovermode\":\"closest\",\"mapbox\":{\"style\":\"light\"},\"paper_bgcolor\":\"white\",\"plot_bgcolor\":\"#E5ECF6\",\"polar\":{\"angularaxis\":{\"gridcolor\":\"white\",\"linecolor\":\"white\",\"ticks\":\"\"},\"bgcolor\":\"#E5ECF6\",\"radialaxis\":{\"gridcolor\":\"white\",\"linecolor\":\"white\",\"ticks\":\"\"}},\"scene\":{\"xaxis\":{\"backgroundcolor\":\"#E5ECF6\",\"gridcolor\":\"white\",\"gridwidth\":2,\"linecolor\":\"white\",\"showbackground\":true,\"ticks\":\"\",\"zerolinecolor\":\"white\"},\"yaxis\":{\"backgroundcolor\":\"#E5ECF6\",\"gridcolor\":\"white\",\"gridwidth\":2,\"linecolor\":\"white\",\"showbackground\":true,\"ticks\":\"\",\"zerolinecolor\":\"white\"},\"zaxis\":{\"backgroundcolor\":\"#E5ECF6\",\"gridcolor\":\"white\",\"gridwidth\":2,\"linecolor\":\"white\",\"showbackground\":true,\"ticks\":\"\",\"zerolinecolor\":\"white\"}},\"shapedefaults\":{\"line\":{\"color\":\"#2a3f5f\"}},\"ternary\":{\"aaxis\":{\"gridcolor\":\"white\",\"linecolor\":\"white\",\"ticks\":\"\"},\"baxis\":{\"gridcolor\":\"white\",\"linecolor\":\"white\",\"ticks\":\"\"},\"bgcolor\":\"#E5ECF6\",\"caxis\":{\"gridcolor\":\"white\",\"linecolor\":\"white\",\"ticks\":\"\"}},\"title\":{\"x\":0.05},\"xaxis\":{\"automargin\":true,\"gridcolor\":\"white\",\"linecolor\":\"white\",\"ticks\":\"\",\"title\":{\"standoff\":15},\"zerolinecolor\":\"white\",\"zerolinewidth\":2},\"yaxis\":{\"automargin\":true,\"gridcolor\":\"white\",\"linecolor\":\"white\",\"ticks\":\"\",\"title\":{\"standoff\":15},\"zerolinecolor\":\"white\",\"zerolinewidth\":2}}},\"xaxis\":{\"anchor\":\"y\",\"categoryorder\":\"total descending\",\"domain\":[0.0,1.0],\"title\":{\"text\":\"title\"}},\"yaxis\":{\"anchor\":\"x\",\"domain\":[0.0,1.0],\"title\":{\"text\":\"installs_in_million\"}}},                        {\"responsive\": true}                    ).then(function(){\n",
       "                            \n",
       "var gd = document.getElementById('424cf215-38a1-44a9-b626-e6569e4362e0');\n",
       "var x = new MutationObserver(function (mutations, observer) {{\n",
       "        var display = window.getComputedStyle(gd).display;\n",
       "        if (!display || display === 'none') {{\n",
       "            console.log([gd, 'removed!']);\n",
       "            Plotly.purge(gd);\n",
       "            observer.disconnect();\n",
       "        }}\n",
       "}});\n",
       "\n",
       "// Listen for the removal of the full notebook cells\n",
       "var notebookContainer = gd.closest('#notebook-container');\n",
       "if (notebookContainer) {{\n",
       "    x.observe(notebookContainer, {childList: true});\n",
       "}}\n",
       "\n",
       "// Listen for the clearing of the current output cell\n",
       "var outputEl = gd.closest('.output');\n",
       "if (outputEl) {{\n",
       "    x.observe(outputEl, {childList: true});\n",
       "}}\n",
       "\n",
       "                        })                };                });            </script>        </div>"
      ]
     },
     "metadata": {},
     "output_type": "display_data"
    }
   ],
   "source": [
    "fig = px.bar(top_20, x= 'title', y='installs_in_million', hover_data = top_20[['5 star ratings']], color='category')\n",
    "fig.update_layout(xaxis={'categoryorder':'total descending'})\n",
    "fig.show()"
   ]
  },
  {
   "cell_type": "code",
   "execution_count": null,
   "id": "cbca41a9",
   "metadata": {
    "papermill": {
     "duration": 0.044069,
     "end_time": "2021-08-08T05:46:45.788737",
     "exception": false,
     "start_time": "2021-08-08T05:46:45.744668",
     "status": "completed"
    },
    "tags": []
   },
   "outputs": [],
   "source": []
  }
 ],
 "metadata": {
  "kernelspec": {
   "display_name": "Python 3",
   "language": "python",
   "name": "python3"
  },
  "language_info": {
   "codemirror_mode": {
    "name": "ipython",
    "version": 3
   },
   "file_extension": ".py",
   "mimetype": "text/x-python",
   "name": "python",
   "nbconvert_exporter": "python",
   "pygments_lexer": "ipython3",
   "version": "3.7.10"
  },
  "papermill": {
   "default_parameters": {},
   "duration": 19.846244,
   "end_time": "2021-08-08T05:46:47.464277",
   "environment_variables": {},
   "exception": null,
   "input_path": "__notebook__.ipynb",
   "output_path": "__notebook__.ipynb",
   "parameters": {},
   "start_time": "2021-08-08T05:46:27.618033",
   "version": "2.3.3"
  }
 },
 "nbformat": 4,
 "nbformat_minor": 5
}
